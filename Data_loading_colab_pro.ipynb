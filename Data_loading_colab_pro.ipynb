{
  "cells": [
    {
      "cell_type": "code",
      "source": [
        "from google.colab import files\n",
        "uploaded = files.upload()\n"
      ],
      "metadata": {
        "colab": {
          "base_uri": "https://localhost:8080/",
          "height": 69
        },
        "id": "Qac7pGkfK6k2",
        "outputId": "c05ef9f8-8072-453e-edcb-98a9074a4f89"
      },
      "execution_count": 63,
      "outputs": [
        {
          "output_type": "display_data",
          "data": {
            "text/plain": [
              "<IPython.core.display.HTML object>"
            ],
            "text/html": [
              "\n",
              "     <input type=\"file\" id=\"files-86c3df31-8ac5-4ab1-934b-4260bfdcb05b\" name=\"files[]\" multiple disabled\n",
              "        style=\"border:none\" />\n",
              "     <output id=\"result-86c3df31-8ac5-4ab1-934b-4260bfdcb05b\">\n",
              "      Upload widget is only available when the cell has been executed in the\n",
              "      current browser session. Please rerun this cell to enable.\n",
              "      </output>\n",
              "      <script>// Copyright 2017 Google LLC\n",
              "//\n",
              "// Licensed under the Apache License, Version 2.0 (the \"License\");\n",
              "// you may not use this file except in compliance with the License.\n",
              "// You may obtain a copy of the License at\n",
              "//\n",
              "//      http://www.apache.org/licenses/LICENSE-2.0\n",
              "//\n",
              "// Unless required by applicable law or agreed to in writing, software\n",
              "// distributed under the License is distributed on an \"AS IS\" BASIS,\n",
              "// WITHOUT WARRANTIES OR CONDITIONS OF ANY KIND, either express or implied.\n",
              "// See the License for the specific language governing permissions and\n",
              "// limitations under the License.\n",
              "\n",
              "/**\n",
              " * @fileoverview Helpers for google.colab Python module.\n",
              " */\n",
              "(function(scope) {\n",
              "function span(text, styleAttributes = {}) {\n",
              "  const element = document.createElement('span');\n",
              "  element.textContent = text;\n",
              "  for (const key of Object.keys(styleAttributes)) {\n",
              "    element.style[key] = styleAttributes[key];\n",
              "  }\n",
              "  return element;\n",
              "}\n",
              "\n",
              "// Max number of bytes which will be uploaded at a time.\n",
              "const MAX_PAYLOAD_SIZE = 100 * 1024;\n",
              "\n",
              "function _uploadFiles(inputId, outputId) {\n",
              "  const steps = uploadFilesStep(inputId, outputId);\n",
              "  const outputElement = document.getElementById(outputId);\n",
              "  // Cache steps on the outputElement to make it available for the next call\n",
              "  // to uploadFilesContinue from Python.\n",
              "  outputElement.steps = steps;\n",
              "\n",
              "  return _uploadFilesContinue(outputId);\n",
              "}\n",
              "\n",
              "// This is roughly an async generator (not supported in the browser yet),\n",
              "// where there are multiple asynchronous steps and the Python side is going\n",
              "// to poll for completion of each step.\n",
              "// This uses a Promise to block the python side on completion of each step,\n",
              "// then passes the result of the previous step as the input to the next step.\n",
              "function _uploadFilesContinue(outputId) {\n",
              "  const outputElement = document.getElementById(outputId);\n",
              "  const steps = outputElement.steps;\n",
              "\n",
              "  const next = steps.next(outputElement.lastPromiseValue);\n",
              "  return Promise.resolve(next.value.promise).then((value) => {\n",
              "    // Cache the last promise value to make it available to the next\n",
              "    // step of the generator.\n",
              "    outputElement.lastPromiseValue = value;\n",
              "    return next.value.response;\n",
              "  });\n",
              "}\n",
              "\n",
              "/**\n",
              " * Generator function which is called between each async step of the upload\n",
              " * process.\n",
              " * @param {string} inputId Element ID of the input file picker element.\n",
              " * @param {string} outputId Element ID of the output display.\n",
              " * @return {!Iterable<!Object>} Iterable of next steps.\n",
              " */\n",
              "function* uploadFilesStep(inputId, outputId) {\n",
              "  const inputElement = document.getElementById(inputId);\n",
              "  inputElement.disabled = false;\n",
              "\n",
              "  const outputElement = document.getElementById(outputId);\n",
              "  outputElement.innerHTML = '';\n",
              "\n",
              "  const pickedPromise = new Promise((resolve) => {\n",
              "    inputElement.addEventListener('change', (e) => {\n",
              "      resolve(e.target.files);\n",
              "    });\n",
              "  });\n",
              "\n",
              "  const cancel = document.createElement('button');\n",
              "  inputElement.parentElement.appendChild(cancel);\n",
              "  cancel.textContent = 'Cancel upload';\n",
              "  const cancelPromise = new Promise((resolve) => {\n",
              "    cancel.onclick = () => {\n",
              "      resolve(null);\n",
              "    };\n",
              "  });\n",
              "\n",
              "  // Wait for the user to pick the files.\n",
              "  const files = yield {\n",
              "    promise: Promise.race([pickedPromise, cancelPromise]),\n",
              "    response: {\n",
              "      action: 'starting',\n",
              "    }\n",
              "  };\n",
              "\n",
              "  cancel.remove();\n",
              "\n",
              "  // Disable the input element since further picks are not allowed.\n",
              "  inputElement.disabled = true;\n",
              "\n",
              "  if (!files) {\n",
              "    return {\n",
              "      response: {\n",
              "        action: 'complete',\n",
              "      }\n",
              "    };\n",
              "  }\n",
              "\n",
              "  for (const file of files) {\n",
              "    const li = document.createElement('li');\n",
              "    li.append(span(file.name, {fontWeight: 'bold'}));\n",
              "    li.append(span(\n",
              "        `(${file.type || 'n/a'}) - ${file.size} bytes, ` +\n",
              "        `last modified: ${\n",
              "            file.lastModifiedDate ? file.lastModifiedDate.toLocaleDateString() :\n",
              "                                    'n/a'} - `));\n",
              "    const percent = span('0% done');\n",
              "    li.appendChild(percent);\n",
              "\n",
              "    outputElement.appendChild(li);\n",
              "\n",
              "    const fileDataPromise = new Promise((resolve) => {\n",
              "      const reader = new FileReader();\n",
              "      reader.onload = (e) => {\n",
              "        resolve(e.target.result);\n",
              "      };\n",
              "      reader.readAsArrayBuffer(file);\n",
              "    });\n",
              "    // Wait for the data to be ready.\n",
              "    let fileData = yield {\n",
              "      promise: fileDataPromise,\n",
              "      response: {\n",
              "        action: 'continue',\n",
              "      }\n",
              "    };\n",
              "\n",
              "    // Use a chunked sending to avoid message size limits. See b/62115660.\n",
              "    let position = 0;\n",
              "    do {\n",
              "      const length = Math.min(fileData.byteLength - position, MAX_PAYLOAD_SIZE);\n",
              "      const chunk = new Uint8Array(fileData, position, length);\n",
              "      position += length;\n",
              "\n",
              "      const base64 = btoa(String.fromCharCode.apply(null, chunk));\n",
              "      yield {\n",
              "        response: {\n",
              "          action: 'append',\n",
              "          file: file.name,\n",
              "          data: base64,\n",
              "        },\n",
              "      };\n",
              "\n",
              "      let percentDone = fileData.byteLength === 0 ?\n",
              "          100 :\n",
              "          Math.round((position / fileData.byteLength) * 100);\n",
              "      percent.textContent = `${percentDone}% done`;\n",
              "\n",
              "    } while (position < fileData.byteLength);\n",
              "  }\n",
              "\n",
              "  // All done.\n",
              "  yield {\n",
              "    response: {\n",
              "      action: 'complete',\n",
              "    }\n",
              "  };\n",
              "}\n",
              "\n",
              "scope.google = scope.google || {};\n",
              "scope.google.colab = scope.google.colab || {};\n",
              "scope.google.colab._files = {\n",
              "  _uploadFiles,\n",
              "  _uploadFilesContinue,\n",
              "};\n",
              "})(self);\n",
              "</script> "
            ]
          },
          "metadata": {}
        },
        {
          "output_type": "stream",
          "name": "stdout",
          "text": [
            "Saving Transformer_model.py to Transformer_model (2).py\n"
          ]
        }
      ]
    },
    {
      "cell_type": "code",
      "source": [
        "from google.colab import drive\n",
        "drive.mount('/content/drive')"
      ],
      "metadata": {
        "colab": {
          "base_uri": "https://localhost:8080/"
        },
        "id": "Tc5ywJ6cL_8b",
        "outputId": "08171dc0-6b45-4e50-f143-6927bb05cd69"
      },
      "execution_count": 64,
      "outputs": [
        {
          "output_type": "stream",
          "name": "stdout",
          "text": [
            "Drive already mounted at /content/drive; to attempt to forcibly remount, call drive.mount(\"/content/drive\", force_remount=True).\n"
          ]
        }
      ]
    },
    {
      "cell_type": "code",
      "execution_count": 66,
      "metadata": {
        "id": "JwuRAlB5HpM3"
      },
      "outputs": [],
      "source": [
        "import numpy as np\n",
        "import os\n",
        "import torch\n",
        "from torch import nn\n",
        "#from transformer import Transformer\n",
        "from Transformer_model import Transformer\n",
        "from torch.utils.data import Dataset, DataLoader"
      ]
    },
    {
      "cell_type": "code",
      "execution_count": 67,
      "metadata": {
        "id": "mWlpCp5WHpM5"
      },
      "outputs": [],
      "source": [
        "START_TOKEN = '<START>'\n",
        "PADDING_TOKEN = '<PADDING>'\n",
        "END_TOKEN = '<END>'\n",
        "\n",
        "# Vocabularies\n",
        "hindi_vocab = [\n",
        "    START_TOKEN, ' ', '!', '\"', '#', '$', '%', '&', \"'\", '(', ')', '*', '+', ',', '-', '.', '/',\n",
        "    '0', '1', '2', '3', '4', '5', '6', '7', '8', '9', ':', '<', '=', '>', '?', '।', '॥',\n",
        "    'अ', 'आ', 'इ', 'ई', 'उ', 'ऊ', 'ऋ', 'ए', 'ऐ', 'ओ', 'औ',\n",
        "    'क', 'ख', 'ग', 'घ', 'ङ',\n",
        "    'च', 'छ', 'ज', 'झ', 'ञ',\n",
        "    'ट', 'ठ', 'ड', 'ढ', 'ण',\n",
        "    'त', 'थ', 'द', 'ध', 'न',\n",
        "    'प', 'फ', 'ब', 'भ', 'म',\n",
        "    'य', 'र', 'ल', 'व', 'श', 'ष', 'स', 'ह',\n",
        "    'ा', 'ि', 'ी', 'ु', 'ू', 'ृ', 'े', 'ै', 'ो', 'ौ', '्', 'ॐ',\n",
        "    '०', '१', '२', '३', '४', '५', '६', '७', '८', '९', PADDING_TOKEN, END_TOKEN]\n",
        "\n",
        "english_vocab = [START_TOKEN, ' ', '!', '\"', '#', '$', '%', '&', \"'\", '(', ')', '*', '+', ',', '-', '.', '/',\n",
        "                      '0', '1', '2', '3', '4', '5', '6', '7', '8', '9',\n",
        "                      ':', '<', '=', '>', '?', '@',\n",
        "                      '[', '\\\\', ']', '^', '_', '`',\n",
        "                      'a', 'b', 'c', 'd', 'e', 'f', 'g', 'h', 'i', 'j', 'k', 'l',\n",
        "                      'm', 'n', 'o', 'p', 'q', 'r', 's', 't', 'u', 'v', 'w', 'x',\n",
        "                      'y', 'z',\n",
        "                      '{', '|', '}', '~', PADDING_TOKEN, END_TOKEN]\n",
        "\n"
      ]
    },
    {
      "cell_type": "code",
      "execution_count": 68,
      "metadata": {
        "colab": {
          "base_uri": "https://localhost:8080/"
        },
        "id": "7OUEiqqLHpM5",
        "outputId": "172c2090-862f-4825-8b02-e91724e4159c"
      },
      "outputs": [
        {
          "output_type": "stream",
          "name": "stdout",
          "text": [
            "102\n",
            "71\n"
          ]
        }
      ],
      "source": [
        "index_eng = { i:c for i,c in enumerate(english_vocab)}\n",
        "eng_index = { c:i for i,c in enumerate(english_vocab)}\n",
        "index_hin = { i:c for i,c in enumerate(hindi_vocab)}\n",
        "hin_index = { c:i for i,c in enumerate(hindi_vocab)}\n",
        "print(len(hin_index))\n",
        "print(len(eng_index))"
      ]
    },
    {
      "cell_type": "code",
      "execution_count": 69,
      "metadata": {
        "colab": {
          "base_uri": "https://localhost:8080/"
        },
        "id": "o5LBpc_FHpM6",
        "outputId": "4587747d-ceca-4dd1-a3c7-26f07468d971"
      },
      "outputs": [
        {
          "output_type": "stream",
          "name": "stdout",
          "text": [
            "10125706\n"
          ]
        }
      ],
      "source": [
        "eng_file = '/content/drive/MyDrive/train.en'\n",
        "hin_file = '/content/drive/MyDrive/train.hi'\n",
        "\n",
        "def read_lines(file_name):\n",
        "    with open(file_name, 'r') as file:\n",
        "        sentence = file.readlines()\n",
        "        return sentence\n",
        "\n",
        "eng_sentence = read_lines(eng_file)\n",
        "hin_sentence = read_lines(hin_file)\n",
        "print(len(eng_sentence))\n",
        "# storing sentences to a list of max length\n",
        "max_len = 1800000\n",
        "eng_sentence = eng_sentence[:max_len]\n",
        "hin_sentence = hin_sentence[:max_len]\n"
      ]
    },
    {
      "cell_type": "code",
      "execution_count": 70,
      "metadata": {
        "colab": {
          "base_uri": "https://localhost:8080/"
        },
        "id": "T7aZcNrgHpM6",
        "outputId": "c1220169-85c0-4742-b3d1-b19c0f1e45f8"
      },
      "outputs": [
        {
          "output_type": "execute_result",
          "data": {
            "text/plain": [
              "['गर्मी / फ्रांस में पहली बार पारा 45 डिग्री पार, सड़कों पर फव्वारे लगाए गए. पूरे यूरोप में गर्मी के लिए अलर्ट\\n',\n",
              " 'डाक्टर व्दारा, वेल वुमन क्लिनिक या परिवार नियोजन क्लिनिक में छेस्छ किया जा सकता है।\\n',\n",
              " 'सारे आसमान और ज़मीन का मवविद (बनाने वाला) है उसके कोई लड़का क्योंकर हो सकता है जब उसकी कोई बीबी ही नहीं है और उसी ने हर चीज़ को पैदा किया और वही हर चीज़ से खूब वाक़िफ है\\n',\n",
              " 'क्कालांतर में कोच्चि राज्य के रजवाड़े में परिवर्तित होने के क्साथ ही ये डच एवं ब्रिटिश के नियन्त्रण में आ गया।\\n',\n",
              " 'गुजरात के गिर वन में, उनके भोजन का बड़ा प्रतिशत पेड़ों पर से गिरा हुआ फल ज़िज़िफस होता है।\\n']"
            ]
          },
          "metadata": {},
          "execution_count": 70
        }
      ],
      "source": [
        "hin_sentence[-5:]"
      ]
    },
    {
      "cell_type": "code",
      "execution_count": 71,
      "metadata": {
        "colab": {
          "base_uri": "https://localhost:8080/"
        },
        "id": "kbgA_AwHHpM7",
        "outputId": "bb90bfba-edfd-4912-ce47-d2b346058d5c"
      },
      "outputs": [
        {
          "output_type": "stream",
          "name": "stdout",
          "text": [
            "1800000\n"
          ]
        }
      ],
      "source": [
        "eng_sentence = [sentence.rstrip('\\n').lower() for sentence in eng_sentence]\n",
        "hin_sentence = [sentence.rstrip('\\n').lower() for sentence in hin_sentence]\n",
        "print(len(hin_sentence))"
      ]
    },
    {
      "cell_type": "code",
      "execution_count": 72,
      "metadata": {
        "colab": {
          "base_uri": "https://localhost:8080/"
        },
        "id": "H7TgHlKaHpM7",
        "outputId": "063ca8dd-5677-44bf-8489-f4cc83609da2"
      },
      "outputs": [
        {
          "output_type": "execute_result",
          "data": {
            "text/plain": [
              "['home / world news / heat tops 45 degrees in france for first time as deadly heatwave roasts europe',\n",
              " 'a doctor will examine you in a well women clinic or family planning clinic.',\n",
              " 'the creator of the heavens and the earth -- how should he have a son, seeing that he has no consort, and he created all things, and he has knowledge of everything?',\n",
              " 'the city was later occupied by the dutch and the british, with the kingdom of cochin becoming a princely state.',\n",
              " 'in the gir forest of gujarat, a large percentage of their food is made up of the fallen berries of zizyphus.']"
            ]
          },
          "metadata": {},
          "execution_count": 72
        }
      ],
      "source": [
        "eng_sentence[-5:]"
      ]
    },
    {
      "cell_type": "code",
      "execution_count": 73,
      "metadata": {
        "colab": {
          "base_uri": "https://localhost:8080/"
        },
        "id": "HAPY_AwVHpM7",
        "outputId": "1dd6e348-ff9d-4a84-d600-73e7323285bd"
      },
      "outputs": [
        {
          "output_type": "stream",
          "name": "stdout",
          "text": [
            "max lenght & Percentile of English Sentences: (14820, 352.0)\n",
            "max lenght & Percentile of Hindi Sentences: (7216, 353.0)\n"
          ]
        }
      ],
      "source": [
        "# max sequence lenght in a sentence :(T)\n",
        "# Computing 96th percentile to hinow the max sequence length as we will be uisng 20000 sentenses for training the model.\n",
        "# sequence length can be tuned (T)\n",
        "# input sequnece can be tuned\n",
        "\n",
        "def max_len(language):\n",
        "    P = 99\n",
        "    length = [len(i) for i in language]\n",
        "    maximum_len = max(length)\n",
        "    percentile =  np.percentile(length, P)\n",
        "    return maximum_len , percentile\n",
        "\n",
        "print('max lenght & Percentile of English Sentences:', max_len(eng_sentence))\n",
        "print('max lenght & Percentile of Hindi Sentences:', max_len(hin_sentence))\n"
      ]
    },
    {
      "cell_type": "code",
      "execution_count": 74,
      "metadata": {
        "colab": {
          "base_uri": "https://localhost:8080/"
        },
        "id": "q5KqMWF5HpM7",
        "outputId": "c388c3c7-6634-459e-a367-cc7aa5176eba"
      },
      "outputs": [
        {
          "output_type": "stream",
          "name": "stdout",
          "text": [
            "Number of sentences: 1800000\n",
            "Number of valid sentences: 155818\n"
          ]
        }
      ],
      "source": [
        "max_sequence_length = 360\n",
        "\n",
        "def is_valid_tokens(sentence, vocab):\n",
        "    for token in list(set(sentence)):\n",
        "        if token not in vocab:\n",
        "            return False\n",
        "    return True\n",
        "\n",
        "def is_valid_length(sentence, max_sequence_length):\n",
        "    return len(list(sentence)) < (max_sequence_length - 1) # to re-add the end token we leave 1 space\n",
        "\n",
        "valid_sentence_len = []\n",
        "for index in range(len(hin_sentence)):\n",
        "    hindi_sentence, english_sentence = hin_sentence[index], eng_sentence[index]\n",
        "    if is_valid_length(hindi_sentence, max_sequence_length) \\\n",
        "      and is_valid_length(english_sentence, max_sequence_length) \\\n",
        "      and is_valid_tokens(hindi_sentence, hindi_vocab):\n",
        "        valid_sentence_len.append(index)\n",
        "\n",
        "print(f\"Number of sentences: {len(hin_sentence)}\")\n",
        "print(f\"Number of valid sentences: {len(valid_sentence_len)}\")"
      ]
    },
    {
      "cell_type": "code",
      "execution_count": 75,
      "metadata": {
        "colab": {
          "base_uri": "https://localhost:8080/"
        },
        "id": "z8QhWBQZHpM8",
        "outputId": "5d5a8996-34fd-4750-fcc2-72301f9e10b3"
      },
      "outputs": [
        {
          "output_type": "execute_result",
          "data": {
            "text/plain": [
              "[3,\n",
              " 13,\n",
              " 18,\n",
              " 21,\n",
              " 38,\n",
              " 55,\n",
              " 59,\n",
              " 62,\n",
              " 77,\n",
              " 83,\n",
              " 95,\n",
              " 112,\n",
              " 122,\n",
              " 123,\n",
              " 137,\n",
              " 153,\n",
              " 155,\n",
              " 174,\n",
              " 177,\n",
              " 188,\n",
              " 201,\n",
              " 237,\n",
              " 244,\n",
              " 274,\n",
              " 276,\n",
              " 278,\n",
              " 297,\n",
              " 300,\n",
              " 316,\n",
              " 321,\n",
              " 325,\n",
              " 334,\n",
              " 336,\n",
              " 339,\n",
              " 342,\n",
              " 345,\n",
              " 380,\n",
              " 386,\n",
              " 393,\n",
              " 402,\n",
              " 440,\n",
              " 448,\n",
              " 455,\n",
              " 460,\n",
              " 461,\n",
              " 465,\n",
              " 483,\n",
              " 516,\n",
              " 521,\n",
              " 542,\n",
              " 546,\n",
              " 548,\n",
              " 559,\n",
              " 569,\n",
              " 571,\n",
              " 572,\n",
              " 583,\n",
              " 585,\n",
              " 591,\n",
              " 597,\n",
              " 598,\n",
              " 601,\n",
              " 640,\n",
              " 644,\n",
              " 655,\n",
              " 665,\n",
              " 680,\n",
              " 683,\n",
              " 703,\n",
              " 707,\n",
              " 708,\n",
              " 710,\n",
              " 734,\n",
              " 737,\n",
              " 746,\n",
              " 775,\n",
              " 777,\n",
              " 788,\n",
              " 799,\n",
              " 822,\n",
              " 829,\n",
              " 831,\n",
              " 832,\n",
              " 842,\n",
              " 847,\n",
              " 849,\n",
              " 855,\n",
              " 865,\n",
              " 869,\n",
              " 885,\n",
              " 913,\n",
              " 936,\n",
              " 941,\n",
              " 948,\n",
              " 954,\n",
              " 963,\n",
              " 980,\n",
              " 985,\n",
              " 988,\n",
              " 997,\n",
              " 1004,\n",
              " 1006,\n",
              " 1027,\n",
              " 1100,\n",
              " 1102,\n",
              " 1103,\n",
              " 1105,\n",
              " 1108,\n",
              " 1109,\n",
              " 1115,\n",
              " 1123,\n",
              " 1126,\n",
              " 1128,\n",
              " 1143,\n",
              " 1149,\n",
              " 1186,\n",
              " 1187,\n",
              " 1212,\n",
              " 1226,\n",
              " 1230,\n",
              " 1255,\n",
              " 1267,\n",
              " 1268,\n",
              " 1276,\n",
              " 1298,\n",
              " 1313,\n",
              " 1314,\n",
              " 1323,\n",
              " 1335,\n",
              " 1337,\n",
              " 1339,\n",
              " 1354,\n",
              " 1355,\n",
              " 1363,\n",
              " 1375,\n",
              " 1378,\n",
              " 1379,\n",
              " 1425,\n",
              " 1435,\n",
              " 1443,\n",
              " 1451,\n",
              " 1455,\n",
              " 1456,\n",
              " 1458,\n",
              " 1470,\n",
              " 1490,\n",
              " 1518,\n",
              " 1528,\n",
              " 1537,\n",
              " 1558,\n",
              " 1579,\n",
              " 1580,\n",
              " 1583,\n",
              " 1585,\n",
              " 1590,\n",
              " 1607,\n",
              " 1670,\n",
              " 1676,\n",
              " 1689,\n",
              " 1714,\n",
              " 1724,\n",
              " 1726,\n",
              " 1734,\n",
              " 1737,\n",
              " 1742,\n",
              " 1771,\n",
              " 1777,\n",
              " 1789,\n",
              " 1825,\n",
              " 1830,\n",
              " 1831,\n",
              " 1851,\n",
              " 1871,\n",
              " 1876,\n",
              " 1878,\n",
              " 1895,\n",
              " 1919,\n",
              " 1926,\n",
              " 1961,\n",
              " 1963,\n",
              " 1967,\n",
              " 1969,\n",
              " 1986,\n",
              " 1994,\n",
              " 1995,\n",
              " 2010,\n",
              " 2020,\n",
              " 2028,\n",
              " 2051,\n",
              " 2080,\n",
              " 2090,\n",
              " 2102,\n",
              " 2112,\n",
              " 2144,\n",
              " 2148,\n",
              " 2154,\n",
              " 2172,\n",
              " 2173,\n",
              " 2181,\n",
              " 2193,\n",
              " 2194,\n",
              " 2224,\n",
              " 2246,\n",
              " 2248,\n",
              " 2251,\n",
              " 2256,\n",
              " 2262,\n",
              " 2276,\n",
              " 2277,\n",
              " 2280,\n",
              " 2297,\n",
              " 2302,\n",
              " 2311,\n",
              " 2317,\n",
              " 2320,\n",
              " 2358,\n",
              " 2368,\n",
              " 2381,\n",
              " 2416,\n",
              " 2440,\n",
              " 2447,\n",
              " 2448,\n",
              " 2449,\n",
              " 2466,\n",
              " 2475,\n",
              " 2482,\n",
              " 2485,\n",
              " 2493,\n",
              " 2496,\n",
              " 2508,\n",
              " 2521,\n",
              " 2552,\n",
              " 2553,\n",
              " 2579,\n",
              " 2582,\n",
              " 2585,\n",
              " 2589,\n",
              " 2597,\n",
              " 2613,\n",
              " 2621,\n",
              " 2630,\n",
              " 2642,\n",
              " 2663,\n",
              " 2671,\n",
              " 2684,\n",
              " 2695,\n",
              " 2722,\n",
              " 2737,\n",
              " 2740,\n",
              " 2758,\n",
              " 2772,\n",
              " 2784,\n",
              " 2798,\n",
              " 2806,\n",
              " 2815,\n",
              " 2817,\n",
              " 2825,\n",
              " 2839,\n",
              " 2850,\n",
              " 2860,\n",
              " 2861,\n",
              " 2875,\n",
              " 2883,\n",
              " 2892,\n",
              " 2903,\n",
              " 2909,\n",
              " 2938,\n",
              " 2954,\n",
              " 2993,\n",
              " 2996,\n",
              " 2997,\n",
              " 3004,\n",
              " 3012,\n",
              " 3034,\n",
              " 3086,\n",
              " 3101,\n",
              " 3115,\n",
              " 3139,\n",
              " 3156,\n",
              " 3179,\n",
              " 3180,\n",
              " 3183,\n",
              " 3187,\n",
              " 3188,\n",
              " 3218,\n",
              " 3241,\n",
              " 3257,\n",
              " 3259,\n",
              " 3261,\n",
              " 3274,\n",
              " 3281,\n",
              " 3290,\n",
              " 3296,\n",
              " 3299,\n",
              " 3335,\n",
              " 3338,\n",
              " 3342,\n",
              " 3347,\n",
              " 3349,\n",
              " 3360,\n",
              " 3366,\n",
              " 3378,\n",
              " 3379,\n",
              " 3385,\n",
              " 3388,\n",
              " 3408,\n",
              " 3415,\n",
              " 3416,\n",
              " 3418,\n",
              " 3435,\n",
              " 3448,\n",
              " 3450,\n",
              " 3469,\n",
              " 3479,\n",
              " 3490,\n",
              " 3492,\n",
              " 3539,\n",
              " 3555,\n",
              " 3558,\n",
              " 3564,\n",
              " 3578,\n",
              " 3581,\n",
              " 3584,\n",
              " 3622,\n",
              " 3628,\n",
              " 3631,\n",
              " 3636,\n",
              " 3642,\n",
              " 3649,\n",
              " 3650,\n",
              " 3657,\n",
              " 3670,\n",
              " 3727,\n",
              " 3771,\n",
              " 3774,\n",
              " 3782,\n",
              " 3783,\n",
              " 3796,\n",
              " 3805,\n",
              " 3808,\n",
              " 3816,\n",
              " 3821,\n",
              " 3823,\n",
              " 3846,\n",
              " 3848,\n",
              " 3853,\n",
              " 3856,\n",
              " 3858,\n",
              " 3864,\n",
              " 3869,\n",
              " 3886,\n",
              " 3889,\n",
              " 3910,\n",
              " 3915,\n",
              " 3933,\n",
              " 3943,\n",
              " 3953,\n",
              " 3960,\n",
              " 3977,\n",
              " 3984,\n",
              " 3987,\n",
              " 4012,\n",
              " 4072,\n",
              " 4084,\n",
              " 4095,\n",
              " 4096,\n",
              " 4103,\n",
              " 4125,\n",
              " 4128,\n",
              " 4133,\n",
              " 4135,\n",
              " 4158,\n",
              " 4159,\n",
              " 4187,\n",
              " 4217,\n",
              " 4243,\n",
              " 4253,\n",
              " 4276,\n",
              " 4278,\n",
              " 4279,\n",
              " 4281,\n",
              " 4282,\n",
              " 4285,\n",
              " 4287,\n",
              " 4299,\n",
              " 4311,\n",
              " 4321,\n",
              " 4323,\n",
              " 4328,\n",
              " 4333,\n",
              " 4334,\n",
              " 4341,\n",
              " 4349,\n",
              " 4359,\n",
              " 4361,\n",
              " 4378,\n",
              " 4390,\n",
              " 4410,\n",
              " 4419,\n",
              " 4431,\n",
              " 4450,\n",
              " 4465,\n",
              " 4477,\n",
              " 4486,\n",
              " 4493,\n",
              " 4507,\n",
              " 4516,\n",
              " 4531,\n",
              " 4540,\n",
              " 4554,\n",
              " 4559,\n",
              " 4560,\n",
              " 4577,\n",
              " 4589,\n",
              " 4592,\n",
              " 4624,\n",
              " 4629,\n",
              " 4631,\n",
              " 4633,\n",
              " 4655,\n",
              " 4679,\n",
              " 4683,\n",
              " 4685,\n",
              " 4691,\n",
              " 4706,\n",
              " 4710,\n",
              " 4714,\n",
              " 4727,\n",
              " 4737,\n",
              " 4752,\n",
              " 4756,\n",
              " 4758,\n",
              " 4779,\n",
              " 4809,\n",
              " 4816,\n",
              " 4829,\n",
              " 4846,\n",
              " 4872,\n",
              " 4874,\n",
              " 4876,\n",
              " 4887,\n",
              " 4892,\n",
              " 4916,\n",
              " 4917,\n",
              " 4942,\n",
              " 4945,\n",
              " 4947,\n",
              " 4962,\n",
              " 4984,\n",
              " 5037,\n",
              " 5038,\n",
              " 5041,\n",
              " 5051,\n",
              " 5087,\n",
              " 5102,\n",
              " 5104,\n",
              " 5115,\n",
              " 5127,\n",
              " 5132,\n",
              " 5134,\n",
              " 5183,\n",
              " 5187,\n",
              " 5202,\n",
              " 5203,\n",
              " 5216,\n",
              " 5217,\n",
              " 5223,\n",
              " 5229,\n",
              " 5242,\n",
              " 5253,\n",
              " 5255,\n",
              " 5300,\n",
              " 5306,\n",
              " 5313,\n",
              " 5324,\n",
              " 5338,\n",
              " 5347,\n",
              " 5351,\n",
              " 5357,\n",
              " 5362,\n",
              " 5382,\n",
              " 5388,\n",
              " 5409,\n",
              " 5411,\n",
              " 5417,\n",
              " 5423,\n",
              " 5427,\n",
              " 5443,\n",
              " 5451,\n",
              " 5459,\n",
              " 5462,\n",
              " 5467,\n",
              " 5474,\n",
              " 5481,\n",
              " 5495,\n",
              " 5496,\n",
              " 5513,\n",
              " 5532,\n",
              " 5552,\n",
              " 5556,\n",
              " 5568,\n",
              " 5569,\n",
              " 5573,\n",
              " 5619,\n",
              " 5621,\n",
              " 5624,\n",
              " 5631,\n",
              " 5637,\n",
              " 5658,\n",
              " 5659,\n",
              " 5679,\n",
              " 5697,\n",
              " 5704,\n",
              " 5731,\n",
              " 5734,\n",
              " 5755,\n",
              " 5787,\n",
              " 5797,\n",
              " 5810,\n",
              " 5815,\n",
              " 5838,\n",
              " 5839,\n",
              " 5843,\n",
              " 5850,\n",
              " 5853,\n",
              " 5856,\n",
              " 5880,\n",
              " 5883,\n",
              " 5886,\n",
              " 5887,\n",
              " 5921,\n",
              " 5928,\n",
              " 5941,\n",
              " 5945,\n",
              " 5950,\n",
              " 5957,\n",
              " 5971,\n",
              " 5987,\n",
              " 5988,\n",
              " 6007,\n",
              " 6032,\n",
              " 6039,\n",
              " 6040,\n",
              " 6058,\n",
              " 6070,\n",
              " 6077,\n",
              " 6082,\n",
              " 6089,\n",
              " 6103,\n",
              " 6117,\n",
              " 6119,\n",
              " 6123,\n",
              " 6136,\n",
              " 6155,\n",
              " 6160,\n",
              " 6210,\n",
              " 6215,\n",
              " 6223,\n",
              " 6229,\n",
              " 6230,\n",
              " 6238,\n",
              " 6246,\n",
              " 6279,\n",
              " 6280,\n",
              " 6293,\n",
              " 6321,\n",
              " 6326,\n",
              " 6335,\n",
              " 6346,\n",
              " 6352,\n",
              " 6353,\n",
              " 6355,\n",
              " 6385,\n",
              " 6399,\n",
              " 6400,\n",
              " 6401,\n",
              " 6412,\n",
              " 6482,\n",
              " 6487,\n",
              " 6514,\n",
              " 6517,\n",
              " 6521,\n",
              " 6531,\n",
              " 6534,\n",
              " 6535,\n",
              " 6540,\n",
              " 6553,\n",
              " 6593,\n",
              " 6597,\n",
              " 6601,\n",
              " 6602,\n",
              " 6611,\n",
              " 6612,\n",
              " 6615,\n",
              " 6617,\n",
              " 6620,\n",
              " 6648,\n",
              " 6654,\n",
              " 6656,\n",
              " 6661,\n",
              " 6663,\n",
              " 6669,\n",
              " 6684,\n",
              " 6698,\n",
              " 6713,\n",
              " 6715,\n",
              " 6719,\n",
              " 6723,\n",
              " 6731,\n",
              " 6751,\n",
              " 6755,\n",
              " 6756,\n",
              " 6759,\n",
              " 6763,\n",
              " 6781,\n",
              " 6835,\n",
              " 6836,\n",
              " 6839,\n",
              " 6846,\n",
              " 6849,\n",
              " 6862,\n",
              " 6864,\n",
              " 6871,\n",
              " 6874,\n",
              " 6878,\n",
              " 6888,\n",
              " 6891,\n",
              " 6893,\n",
              " 6898,\n",
              " 6930,\n",
              " 6933,\n",
              " 6951,\n",
              " 6960,\n",
              " 6964,\n",
              " 6985,\n",
              " 7018,\n",
              " 7023,\n",
              " 7040,\n",
              " 7045,\n",
              " 7051,\n",
              " 7058,\n",
              " 7061,\n",
              " 7074,\n",
              " 7075,\n",
              " 7076,\n",
              " 7082,\n",
              " 7087,\n",
              " 7096,\n",
              " 7120,\n",
              " 7124,\n",
              " 7135,\n",
              " 7151,\n",
              " 7163,\n",
              " 7167,\n",
              " 7171,\n",
              " 7180,\n",
              " 7182,\n",
              " 7190,\n",
              " 7191,\n",
              " 7215,\n",
              " 7221,\n",
              " 7232,\n",
              " 7239,\n",
              " 7243,\n",
              " 7249,\n",
              " 7271,\n",
              " 7292,\n",
              " 7317,\n",
              " 7346,\n",
              " 7357,\n",
              " 7375,\n",
              " 7383,\n",
              " 7391,\n",
              " 7395,\n",
              " 7396,\n",
              " 7400,\n",
              " 7411,\n",
              " 7433,\n",
              " 7445,\n",
              " 7476,\n",
              " 7484,\n",
              " 7491,\n",
              " 7493,\n",
              " 7498,\n",
              " 7513,\n",
              " 7525,\n",
              " 7539,\n",
              " 7542,\n",
              " 7546,\n",
              " 7547,\n",
              " 7552,\n",
              " 7556,\n",
              " 7563,\n",
              " 7566,\n",
              " 7568,\n",
              " 7574,\n",
              " 7580,\n",
              " 7595,\n",
              " 7605,\n",
              " 7607,\n",
              " 7641,\n",
              " 7647,\n",
              " 7649,\n",
              " 7683,\n",
              " 7691,\n",
              " 7709,\n",
              " 7729,\n",
              " 7731,\n",
              " 7734,\n",
              " 7739,\n",
              " 7756,\n",
              " 7764,\n",
              " 7769,\n",
              " 7780,\n",
              " 7804,\n",
              " 7820,\n",
              " 7834,\n",
              " 7845,\n",
              " 7868,\n",
              " 7874,\n",
              " 7875,\n",
              " 7879,\n",
              " 7880,\n",
              " 7888,\n",
              " 7894,\n",
              " 7901,\n",
              " 7902,\n",
              " 7916,\n",
              " 7938,\n",
              " 7956,\n",
              " 7962,\n",
              " 7967,\n",
              " 7969,\n",
              " 7982,\n",
              " 7995,\n",
              " 8007,\n",
              " 8014,\n",
              " 8030,\n",
              " 8039,\n",
              " 8060,\n",
              " 8070,\n",
              " 8081,\n",
              " 8087,\n",
              " 8089,\n",
              " 8093,\n",
              " 8118,\n",
              " 8126,\n",
              " 8135,\n",
              " 8137,\n",
              " 8139,\n",
              " 8159,\n",
              " 8165,\n",
              " 8193,\n",
              " 8200,\n",
              " 8215,\n",
              " 8228,\n",
              " 8264,\n",
              " 8270,\n",
              " 8273,\n",
              " 8276,\n",
              " 8283,\n",
              " 8295,\n",
              " 8300,\n",
              " 8305,\n",
              " 8330,\n",
              " 8338,\n",
              " 8354,\n",
              " 8356,\n",
              " 8367,\n",
              " 8380,\n",
              " 8381,\n",
              " 8398,\n",
              " 8448,\n",
              " 8476,\n",
              " 8481,\n",
              " 8483,\n",
              " 8494,\n",
              " 8521,\n",
              " 8536,\n",
              " 8553,\n",
              " 8554,\n",
              " 8557,\n",
              " 8584,\n",
              " 8604,\n",
              " 8605,\n",
              " 8607,\n",
              " 8630,\n",
              " 8644,\n",
              " 8662,\n",
              " 8685,\n",
              " 8687,\n",
              " 8716,\n",
              " 8726,\n",
              " 8741,\n",
              " 8745,\n",
              " 8747,\n",
              " 8767,\n",
              " 8839,\n",
              " 8843,\n",
              " 8862,\n",
              " 8874,\n",
              " 8884,\n",
              " 8887,\n",
              " 8891,\n",
              " 8898,\n",
              " 8902,\n",
              " 8911,\n",
              " 8920,\n",
              " 8923,\n",
              " 8925,\n",
              " 8931,\n",
              " 8942,\n",
              " 8943,\n",
              " 8975,\n",
              " 8976,\n",
              " 8977,\n",
              " 8978,\n",
              " 9011,\n",
              " 9024,\n",
              " 9026,\n",
              " 9028,\n",
              " 9030,\n",
              " 9031,\n",
              " 9036,\n",
              " 9057,\n",
              " 9069,\n",
              " 9083,\n",
              " 9084,\n",
              " 9089,\n",
              " 9095,\n",
              " 9099,\n",
              " 9100,\n",
              " 9123,\n",
              " 9125,\n",
              " 9130,\n",
              " 9140,\n",
              " 9146,\n",
              " 9151,\n",
              " 9152,\n",
              " 9177,\n",
              " 9183,\n",
              " 9192,\n",
              " 9193,\n",
              " 9197,\n",
              " 9199,\n",
              " 9210,\n",
              " 9221,\n",
              " 9243,\n",
              " 9244,\n",
              " 9254,\n",
              " 9261,\n",
              " 9265,\n",
              " 9272,\n",
              " 9282,\n",
              " 9291,\n",
              " 9299,\n",
              " 9305,\n",
              " 9332,\n",
              " 9339,\n",
              " 9350,\n",
              " 9356,\n",
              " 9357,\n",
              " 9364,\n",
              " 9376,\n",
              " 9408,\n",
              " 9421,\n",
              " 9422,\n",
              " 9433,\n",
              " 9436,\n",
              " 9437,\n",
              " 9442,\n",
              " 9451,\n",
              " 9467,\n",
              " 9540,\n",
              " 9543,\n",
              " 9560,\n",
              " 9571,\n",
              " 9578,\n",
              " 9595,\n",
              " 9603,\n",
              " 9610,\n",
              " 9615,\n",
              " 9630,\n",
              " 9634,\n",
              " 9655,\n",
              " 9669,\n",
              " 9674,\n",
              " 9741,\n",
              " 9776,\n",
              " 9814,\n",
              " 9822,\n",
              " 9825,\n",
              " 9835,\n",
              " 9843,\n",
              " 9861,\n",
              " 9864,\n",
              " 9868,\n",
              " 9876,\n",
              " 9881,\n",
              " 9900,\n",
              " 9905,\n",
              " 9914,\n",
              " 9915,\n",
              " 9918,\n",
              " 9928,\n",
              " 9939,\n",
              " 9969,\n",
              " 9979,\n",
              " 9981,\n",
              " 9994,\n",
              " 10000,\n",
              " 10003,\n",
              " 10010,\n",
              " 10013,\n",
              " 10018,\n",
              " 10026,\n",
              " 10027,\n",
              " 10032,\n",
              " 10035,\n",
              " 10055,\n",
              " 10058,\n",
              " 10063,\n",
              " 10067,\n",
              " 10076,\n",
              " 10079,\n",
              " 10095,\n",
              " 10096,\n",
              " 10121,\n",
              " 10134,\n",
              " 10137,\n",
              " 10154,\n",
              " 10155,\n",
              " 10157,\n",
              " 10166,\n",
              " 10169,\n",
              " 10171,\n",
              " 10175,\n",
              " 10188,\n",
              " 10211,\n",
              " 10234,\n",
              " 10242,\n",
              " 10251,\n",
              " 10252,\n",
              " 10256,\n",
              " 10287,\n",
              " 10291,\n",
              " 10322,\n",
              " 10327,\n",
              " 10337,\n",
              " 10352,\n",
              " 10354,\n",
              " 10365,\n",
              " 10378,\n",
              " 10379,\n",
              " 10390,\n",
              " 10395,\n",
              " 10401,\n",
              " 10406,\n",
              " 10413,\n",
              " 10435,\n",
              " 10443,\n",
              " 10467,\n",
              " 10469,\n",
              " 10480,\n",
              " 10483,\n",
              " 10484,\n",
              " 10491,\n",
              " 10512,\n",
              " 10517,\n",
              " 10521,\n",
              " 10524,\n",
              " 10526,\n",
              " 10543,\n",
              " 10570,\n",
              " 10578,\n",
              " 10579,\n",
              " 10590,\n",
              " 10605,\n",
              " 10624,\n",
              " 10627,\n",
              " 10646,\n",
              " 10653,\n",
              " 10661,\n",
              " 10670,\n",
              " 10682,\n",
              " 10683,\n",
              " 10691,\n",
              " 10692,\n",
              " 10693,\n",
              " 10716,\n",
              " 10718,\n",
              " 10730,\n",
              " 10773,\n",
              " 10776,\n",
              " 10785,\n",
              " 10796,\n",
              " 10797,\n",
              " 10838,\n",
              " 10841,\n",
              " 10861,\n",
              " ...]"
            ]
          },
          "metadata": {},
          "execution_count": 75
        }
      ],
      "source": [
        "valid_sentence_len"
      ]
    },
    {
      "cell_type": "code",
      "execution_count": 76,
      "metadata": {
        "colab": {
          "base_uri": "https://localhost:8080/"
        },
        "id": "3nq_PXkeHpM8",
        "outputId": "03e5c771-c72d-492c-db26-97798d98d863"
      },
      "outputs": [
        {
          "output_type": "stream",
          "name": "stdout",
          "text": [
            "आस्ट्रेलिया के खिलाफ वनडे टीम की कमान मिताली को\n",
            "mithali to anchor indian team against australia in odis\n"
          ]
        }
      ],
      "source": [
        "hindi_sentences = [hin_sentence[i] for i in valid_sentence_len]\n",
        "english_sentences = [eng_sentence[i] for i in valid_sentence_len]\n",
        "print(hindi_sentences[0])\n",
        "print(english_sentences[0])"
      ]
    },
    {
      "cell_type": "code",
      "execution_count": 77,
      "metadata": {
        "id": "lrpnxFSmHpM8"
      },
      "outputs": [],
      "source": [
        "d_model = 512\n",
        "batch_size = 30\n",
        "#ffn_hidden is the number of  neurons in the hidden layer of Feed Forward Neural Network (Fully Connected)\n",
        "ffn_hidden = 2048\n",
        "num_head = 8\n",
        "drop_prob = 0.1\n",
        "num_layers = 1\n",
        "max_sequence_length = 360\n",
        "d_output = len(hindi_vocab)\n",
        "\n",
        "\n",
        "transformer = Transformer(d_model,\n",
        "                        ffn_hidden,\n",
        "                        num_head,\n",
        "                         drop_prob,\n",
        "                         num_layers,\n",
        "                         max_sequence_length,\n",
        "                         d_output,\n",
        "                          eng_index,\n",
        "                          hin_index,\n",
        "                          START_TOKEN,\n",
        "                          END_TOKEN,\n",
        "                          PADDING_TOKEN)"
      ]
    },
    {
      "cell_type": "code",
      "execution_count": 78,
      "metadata": {
        "colab": {
          "base_uri": "https://localhost:8080/"
        },
        "id": "Ae395jkbHpM8",
        "outputId": "3f65601d-12a0-43ed-8ec7-431def2376e1"
      },
      "outputs": [
        {
          "output_type": "execute_result",
          "data": {
            "text/plain": [
              "Transformer(\n",
              "  (encoder): Encoder(\n",
              "    (sentence_embedding): SentenceEmbedding(\n",
              "      (embedding): Embedding(71, 512)\n",
              "      (positional_encoder): PositionalEncoding()\n",
              "      (dropout): Dropout(p=0.1, inplace=False)\n",
              "    )\n",
              "    (layers): SequentialEncoder(\n",
              "      (0): EncoderLayer(\n",
              "        (attention): MultiHeadAttention(\n",
              "          (qkv_layer): Linear(in_features=512, out_features=1536, bias=True)\n",
              "          (linear_layer): Linear(in_features=512, out_features=512, bias=True)\n",
              "        )\n",
              "        (norm1): LayerNormalization()\n",
              "        (dropout1): Dropout(p=0.1, inplace=False)\n",
              "        (ffn): PositionWiseFeedForward(\n",
              "          (linear1): Linear(in_features=512, out_features=2048, bias=True)\n",
              "          (linear2): Linear(in_features=2048, out_features=512, bias=True)\n",
              "          (relu): ReLU()\n",
              "          (dropout): Dropout(p=0.1, inplace=False)\n",
              "        )\n",
              "        (norm2): LayerNormalization()\n",
              "        (dropout2): Dropout(p=0.1, inplace=False)\n",
              "      )\n",
              "    )\n",
              "  )\n",
              "  (decoder): Decoder(\n",
              "    (sentence_embedding): SentenceEmbedding(\n",
              "      (embedding): Embedding(102, 512)\n",
              "      (positional_encoder): PositionalEncoding()\n",
              "      (dropout): Dropout(p=0.1, inplace=False)\n",
              "    )\n",
              "    (layer): SequentialDecoder(\n",
              "      (0): DecoderLayer(\n",
              "        (self_attention): MultiHeadAttention(\n",
              "          (qkv_layer): Linear(in_features=512, out_features=1536, bias=True)\n",
              "          (linear_layer): Linear(in_features=512, out_features=512, bias=True)\n",
              "        )\n",
              "        (layer_norm1): LayerNormalization()\n",
              "        (dropout1): Dropout(p=0.1, inplace=False)\n",
              "        (encoder_decoder_attention): MultiHeadCrossAttention(\n",
              "          (kv_layer): Linear(in_features=512, out_features=1024, bias=True)\n",
              "          (q_layer): Linear(in_features=512, out_features=512, bias=True)\n",
              "          (linear_layer): Linear(in_features=512, out_features=512, bias=True)\n",
              "        )\n",
              "        (layer_norm2): LayerNormalization()\n",
              "        (dropout2): Dropout(p=0.1, inplace=False)\n",
              "        (ffn): PositionWiseFeedForward(\n",
              "          (linear1): Linear(in_features=512, out_features=2048, bias=True)\n",
              "          (linear2): Linear(in_features=2048, out_features=512, bias=True)\n",
              "          (relu): ReLU()\n",
              "          (dropout): Dropout(p=0.1, inplace=False)\n",
              "        )\n",
              "        (layer_norm3): LayerNormalization()\n",
              "        (dropout3): Dropout(p=0.1, inplace=False)\n",
              "      )\n",
              "    )\n",
              "  )\n",
              "  (linear): Linear(in_features=512, out_features=102, bias=True)\n",
              ")"
            ]
          },
          "metadata": {},
          "execution_count": 78
        }
      ],
      "source": [
        "transformer"
      ]
    },
    {
      "cell_type": "code",
      "execution_count": 79,
      "metadata": {
        "id": "OdOtvn9aHpM9"
      },
      "outputs": [],
      "source": [
        "class TextDataset(Dataset):\n",
        "    def __init__(self, english_sentences, hindi_sentences):\n",
        "        self.english_sentences = english_sentences\n",
        "        self.hindi_sentences = hindi_sentences\n",
        "\n",
        "    def __len__(self):\n",
        "        return len(self.english_sentences)\n",
        "\n",
        "    def __getitem__(self, index):\n",
        "        return self.english_sentences[index], self.hindi_sentences[index]"
      ]
    },
    {
      "cell_type": "code",
      "execution_count": 80,
      "metadata": {
        "id": "e33cLXPuHpM9"
      },
      "outputs": [],
      "source": [
        "dataset = TextDataset(english_sentences, hindi_sentences)\n"
      ]
    },
    {
      "cell_type": "code",
      "execution_count": 81,
      "metadata": {
        "colab": {
          "base_uri": "https://localhost:8080/"
        },
        "id": "V6ESS6wvHpM9",
        "outputId": "53c4d956-0bba-4a97-b41b-1645c53bfc00"
      },
      "outputs": [
        {
          "output_type": "execute_result",
          "data": {
            "text/plain": [
              "155818"
            ]
          },
          "metadata": {},
          "execution_count": 81
        }
      ],
      "source": [
        "len(dataset)"
      ]
    },
    {
      "cell_type": "code",
      "execution_count": 82,
      "metadata": {
        "colab": {
          "base_uri": "https://localhost:8080/"
        },
        "id": "2OdWYnCLHpM9",
        "outputId": "46c1c735-2428-46e0-8d23-2c3093f6e903"
      },
      "outputs": [
        {
          "output_type": "execute_result",
          "data": {
            "text/plain": [
              "('young india should come forward to change the system.',\n",
              " 'इस व्यवस्था को बदलने के लिए युवा भारत को आगे आना चाहिए.')"
            ]
          },
          "metadata": {},
          "execution_count": 82
        }
      ],
      "source": [
        "dataset[-5]"
      ]
    },
    {
      "cell_type": "code",
      "execution_count": 83,
      "metadata": {
        "id": "AgTjMVdtHpM9"
      },
      "outputs": [],
      "source": [
        "batch_size = 30\n",
        "train_loader = DataLoader(dataset, batch_size)\n",
        "iterator = iter(train_loader)"
      ]
    },
    {
      "cell_type": "code",
      "execution_count": 84,
      "metadata": {
        "colab": {
          "base_uri": "https://localhost:8080/"
        },
        "id": "2kUlsph1HpM-",
        "outputId": "a0cd4067-a47c-46be-d02c-ea22d20e4bf0"
      },
      "outputs": [
        {
          "output_type": "execute_result",
          "data": {
            "text/plain": [
              "5194"
            ]
          },
          "metadata": {},
          "execution_count": 84
        }
      ],
      "source": [
        "len(iterator)"
      ]
    },
    {
      "cell_type": "code",
      "execution_count": 85,
      "metadata": {
        "colab": {
          "base_uri": "https://localhost:8080/"
        },
        "id": "hs9iyUCQHpM-",
        "outputId": "4f6f34fa-6e20-4009-ee94-01d946b050e8"
      },
      "outputs": [
        {
          "output_type": "stream",
          "name": "stdout",
          "text": [
            "[('mithali to anchor indian team against australia in odis', 'meanwhile, three people came there on a bike.', 'share videos', 'hence, we must make sure we ourselves dont become careless, not allow anyone else do so', 'the fir exhibit ka-19', 'the bench rejected the petition.', 'i must go.', 'people are sad and angry.', 'everything for germany.', 'three persons were arrested by the police.', \"they've stopped.\", 'all of them were from uttar pradesh.', 'circumcise therefore the foreskin of your heart, and be no more stiff-necked.', 'about 50 people were injured.', 'one had moved to the united states.', 'govt repeals articles 370. rajya sabha passes jammu and kashmir reorganisation bill', 'this will change the scenario.', 'this will ensure better returns for the farmer as well as industry.', 'asked what is that mindset, the ndb head said, the borrowers mindset is please understand our challenges and lend accordingly.', 'the accused was brought here by the punjab police from nabha jail.', 'virat kohli raises his bat after remaining unbeaten on 157.', 'the reset must be executed as quickly as possible.', \"there has been more than one attack on india 's independence.\", 'thats why this step has been taken.', 'be accompanied by such fees as may be prescribed.', 'it is further very clear from the content that jim is a pakistani', 'as a mark of', 'there is consistency in everything.', 'india love to hate pakistan.', 'she beats him.'), ('आस्ट्रेलिया के खिलाफ वनडे टीम की कमान मिताली को', 'इसी बीच एक बाइक पर तीन लोग आते दिखाई दिए।', 'वीडियो क्लिप शेयर किए', 'इसलिए, न खुद कोई लापरवाही करनी है और न ही किसी और को लापरवाही करने देना है', 'एफआईआर प्रदर्शनी के -19', 'एकलपीठ ने याचिका खारिज कर दी।', 'मुझे जाना चाहिए.', 'इससे लोग दुखी व हताश है।', 'जर्मनी के लिए सब कुछ..', 'जबकि तीन को पुलिस टीम ने गिरफ्तार कर लिया।', 'वे रुक गये है.', 'यह सभी लोग उत्तरप्रदेश के लोग थे।', 'इसलिये अपने अपने हृदय का खतना करो, और आगे को हठीले न रहो।', 'जबकि करीब 50 लोग बुरी तरह घायल हो गए थे।', 'एक अमेरिका चला गया।', 'सरकार ने जम्मू-कश्मीर को विशेष राज्य का दर्जा देने वाले अनुच्छेद 370 को रद्द करने की घोषणा की', 'यह परिदृश्य बदलने वाला होगा।', 'इससे किसान और उद्योग की बेहतर आय सुनिश्चित होगी।', \"' यह पूछने पर कि 'मन' का क्या मतलब है, एनडीबी के प्रमुख ने कहा, 'कर्ज लेने वाले का मन कह रहा होता है।\", 'आरोपी शख्स को नागपुर से गिरफ्तार किया गया है।', 'विराट कोहली ने नाबाद रहते हुए 157 रन बनाए।', 'जिस कारण मरम्मत आदि का कार्य होता रहता है।', 'भारत की आजादी पर एकाधिकार बार आक्रमण हो चुका है।', 'इस वजह से उठाया यह कदम', 'इसके साथ निर्धारित शुल्क भेजा जाएगा.', 'सार से यह भी बिल्कुल स्पष्ट हो जाता है कि जिम पाकिस्तानी है।', 'के प्रति', 'सब पर सर्वसम्मति बनी है।', 'पाकिस्तान, जितनी घृणा भारत से करता है।', 'वह उसे मार दिया.')]\n",
            "[('the fourth plan 1969 - 74 aimed at accelerating the tempo of development and reducing fluctuations in agricultural production as well as the impact of uncertainties of foreign aid.', 'or quacked.', 'find out what is the reason behind this.', 'brisk trading', 'the answer is bjp.', 'but now, i earn around 2 lakh a year only through farming.', 'aman sharma awarded', '< b > source url < / b > < b >', 'the noguchi table has become famous for its unique and unmistakable simplicity.', 'he was arrested on thursday.', 'what did you think about it?', 'bjp president amit shah also frequented his visits to the state.', 'people were very happy.', 'public works department (pwd), government of haryana, etc.', 'thieves decamp with rs 1.5 lakh', 'the period of holding or possession of property.', 'when he objected, they started beating him up.', 'in some cases i would just set them on fire and enjoy watching the firemen put out the flames.', 'terry, get in here, quick!', 'the foundation promotes communal harmony and strengthens national integration', 'special situation of jammu and kashmir', 'the discussion will continue.', 'publisher: oswaal books', 'watershed development fund (nabard)', 'recovery of dues by dc', \"team india's win\", 'time limit for application for sale', 'and every story i have is like 50 years later.', 'this film is not fictitious.', 'the courts judgment has to be respected.'), ('चौथी योजना 1969-74 का लक्ष्य विकास की गति को तेज करना तथा विदेशी सहायता की अनिश्चितता के प्रभाव को कम करना था।', 'या टास्क दिया जाता है।', 'आगे जानिए क्या है इसकी वजह।', 'अधिक लेनदेन', 'बीजेपी ने इसका जवाब दिया है.', 'लेकिन, अब खेती से उनकी सालाना कमाई लगभग 16 लाख रुपए तक हो जाती है।', 'एके शर्मा ने सम्मानित किया।', 'यूआरएल', 'न्यू हैम्पशायर का सुधार अभियान अपने ही किस्म का एक अनोखा और अद्वितीय श्रेणी का है।', 'गुरुवार को इस पर मुहर लगाई गई।', 'इस पर क्या सोचा है?', 'अमित शाह के इस दौरे के दौरान यूपी भाजपा का प्रदेश अध्यक्ष भी चूना जा सकता है।', 'लोग एक-दूसरे के साथ काफी खुश नजर आ रहे थे।', 'लोक निर्माण विभाग (पीडब्यू डी), हरियाणा सरकार, आदि।', 'युवक से 1.5 लाख की लूट', 'अवधि जिसके लिए भूमि उपयोग का अधिकार प्रदान किया गया हो।', 'विरोध किया तो उसकी पिटाई शुरू कर दी।', 'मुझे कई बार गिरफ्तार किया गया ।', 'जल्दी से!', 'फाउण्डेशन साम्प्रदायिक सौहार्द को प्रोत्साहित करता है और राष्ट्रीय एकता को मजबूत बनाता है।', 'जम्मू कश्मीर की विशेष स्थिति', 'यह बहस जारी रहेगी।', 'प्रकाशक :यूनीस्टार बुक्स प्रा. लि. मोहाली', 'अवक्रमित भूमि के विकास के लिए जलग्रहण क्षेत्र कार्यक्रम', 'डीसी द्वारा बकाये की वसूली', 'भारतीय टीम ने मुकाबले को जीता', 'तीन. विक्रय के लिए आवेदन के लिए समय सीमा', 'और हर कहानी ई अब यह लीक 4 साल का पत्र है।', \"' यह मूवी 100 फीसदी वीएफएक्सह है।\", 'कोर्ट का यह फैसला स्वागतयोग्य है।')]\n",
            "[('12 thousand is being paid by the state government for toilet construction.', 'the most powerful and effective.', 'pm modi lauds amit shah on his birthday', 'a committee has been formed to execute the project.', 'tata patna high court', 'the temperatures have dipped alarmingly over the last few days.', 'in this case, it was the association which filed an appeal.', 'the ad will release next month.', \"it's has happened before\", \"rumi's(1207-1273)masnavi is the great example of this.\", 'she is japanese.', 'its only the feel.', 'police freed her last week.', 'a case has been registered against the attackers by police.', 'a high score represents a high level of fear of intimacy.', 'this is important for the country.', 'palatitis refers to an inflammation of the hard palate.', 'connectivity features', 'a search operation is currently underway in the area.', 'this is based on a true story.', 'channel owners (+ q)', 'the accused fled from the spot after the crime.', 'the programme was a success from the start.', 'same holds true in cricket.', 'the nation honours them with a deep sense of gratitude and appreciation for dedication and courage in the face of adversity.', 'the driver of the car fled from the spot.', 'this really has happened.', 'six accused are absconding.', 'this is their life.', 'since then, the work is being done.'), ('सरकार शौचालय निर्माण के लिये 12 हजार रुपये दे रही है।', 'सर्वाधिक शक्तिशाली और प्रभावी।', 'अमित शाह के जन्मदिन पर पीएम मोदी ने किया ट्वीट, ऐसे दी बधाई', 'योजना के कार्यान्वयन के लिए एक समिति गठित की गई है।', 'टाटा पटना उच्च न्यायालय', 'गर्मी अगले कुछ दिन बेहद तेज होगी।', 'इसको लेकर असोसिएशन ने अपत्ति जताई थी।', 'विज्ञापन अगले माह तक जारी करने की तैयारी है।', 'इससे पहले यह हो चुका है', 'रूमी (१२०७-१२७३) की मसनवी इस का प्रमुख उदाहरण है।', 'वह जापानी है।', 'इसका केवल आभास होता है।', 'पुलिस ने बीते हफ्ते उसे गिरफ्तार किया था.', 'पुलिस ने हमलावर के खिलाफ केस दर्ज कर लिया है।', 'मुक्ति की अपेक्षा भक्ति के आकर्षण का एक गोपनीय रहस्य है।', 'राष्ट्र के लिए ये महत्वपूर्ण है.', 'तालुशोथ तालु की सूजन को निर्दिष्ट करता है', 'कनेक्टेड फीचर्स', 'घटनास्थल पर फिलहाल सर्च अभियान जारी है.', 'यह एक रियल स्टोरी पर बेस्ड है।', 'चैनल मालिक', 'हत्या के बाद आरोपी मौके से फरार हो गया.', 'यह कार्यक्रम शुरुआत से ही सफल है।', 'क्रिकेट भी ऐसा ही है.', 'राष्ट्र विपदा के समक्ष निष्ठा और साहस के लिए आभार और सराहना की हार्दिक भावना के साथ उनका सम्मान करता है।', 'चालक मौके से फरार हो गया।', 'ऐसा सचमुच हुआ है.', 'छह आरोपित हुए थे फरार', 'इनसे ही उनका जीवन चलता है.', 'तभी से इसे लेकर काम चल रहा है।')]\n",
            "[('everyone has to do their own thing.', 'come to me.', 'one woman died after being shot during the mayhem.', 'the status is as follows:', 'teacher unions hold protest', \"that's brotherly love.\", 'thereafter the action was taken.', 'but everyone has a right to give.', 'feeling of weakness and tiredness', 'happy birthday sachin tendulkar!', \"karimpur's seat fell vacant after sitting tmc mla mahua moitra won the parliamentary polls from krishnnanagar lok sabha seat.\", 'exchange with register', 'he was against the partition of india.', 'you will be able to notice the difference instantly.', 'for us that is paramount.', 'dont go away!', 'concerns and solutions', 'jesus mother, mary, faced such a challenge. she was brought up according to jewish tradition.', 'shops, offices and business establishments have been closed.', '( c) new zealand:', 'new tehri, may 15', 'pm modi addresses gathering', 'social media will be strictly monitored.', \"don't talk to me.\", '( 2) by means of his word, he provides counsel and guidance for us.', 'pricing of material', 'he was very much loving me.', 'step 5: the result will appear on your screen.', 'dhiraj relli, md & ceo, hdfc securities', 'there have been many reasons for this.'), ('सबको अपने अपने हिस्से का काम करना होगा.', 'तुम मेरे पास आओ।', 'इस अराजकता के दौरान गोली लगने से एक महिला की मौत हो गई।', 'स्थिति जस की तस:', 'इम्पलाइज यूनियन ने किया विरोध प्रदर्शन', 'ये भाई-बहन का प्यार है।', 'इसके बाद यह कार्रवाई हुई है।', 'लेकिन रूठने का हक सबको है।', 'कमजोरी और थकान महसूस होना', 'सचिन को मिल रही जन्मदिन की बधाई', 'महुआ मोइत्रा के कृष्णानगर लोकसभा सीट से चुनाव जीतने के बाद करीमपुर सीट खाली हो गई थी।', 'रजिस्टर के साथ विनिमय', 'वह भारत विभाजन के विरुद्ध थे।', 'इससे आपको जल्द फर्क नजर आने लगेगा।', 'हमारे लिए ये सर्वोपरि है.', 'इससे दूर मत जाइए!', 'जिज्ञासा और समाधान', 'वह मूसा की व्यवस्था का सख्ती से पालन करती थी और आराधनालय भी जाया करती थी ।', 'फैक्ट्री, गोदाम और दफ्तर को सील कर दिया गया है।', '( ख) आस्ट्रेलिया:', 'चरखी दादरी, 15 मई', 'पीएम मोदी ने बैठक को लेकर साधा था निशाना', 'सोशल मीडिया पर रखी जाएगी पैनी नजर', 'मुझसे बात मत करो!', '( २) अपने वचन के द्वारा, वह हमारे लिए सलाह और मार्गदर्शन प्रदान करता है ।', 'सामग्री की कीमत निर्धारण', 'वो मुझे सबसे ज्यादा प्यार करते थे।', 'चरण 5: अपना एमएड रिजल्ट आपकी स्क्रीन पर आ जाएगा।', 'धीरज रेल्ली, एमडी-सीईओ, एचडीएफसी सिक्योरिटीज', 'कई कारण जिम्मेदार रहे इसके लिए।')]\n",
            "[('so, cost is an important factor.', \"we 've spent a great deal of time\", 'woman abducted, gang-raped', 'the opposition needs a direction.', 'a special assembly was also organised.', 'this is my inspiration.', 'all is fair in love', 'as a result, the car caught fire.', '\"the \"\"principal court of civil jurisdiction\"\"\"', 'we brought about 5,000 pounds of equipment with us.', 'the process needs to be speeded up.', 'the incident occurred in the chhatarpur extension area in south delhi.', 'it will be taken out.', 'the information was uploaded on the website of the apex court.', \"it's a sad moment for all of us.\", 'the court rejected the appeal.', 'milk and water will be sifted.', 'new delhi is the capital of india', 'just once.', 'panic-struck', 'sajjan kumar (photo: pti)', 'when a skater is starting, stopping, or turning, that skater is accelerating.', 'she confessed to having tortured the boy.', 'the police have recovered the dead body.', 'the prize money of this award is rupees 10 lacs.', 'sometimes yes.', 'post card', '(through regional committee of mqm, peshawar)', \"it's surprising, but true.\", 'notes that cannot be identified for any reason'), ('तो, लागत एक महत्वपूर्ण कारक है।', 'हमने काफी समय बिताया', 'महिला का अपहरण कर किया सामूहिक दुष्कर्म', 'विपक्ष को कोई ना कोई मुददा चाहिए।', 'स्पेशल टीम का भी गठन किया गया है।', 'यही मेरी प्रेरणा है।', 'प्यार से हर बात को', 'नतीजतन, कार बह गई।', '\"\"\"सिविल न्यायालय के प्रधान न्यायालय\"\"\"', 'हम अपने साथ लगभग लगभग बाईस सौ किलो के उपकरण लाए।', 'इस क्रियान्वयन की गति तेज की जानी चाहिए।', 'मामला दक्षिणी दिल्ली के छतरपुर इलाके का है।', 'वह आउट हो किया जाएगा।', 'यह सूचना सुप्रीम कोर्ट की वेबसाइट पर डाली गई है।', 'हम सब के लिए ये दुखदायी क्षण है।', 'जिस पर कोर्ट ने अर्जी वापस कर दी।', 'दूध का दूध और पानी का पानी हो जाएगा.', 'भारत की राजधानी नई दिल्ली है।', 'बस एक बार.', 'भययुक्त', 'सज्जन कुमार (फोटो: पीटीआई)', 'एक स्केटर, शुरू करने को रोकने, या बदल गया है, जब कि स्केटर तेजी है.', 'उसने बच्ची से दुष्कर्म करने की बात कबूल की है।', 'पुलिस को अधजली लाश बरामद हुई.', 'इस मैराथन की ईनामी राशि 10 लाख रूपए होगी।', 'अलबत्ता कभी-कभी।', 'पोस्ट कार्ड', '(द्वारा एम क्यु एम प्रान्तीय कमिटी पेशावर)', 'बात हैरान करने वाली है, लेकिन है हकीकत।', 'ऐसे नोट, जिनकी किसी भी कारण से पहचान न हो सके')]\n"
          ]
        }
      ],
      "source": [
        "for batch_num, batch in enumerate(iterator):\n",
        "    print(batch)\n",
        "    if batch_num>3:\n",
        "        break\n"
      ]
    },
    {
      "cell_type": "code",
      "execution_count": 86,
      "metadata": {
        "colab": {
          "base_uri": "https://localhost:8080/"
        },
        "id": "mOzFc8u1HpM-",
        "outputId": "f2a75d19-0e61-4435-a00f-d03df9b41148"
      },
      "outputs": [
        {
          "output_type": "stream",
          "name": "stdout",
          "text": [
            "cuda\n"
          ]
        },
        {
          "output_type": "stream",
          "name": "stderr",
          "text": [
            "<ipython-input-86-37c934e5bce7>:6: UserWarning: nn.init.xavier_uniform is now deprecated in favor of nn.init.xavier_uniform_.\n",
            "  nn.init.xavier_uniform(params)\n"
          ]
        }
      ],
      "source": [
        "# to prevent the padding tokens from contributing to the loss.\n",
        "criterian = nn.CrossEntropyLoss( ignore_index = hin_index[PADDING_TOKEN]) #so that the loss calculation ignores cases where the target label is the padding token.\n",
        "\n",
        "for params in transformer.parameters():\n",
        "    if params.dim() > 1 : # initializing weight parameters for 2d matrix or more\n",
        "        nn.init.xavier_uniform(params)\n",
        "        # nn.init.xavier_uniform --> initializes the weights of the layer with values drawn from a uniform distribution within a specified range.\n",
        "        #  It helps in better weight initialization, which can lead to more stable training and better convergence of neural network models.\n",
        "\n",
        "optim = torch.optim.Adam(transformer.parameters(), lr = 1e-4) # Adam Optimizer\n",
        "\n",
        "\n",
        "device = torch.device('cuda') if torch.cuda.is_available() else torch.device('cpu')\n",
        "print(device)\n"
      ]
    },
    {
      "cell_type": "code",
      "execution_count": 88,
      "metadata": {
        "id": "jpg9vVIqHpM-"
      },
      "outputs": [],
      "source": [
        "NEG_INFTY = -1e9\n",
        "\n",
        "def create_mask(eng_batch, hin_batch):\n",
        "    num_sentences = len(eng_batch)\n",
        "    look_ahead_mask = torch.full([max_sequence_length, max_sequence_length], True)\n",
        "    look_ahead_mask = torch.triu(look_ahead_mask, diagonal = 1)\n",
        "    encoder_padding_mask = torch.full([num_sentences,max_sequence_length, max_sequence_length], False)\n",
        "    decoder_padding_mask_self_attention = torch.full([num_sentences,max_sequence_length, max_sequence_length], False)\n",
        "    decoder_padding_mask_cross_attention = torch.full([num_sentences,max_sequence_length, max_sequence_length], False)\n",
        "\n",
        "    for idx in range(num_sentences):\n",
        "        eng_sentence_length, hin_sentence_length = len(eng_batch[idx]), len(hin_batch[idx]) # length of each sentence in a batch character wise(letters)\n",
        "        eng_chars_to_padding_mask = np.arange(eng_sentence_length + 1, max_sequence_length) # indices needed to be padded for english sentences\n",
        "        hin_chars_to_padding_mask = np.arange(hin_sentence_length + 1, max_sequence_length)# indices needed to be padded for hindi sentences\n",
        "        # The padding mask is used to mask out certain positions in the input sequence where padding tokens are present\n",
        "        encoder_padding_mask[idx, :, eng_chars_to_padding_mask] = True\n",
        "        encoder_padding_mask[idx, eng_chars_to_padding_mask, :] = True\n",
        "        decoder_padding_mask_self_attention[idx, : ,hin_chars_to_padding_mask] = True\n",
        "        decoder_padding_mask_self_attention[idx, hin_chars_to_padding_mask, :] = True\n",
        "        decoder_padding_mask_cross_attention[idx, : ,eng_chars_to_padding_mask] = True\n",
        "        decoder_padding_mask_cross_attention[idx, hin_chars_to_padding_mask, :] = True\n",
        "    encoder_self_attention_mask = torch.where(encoder_padding_mask, NEG_INFTY, 0)\n",
        "    decoder_self_attention_mask = torch.where(look_ahead_mask + decoder_padding_mask_self_attention, NEG_INFTY, 0)\n",
        "    decoder_cross_attention_mask = torch.where(decoder_padding_mask_cross_attention, NEG_INFTY, 0)\n",
        "    return encoder_self_attention_mask, decoder_self_attention_mask, decoder_cross_attention_mask\n"
      ]
    },
    {
      "cell_type": "code",
      "execution_count": 91,
      "metadata": {
        "colab": {
          "base_uri": "https://localhost:8080/"
        },
        "id": "eeBKXhElHpM-",
        "outputId": "59673819-30c8-485c-fa2d-9a93b3081d0b"
      },
      "outputs": [
        {
          "output_type": "stream",
          "name": "stdout",
          "text": [
            "Epoch 0\n"
          ]
        },
        {
          "output_type": "stream",
          "name": "stderr",
          "text": [
            "  0%|          | 1/5194 [00:01<2:25:32,  1.68s/it]"
          ]
        },
        {
          "output_type": "stream",
          "name": "stdout",
          "text": [
            "iteration 0 : 0.0027983884792774916\n",
            "English: mithali to anchor indian team against australia in odis\n",
            "Hindi Translation: आस्ट्रेलिया के खिलाफ वनडे टीम की कमान मिताली को\n",
            "Hindi Prediction: ससे                                                               क            ि ्   क ाा ्        ा                        ि ि       ि     र                        ्ा      ाय  ा      ि्  स    ।       स    ा  ाक   ा स  े    े       क       ्        े   ि                                                   ा                   ा्                                 \n"
          ]
        },
        {
          "output_type": "stream",
          "name": "stderr",
          "text": [
            "  2%|▏         | 101/5194 [02:46<2:25:47,  1.72s/it]"
          ]
        },
        {
          "output_type": "stream",
          "name": "stdout",
          "text": [
            "iteration 100 : 0.002830502111464739\n",
            "English: what does the modi government have?\n",
            "Hindi Translation: मोदी सरकार के पास क्या है विकल्प\n",
            "Hindi Prediction: इस   के    का कार क सा क  ह क   ा     क  लल ल रसक ल         र   र  कनम   ल    ललत न  व  क त   क कररसपर ा           र    रककर क  कक   न फपर क  सनापसप सककम  ककअ क प   कप  ा   यन नमन ोन  वसवससस    कनक ल सकफअकवककससककक  नवयमक स स ससस    तस           क  कककस                 ल             ल             म      कक ए            ववतन                       ल स म लल स  स\n"
          ]
        },
        {
          "output_type": "stream",
          "name": "stderr",
          "text": [
            "  4%|▍         | 201/5194 [05:35<2:24:16,  1.73s/it]"
          ]
        },
        {
          "output_type": "stream",
          "name": "stdout",
          "text": [
            "iteration 200 : 0.0022776788100600243\n",
            "English: the court awarded all the four life imprisonment.\n",
            "Hindi Translation: कोर्ट ने सभी को आजीवन कारावास की सजा सुनाई है.\n",
            "Hindi Prediction: इेनकर क  काा का ससा ाेका      क  ह ा हेगा  ह ।\n"
          ]
        },
        {
          "output_type": "stream",
          "name": "stderr",
          "text": [
            "  6%|▌         | 301/5194 [08:22<2:16:44,  1.68s/it]"
          ]
        },
        {
          "output_type": "stream",
          "name": "stdout",
          "text": [
            "iteration 300 : 0.0024567730724811554\n",
            "English: after this, she became unconscious.\n",
            "Hindi Translation: इसके बाद वह बेसुध हो गई थी।\n",
            "Hindi Prediction: सस   क   क  का ेराकै का हर \n"
          ]
        },
        {
          "output_type": "stream",
          "name": "stderr",
          "text": [
            "  8%|▊         | 401/5194 [11:09<2:12:29,  1.66s/it]"
          ]
        },
        {
          "output_type": "stream",
          "name": "stdout",
          "text": [
            "iteration 400 : 0.002094089752063155\n",
            "English: the contest was over before it started as the opponent backed off.\n",
            "Hindi Translation: विरोधी के हट जाने से प्रतियोगिता शुरु से पहले ही खत्म हो गई।\n",
            "Hindi Prediction: इहस    का का का   के किर  या     क    क  काै  पै क ायाकै का \n"
          ]
        },
        {
          "output_type": "stream",
          "name": "stderr",
          "text": [
            " 10%|▉         | 501/5194 [13:57<2:04:36,  1.59s/it]"
          ]
        },
        {
          "output_type": "stream",
          "name": "stdout",
          "text": [
            "iteration 500 : 0.002248846460133791\n",
            "English: the chromium authors\n",
            "Hindi Translation: क्रोमियम लेखक\n",
            "Hindi Prediction: योरा  सााहा ाे  र  लल   ललक रलल  ललरर    ररर न     सल  त       र      रय               ररररर  र र रररर     रर   र  ननकननरर ररर र  र रन न  ररन  ररर     रररनर ररररप  तय  क  र यक नरकरम यर रव रनय  रर  ललनन रत टतकरनकरयनतसतयर  य  नलक    ललत          न  रकनन   र    न  र क रररयनल                यर रर रर  रर लरर  म न ल   न      लल  स   र ल ल       य  ल य   लल ल र ललर\n"
          ]
        },
        {
          "output_type": "stream",
          "name": "stderr",
          "text": [
            " 12%|█▏        | 601/5194 [16:42<2:02:07,  1.60s/it]"
          ]
        },
        {
          "output_type": "stream",
          "name": "stdout",
          "text": [
            "iteration 600 : 0.00272458721883595\n",
            "English: this article moved me deeply. i thank god so much that he does not see us the way we see ourselves.\n",
            "Hindi Translation: इस लेख ने मेरे दिल को छू लिया है ।\n",
            "Hindi Prediction: पस कि  के के   के  का का किरा को क\n"
          ]
        },
        {
          "output_type": "stream",
          "name": "stderr",
          "text": [
            " 13%|█▎        | 701/5194 [19:29<1:56:12,  1.55s/it]"
          ]
        },
        {
          "output_type": "stream",
          "name": "stdout",
          "text": [
            "iteration 700 : 0.002866634400561452\n",
            "English: oesophagoscopy is done in oesophagitis.\n",
            "Hindi Translation: ग्रासनलीशोथ ग्रासनलीगृहा दर्शन किया गया.\n",
            "Hindi Prediction: इोरा        कार          कि या हीय  करा \n"
          ]
        },
        {
          "output_type": "stream",
          "name": "stderr",
          "text": [
            " 15%|█▌        | 801/5194 [22:17<1:56:56,  1.60s/it]"
          ]
        },
        {
          "output_type": "stream",
          "name": "stdout",
          "text": [
            "iteration 800 : 0.002287497976794839\n",
            "English: and this campaign ...\n",
            "Hindi Translation: यह अभियान .\n",
            "Hindi Prediction: यह पसीया  स\n"
          ]
        },
        {
          "output_type": "stream",
          "name": "stderr",
          "text": [
            " 17%|█▋        | 901/5194 [25:06<2:07:09,  1.78s/it]"
          ]
        },
        {
          "output_type": "stream",
          "name": "stdout",
          "text": [
            "iteration 900 : 0.0022121695801615715\n",
            "English: amitabh bachchan was also seen at the bash.\n",
            "Hindi Translation: इस दौरान अमिताभ बच्चन भी नजर आए.\n",
            "Hindi Prediction: यस काल   कपाय  ीकााय  की केा कस \n"
          ]
        },
        {
          "output_type": "stream",
          "name": "stderr",
          "text": [
            " 19%|█▉        | 1001/5194 [27:54<1:57:26,  1.68s/it]"
          ]
        },
        {
          "output_type": "stream",
          "name": "stdout",
          "text": [
            "iteration 1000 : 0.002037897240370512\n",
            "English: to enter into a contract to obtain loan.\n",
            "Hindi Translation: ऋण लेने के लिए कोई करार किया जाना।\n",
            "Hindi Prediction: इर कि   का किल के  के   को ा हार  \n"
          ]
        },
        {
          "output_type": "stream",
          "name": "stderr",
          "text": [
            " 21%|██        | 1101/5194 [30:43<1:51:05,  1.63s/it]"
          ]
        },
        {
          "output_type": "stream",
          "name": "stdout",
          "text": [
            "iteration 1100 : 0.0021141746547073126\n",
            "English: this can be annoying.\n",
            "Hindi Translation: इससे मन व्यथित हो सकता है।\n",
            "Hindi Prediction: यसके कराकिरा   है हे   है।\n"
          ]
        },
        {
          "output_type": "stream",
          "name": "stderr",
          "text": [
            " 23%|██▎       | 1201/5194 [33:32<1:47:20,  1.61s/it]"
          ]
        },
        {
          "output_type": "stream",
          "name": "stdout",
          "text": [
            "iteration 1200 : 0.0020405715331435204\n",
            "English: the state government has declared a day's state mourning.\n",
            "Hindi Translation: राज्य सरकार ने एक दिन का राजकीय शोक घोषित किया है।\n",
            "Hindi Prediction: इ्र य के    के ककाकिल का कहराा ाकर ाकर ाय हा ा है।\n"
          ]
        },
        {
          "output_type": "stream",
          "name": "stderr",
          "text": [
            " 25%|██▌       | 1301/5194 [36:20<1:53:27,  1.75s/it]"
          ]
        },
        {
          "output_type": "stream",
          "name": "stdout",
          "text": [
            "iteration 1300 : 0.0023368189577013254\n",
            "English: definition of village electrification\n",
            "Hindi Translation: ग्रामीण विद्युतीकरण की परिभाषा\n",
            "Hindi Prediction: इुर     काल रार  ा  के हर एा   र रल र   रक  र र  र र    र                  र          करररर        र र    र  रर कर   करक     र  र  क  र रकर  र         करर  रक र कक        रक सकलर ररकम   सर स  क     ल     र नकमकककरक  रव     स    र  लररकक      ककक     कल       क ल ल     र ल             ल   रर रर र क ल र रम रकम    ल       रललल ल  करकसस   ल ललर लल  र   ललरललललरल\n"
          ]
        },
        {
          "output_type": "stream",
          "name": "stderr",
          "text": [
            " 27%|██▋       | 1401/5194 [39:11<2:00:05,  1.90s/it]"
          ]
        },
        {
          "output_type": "stream",
          "name": "stdout",
          "text": [
            "iteration 1400 : 0.001947496086359024\n",
            "English: health horoscope 2020\n",
            "Hindi Translation: वृषभ राशिफल 2020\n",
            "Hindi Prediction: कार्ाकादाक  क0   टम  र     रर रररर   र ल र ररररकर लररररररर र       सर र     रर      र ररररर  र र   रर    रर रर  र ल कक  रय रररररर   ररर ररररररर रर   तमर ररररररर यर     र मररमरममररररररयमररय  रर ररलर मललकरररयय ररररयय  कय  र  यक ल रर र यरक  क  रर  क   रर  ल र रल   रल  र यलरलर  क  य ररर म यरररययररमररक ररलरररर ररकमरन न   ल  लयलयलललयररररल  लरलयल ललयलललललररलललरलरलर\n"
          ]
        },
        {
          "output_type": "stream",
          "name": "stderr",
          "text": [
            " 29%|██▉       | 1501/5194 [41:59<1:44:48,  1.70s/it]"
          ]
        },
        {
          "output_type": "stream",
          "name": "stdout",
          "text": [
            "iteration 1500 : 0.0021292767487466335\n",
            "English: integrated family welfare, immunisation and mch programme and other national health programme etc.\n",
            "Hindi Translation: एकीकृत परिवार कल्याण, प्रतिरक्षण तथा एम सी एच कार्यक्रम और अन्य राष्ट्रीय स्वास्थ्य कार्यक्रम आदि।\n",
            "Hindi Prediction: इक  ा  का सा  के ता   कुर     त  का  कक के कक का  मा त  कर कधेयाक  ्र त  ाकाता  त त का  राार  ह  य\n"
          ]
        },
        {
          "output_type": "stream",
          "name": "stderr",
          "text": [
            " 31%|███       | 1601/5194 [44:44<1:34:59,  1.59s/it]"
          ]
        },
        {
          "output_type": "stream",
          "name": "stdout",
          "text": [
            "iteration 1600 : 0.0022059855982661247\n",
            "English: the thar express has been running between jodhpur and karachi every saturday morning since services resumed on february 18, 2006, after a 41-year suspension.\n",
            "Hindi Translation: 2006 से चल रही है यह ट्रेन थार एक्सप्रेस 18 फरवरी 2006 से जोधपुर के भगत की कोठी स्टेशन से कराची के बीच हर शुक्रवार रात को चलती है।\n",
            "Hindi Prediction: प0   क् कााकाा की कह किर   का  ककार  र  ाक0 किाा  क0 1 के किका्  के काााका कि ा क्रा  ाकक कि  ा के का ाकै क करव्ार क  ्का किाा कै।\n"
          ]
        },
        {
          "output_type": "stream",
          "name": "stderr",
          "text": [
            " 33%|███▎      | 1701/5194 [47:29<1:35:03,  1.63s/it]"
          ]
        },
        {
          "output_type": "stream",
          "name": "stdout",
          "text": [
            "iteration 1700 : 0.0019856325816363096\n",
            "English: dm& rd\n",
            "Hindi Translation: डीएम और आरडी\n",
            "Hindi Prediction: मि   सर\n"
          ]
        },
        {
          "output_type": "stream",
          "name": "stderr",
          "text": [
            " 35%|███▍      | 1801/5194 [50:17<1:34:48,  1.68s/it]"
          ]
        },
        {
          "output_type": "stream",
          "name": "stdout",
          "text": [
            "iteration 1800 : 0.002144171856343746\n",
            "English: the value of a diamond is based on the 4 cs: cut, colour, clarity and carat.\n",
            "Hindi Translation: हीरे का आकलन हीरे के 4 सी (कट, कलर, क्लेरिटी, करेट) से की जाती है।\n",
            "Hindi Prediction: पम ् का कर   कै   के क के कसा  का   किट   य   का    के कर का ा है।\n"
          ]
        },
        {
          "output_type": "stream",
          "name": "stderr",
          "text": [
            " 37%|███▋      | 1901/5194 [53:05<1:27:04,  1.59s/it]"
          ]
        },
        {
          "output_type": "stream",
          "name": "stdout",
          "text": [
            "iteration 1900 : 0.0018392616184428334\n",
            "English: the situation is much better now.\n",
            "Hindi Translation: अब इस सिस्टम को काफी आसान बना दिया गया है।\n",
            "Hindi Prediction: सप हस केल य  की की   हरक  हहक हीया हईा है।\n"
          ]
        },
        {
          "output_type": "stream",
          "name": "stderr",
          "text": [
            " 39%|███▊      | 2001/5194 [55:53<1:27:50,  1.65s/it]"
          ]
        },
        {
          "output_type": "stream",
          "name": "stdout",
          "text": [
            "iteration 2000 : 0.0024352185428142548\n",
            "English: the police have sent the body of the woman for a postmortem.\n",
            "Hindi Translation: पुलिस ने अज्ञात महिला के शव को पोस्टमार्टम के लिए भेजा है।\n",
            "Hindi Prediction: इुलिस के कपाया  का    के किाको करर य    य  की किए की   कै।\n"
          ]
        },
        {
          "output_type": "stream",
          "name": "stderr",
          "text": [
            " 40%|████      | 2101/5194 [58:42<1:29:04,  1.73s/it]"
          ]
        },
        {
          "output_type": "stream",
          "name": "stdout",
          "text": [
            "iteration 2100 : 0.0021434437949210405\n",
            "English: this is done to save the reputation of the much-maligned police force.\n",
            "Hindi Translation: यह बहुत अधिक दुर्भावनापूर्ण पुलिस बल की प्रतिष्ठा को बचाने के लिए किया जाता है।\n",
            "Hindi Prediction: मह मा   कन्स केल या ा   र ट करलाय कााके कररााय त  के काा   हि हिय केया हा।ा है।\n"
          ]
        },
        {
          "output_type": "stream",
          "name": "stderr",
          "text": [
            " 42%|████▏     | 2201/5194 [1:01:31<1:20:13,  1.61s/it]"
          ]
        },
        {
          "output_type": "stream",
          "name": "stdout",
          "text": [
            "iteration 2200 : 0.0020648669451475143\n",
            "English: india just a wicket away from victory.\n",
            "Hindi Translation: भारतीय टीम जीत से महज एक विकेट दूर है.\n",
            "Hindi Prediction: पार    का  का  के काी हकीकिर   हरर है।\n"
          ]
        },
        {
          "output_type": "stream",
          "name": "stderr",
          "text": [
            " 44%|████▍     | 2301/5194 [1:04:20<1:21:32,  1.69s/it]"
          ]
        },
        {
          "output_type": "stream",
          "name": "stdout",
          "text": [
            "iteration 2300 : 0.002046006266027689\n",
            "English: this is very good news for north korea and the world -- big progress!\n",
            "Hindi Translation: ये उत्तर कोरिया और पूरे विश्व के लिए बहुत अच्छी खबर है.\n",
            "Hindi Prediction: इह कस्म  को  का कर करर  काक टाको किए का ताकपाद  कि् कै।\n"
          ]
        },
        {
          "output_type": "stream",
          "name": "stderr",
          "text": [
            " 46%|████▌     | 2401/5194 [1:07:06<1:18:11,  1.68s/it]"
          ]
        },
        {
          "output_type": "stream",
          "name": "stdout",
          "text": [
            "iteration 2400 : 0.0020565420854836702\n",
            "English: as a result, he died on the spot.\n",
            "Hindi Translation: जिससे घटनास्थल पर उसकी मौत हो गई।\n",
            "Hindi Prediction: इिसेे नर    ट  क् कसका काराहै हई।\n"
          ]
        },
        {
          "output_type": "stream",
          "name": "stderr",
          "text": [
            " 48%|████▊     | 2501/5194 [1:09:54<1:20:58,  1.80s/it]"
          ]
        },
        {
          "output_type": "stream",
          "name": "stdout",
          "text": [
            "iteration 2500 : 0.001989351585507393\n",
            "English: 'peace be upon moses and aaron'\n",
            "Hindi Translation: \"कि \"\"सलाम है मूसा और हारून पर!\"\"\"\n",
            "Hindi Prediction: य\"िनकप\"्   कै कार्रकर कै    क््\n"
          ]
        },
        {
          "output_type": "stream",
          "name": "stderr",
          "text": [
            " 50%|█████     | 2601/5194 [1:12:43<1:07:57,  1.57s/it]"
          ]
        },
        {
          "output_type": "stream",
          "name": "stdout",
          "text": [
            "iteration 2600 : 0.0021847800817340612\n",
            "English: what can we say?\n",
            "Hindi Translation: वह कह भी क्या सकती है?\n",
            "Hindi Prediction: यह होीमी किया हेाा है।\n"
          ]
        },
        {
          "output_type": "stream",
          "name": "stderr",
          "text": [
            " 52%|█████▏    | 2701/5194 [1:15:31<1:11:41,  1.73s/it]"
          ]
        },
        {
          "output_type": "stream",
          "name": "stdout",
          "text": [
            "iteration 2700 : 0.001980103086680174\n",
            "English: eu-russia relations\n",
            "Hindi Translation: यूरोप और रूस कनेक्शन\n",
            "Hindi Prediction: कहर् ाकर कार\n"
          ]
        },
        {
          "output_type": "stream",
          "name": "stderr",
          "text": [
            " 54%|█████▍    | 2801/5194 [1:18:18<1:08:09,  1.71s/it]"
          ]
        },
        {
          "output_type": "stream",
          "name": "stdout",
          "text": [
            "iteration 2800 : 0.0018975286511704326\n",
            "English: the film is written and directed by prawaal raman.\n",
            "Hindi Translation: फिल्म का निर्देशन प्रबल रमन ने किया है।\n",
            "Hindi Prediction: किल्म के केर्य    कररा  कााेके केया कै।\n"
          ]
        },
        {
          "output_type": "stream",
          "name": "stderr",
          "text": [
            " 56%|█████▌    | 2901/5194 [1:21:02<1:04:45,  1.69s/it]"
          ]
        },
        {
          "output_type": "stream",
          "name": "stdout",
          "text": [
            "iteration 2900 : 0.001957331318408251\n",
            "English: clear instructions have been given to the dm of every district in this regard.\n",
            "Hindi Translation: इस बाबत सीएम के आदेश की सूचना प्रत्येक जिला को दे दी गई है.\n",
            "Hindi Prediction: इसकपाजा के   के सर्  को केर   क्र  त   काला के कि कि कय।है।\n"
          ]
        },
        {
          "output_type": "stream",
          "name": "stderr",
          "text": [
            " 58%|█████▊    | 3001/5194 [1:23:49<56:46,  1.55s/it]"
          ]
        },
        {
          "output_type": "stream",
          "name": "stdout",
          "text": [
            "iteration 3000 : 0.0018130301032215357\n",
            "English: the function was inaugurated by chief guest rajpur mla rajkumar.\n",
            "Hindi Translation: इसका उदघाटन आज महापौर राजबाला मलिक ने किया ।\n",
            "Hindi Prediction: इस ेरकस् र  कर्का  ्र्किन  र  किास कि के ा ह\n"
          ]
        },
        {
          "output_type": "stream",
          "name": "stderr",
          "text": [
            " 60%|█████▉    | 3101/5194 [1:26:38<56:37,  1.62s/it]"
          ]
        },
        {
          "output_type": "stream",
          "name": "stdout",
          "text": [
            "iteration 3100 : 0.0019834875129163265\n",
            "English: thatd be great.\n",
            "Hindi Translation: यह बेहतरीन होगी।\n",
            "Hindi Prediction: यह हा      है ा \n"
          ]
        },
        {
          "output_type": "stream",
          "name": "stderr",
          "text": [
            " 62%|██████▏   | 3201/5194 [1:29:27<57:45,  1.74s/it]  "
          ]
        },
        {
          "output_type": "stream",
          "name": "stdout",
          "text": [
            "iteration 3200 : 0.0022514371667057276\n",
            "English: congratulations to both of them.\n",
            "Hindi Translation: इन सभी को बधाई।\n",
            "Hindi Prediction: इसकबेी के सा्र \n"
          ]
        },
        {
          "output_type": "stream",
          "name": "stderr",
          "text": [
            " 64%|██████▎   | 3301/5194 [1:32:15<53:42,  1.70s/it]"
          ]
        },
        {
          "output_type": "stream",
          "name": "stdout",
          "text": [
            "iteration 3300 : 0.0022135016042739153\n",
            "English: the hearing of ayodhya matter has been delayed further.\n",
            "Hindi Translation: अयोध्या मामले की सुनवाई एक बार फिर टल गई है।\n",
            "Hindi Prediction: इना िर  कार   के पेमे   कक सनद किल करिकय।है।\n"
          ]
        },
        {
          "output_type": "stream",
          "name": "stderr",
          "text": [
            " 65%|██████▌   | 3401/5194 [1:35:04<48:52,  1.64s/it]"
          ]
        },
        {
          "output_type": "stream",
          "name": "stdout",
          "text": [
            "iteration 3400 : 0.0020744726061820984\n",
            "English: revising history\n",
            "Hindi Translation: इतिहास की समीक्षा\n",
            "Hindi Prediction: सस्का  के केा ाय\n"
          ]
        },
        {
          "output_type": "stream",
          "name": "stderr",
          "text": [
            " 67%|██████▋   | 3501/5194 [1:37:53<52:21,  1.86s/it]"
          ]
        },
        {
          "output_type": "stream",
          "name": "stdout",
          "text": [
            "iteration 3500 : 0.001717925537377596\n",
            "English: thank you all for your support!\n",
            "Hindi Translation: आप सबके समर्थन के लिए शुक्रिया।\n",
            "Hindi Prediction: कप क्ा  सेा य  क् लिए क्क्ष ता \n"
          ]
        },
        {
          "output_type": "stream",
          "name": "stderr",
          "text": [
            " 69%|██████▉   | 3601/5194 [1:40:40<45:27,  1.71s/it]"
          ]
        },
        {
          "output_type": "stream",
          "name": "stdout",
          "text": [
            "iteration 3600 : 0.0020862158853560686\n",
            "English: where in city.\n",
            "Hindi Translation: और खुद शहर के नीचे?\n",
            "Hindi Prediction: यर पोप कुा हा लि।ा \n"
          ]
        },
        {
          "output_type": "stream",
          "name": "stderr",
          "text": [
            " 71%|███████▏  | 3701/5194 [1:43:29<40:37,  1.63s/it]"
          ]
        },
        {
          "output_type": "stream",
          "name": "stdout",
          "text": [
            "iteration 3700 : 0.0018259475473314524\n",
            "English: he committed suicide because he was upset about this.\n",
            "Hindi Translation: इसी से परेशान होकर उसने खुदकुशी कर ली थी।\n",
            "Hindi Prediction: यस  कम कु     कै ा कस े कारा    केनकिकहे।\n"
          ]
        },
        {
          "output_type": "stream",
          "name": "stderr",
          "text": [
            " 73%|███████▎  | 3801/5194 [1:46:15<37:12,  1.60s/it]"
          ]
        },
        {
          "output_type": "stream",
          "name": "stdout",
          "text": [
            "iteration 3800 : 0.0016695642843842506\n",
            "English: yahweh said to me, don't pray for this people for their good.\n",
            "Hindi Translation: फिर यहोवा ने मुझ से कहा, इस प्रजा की भलाई के लिये प्रार्थना मत कर।\n",
            "Hindi Prediction: इिल सह  ारके सालासे सीत  कसकपररक  कर हीा  ही लगएा हररकत जा  कााहर \n"
          ]
        },
        {
          "output_type": "stream",
          "name": "stderr",
          "text": [
            " 75%|███████▌  | 3901/5194 [1:49:03<35:48,  1.66s/it]"
          ]
        },
        {
          "output_type": "stream",
          "name": "stdout",
          "text": [
            "iteration 3900 : 0.0019840227905660868\n",
            "English: very negatively.\n",
            "Hindi Translation: यह बहुत नकारात्मक है।\n",
            "Hindi Prediction: कह वाुत के     र  कै।\n"
          ]
        },
        {
          "output_type": "stream",
          "name": "stderr",
          "text": [
            " 77%|███████▋  | 4001/5194 [1:51:51<34:20,  1.73s/it]"
          ]
        },
        {
          "output_type": "stream",
          "name": "stdout",
          "text": [
            "iteration 4000 : 0.001979297026991844\n",
            "English: it is a government order.\n",
            "Hindi Translation: यह है सरकारी आदेश\n",
            "Hindi Prediction: इह सम सा्ार  कर्                र                     र                                             स            र        रर  र     रर  र ररर  र               र            र      क र             लल लल ल ल लल सलसरस स  स      स        र                र र                रर        र            र          र   ल             लल र                  ल  ल  ल  ल  ल ल र\n"
          ]
        },
        {
          "output_type": "stream",
          "name": "stderr",
          "text": [
            " 79%|███████▉  | 4101/5194 [1:54:39<30:13,  1.66s/it]"
          ]
        },
        {
          "output_type": "stream",
          "name": "stdout",
          "text": [
            "iteration 4100 : 0.001985531998798251\n",
            "English: the videography was done by the pmo cameraman\n",
            "Hindi Translation: पीएमओ के वीडियोग्राफर ने किया शूट\n",
            "Hindi Prediction: सुसम  के लिडिया ार    के कोया कार        ल सल रर लट लरर ल लर           ल  ल  लल      प  रर        सस   र  र र  र  र   र    र   रर    र र रर रर  र  स स रर   र र             र  सरर सस  र र सससररररललललललसलरसललस ररस ररसरलससस      ल ल   र र       लर     र  रर    र   ल     रररर ल   र स        र  र र    ल   ल र   ल लल       लललललरलस लर   ल सललल ल सल ललल  लल  ललरललल\n"
          ]
        },
        {
          "output_type": "stream",
          "name": "stderr",
          "text": [
            " 81%|████████  | 4201/5194 [1:57:29<26:43,  1.61s/it]"
          ]
        },
        {
          "output_type": "stream",
          "name": "stdout",
          "text": [
            "iteration 4200 : 0.0017238962464034557\n",
            "English: the accused took her to jammu.\n",
            "Hindi Translation: इसके बाद आरोपी उसे जम्मू ले आया।\n",
            "Hindi Prediction: इस े बाद करोपी कनक का छ रहि हएा \n"
          ]
        },
        {
          "output_type": "stream",
          "name": "stderr",
          "text": [
            " 83%|████████▎ | 4301/5194 [2:00:16<23:54,  1.61s/it]"
          ]
        },
        {
          "output_type": "stream",
          "name": "stdout",
          "text": [
            "iteration 4300 : 0.002231332939118147\n",
            "English: she takes a temporary leave of absence from work.\n",
            "Hindi Translation: यह क्षतिपूर्ति के भुगतान की अनुमति के बिना है।\n",
            "Hindi Prediction: इह साष्  ्र टि के लीर    के कपाकया हे लनला कै।\n"
          ]
        },
        {
          "output_type": "stream",
          "name": "stderr",
          "text": [
            " 85%|████████▍ | 4401/5194 [2:03:05<22:44,  1.72s/it]"
          ]
        },
        {
          "output_type": "stream",
          "name": "stdout",
          "text": [
            "iteration 4400 : 0.002426991006359458\n",
            "English: is this defection?\n",
            "Hindi Translation: क्या यह कोई प्रिविलेज है?\n",
            "Hindi Prediction: क्या कह ह्  क्रतयाता ाहै?\n"
          ]
        },
        {
          "output_type": "stream",
          "name": "stderr",
          "text": [
            " 87%|████████▋ | 4501/5194 [2:05:55<18:21,  1.59s/it]"
          ]
        },
        {
          "output_type": "stream",
          "name": "stdout",
          "text": [
            "iteration 4500 : 0.0016726943431422114\n",
            "English: leakage of income\n",
            "Hindi Translation: आय रिसाव\n",
            "Hindi Prediction: कराकहव् ा लल  स                र सस   र    ल लसररससससरसर स  सर      सर र                  स   ल      स    द र      र  र र      रर र  र रररर रलस र            र र         स   स    सस सर ररससस   र   स लस लररररररररसरर  सस र सस स  रल स  र                 रररर                र       स      ल  र   र र        र  रस   र        ललललसलरर    रर स सल स    ललर ललस   लसललल\n"
          ]
        },
        {
          "output_type": "stream",
          "name": "stderr",
          "text": [
            " 89%|████████▊ | 4601/5194 [2:08:40<16:10,  1.64s/it]"
          ]
        },
        {
          "output_type": "stream",
          "name": "stdout",
          "text": [
            "iteration 4600 : 0.0019093306036666036\n",
            "English: experts answer\n",
            "Hindi Translation: एक्सपर्ट्स ने बताए जवाब\n",
            "Hindi Prediction: पक ट ा ट र के काा \n"
          ]
        },
        {
          "output_type": "stream",
          "name": "stderr",
          "text": [
            " 91%|█████████ | 4701/5194 [2:11:31<13:21,  1.62s/it]"
          ]
        },
        {
          "output_type": "stream",
          "name": "stdout",
          "text": [
            "iteration 4700 : 0.0016274263616651297\n",
            "English: first, she made a list of all the things she needed to study.\n",
            "Hindi Translation: सबसे पहले तो उसने जो स्टडी करना था उसकी पूरी लिस्ट बनाई ।\n",
            "Hindi Prediction: इम े क्ले को कसके का केव   को े का।कसके हरर  किएेट काा  क\n"
          ]
        },
        {
          "output_type": "stream",
          "name": "stderr",
          "text": [
            " 92%|█████████▏| 4801/5194 [2:14:19<10:37,  1.62s/it]"
          ]
        },
        {
          "output_type": "stream",
          "name": "stdout",
          "text": [
            "iteration 4800 : 0.001772465300746262\n",
            "English: it was a beautiful movie!\n",
            "Hindi Translation: फिल्म सुपरहिट रही।\n",
            "Hindi Prediction: यिलिट केन ेाए कहा \n"
          ]
        },
        {
          "output_type": "stream",
          "name": "stderr",
          "text": [
            " 94%|█████████▍| 4901/5194 [2:17:06<07:51,  1.61s/it]"
          ]
        },
        {
          "output_type": "stream",
          "name": "stdout",
          "text": [
            "iteration 4900 : 0.002146878745406866\n",
            "English: china gate\n",
            "Hindi Translation: चाइना गेट\n",
            "Hindi Prediction: कानन  कय\n"
          ]
        },
        {
          "output_type": "stream",
          "name": "stderr",
          "text": [
            " 96%|█████████▋| 5001/5194 [2:19:56<05:54,  1.84s/it]"
          ]
        },
        {
          "output_type": "stream",
          "name": "stdout",
          "text": [
            "iteration 5000 : 0.0017348754918202758\n",
            "English: new york, october 11\n",
            "Hindi Translation: कालका, 11 अक्तूबर (निस)\n",
            "Hindi Prediction: स्र ्  क  कन्रा   (किस्\n"
          ]
        },
        {
          "output_type": "stream",
          "name": "stderr",
          "text": [
            " 98%|█████████▊| 5101/5194 [2:22:43<02:32,  1.64s/it]"
          ]
        },
        {
          "output_type": "stream",
          "name": "stdout",
          "text": [
            "iteration 5100 : 0.0016987138660624623\n",
            "English: the movie is directed by ss rajamouli.\n",
            "Hindi Translation: यह फिल्म एसएस राजामौली द्वारा निर्देशित है।\n",
            "Hindi Prediction: इह सिल्म कके एकाजन  र  हियार  हेरफट श त है।\n"
          ]
        },
        {
          "output_type": "stream",
          "name": "stderr",
          "text": [
            "100%|██████████| 5194/5194 [2:25:21<00:00,  1.68s/it]"
          ]
        },
        {
          "output_type": "stream",
          "name": "stdout",
          "text": [
            "weights saved in drive\n"
          ]
        },
        {
          "output_type": "stream",
          "name": "stderr",
          "text": [
            "\n"
          ]
        }
      ],
      "source": [
        "from tqdm import tqdm\n",
        "transformer.train()\n",
        "#transformer.to(device)\n",
        "\n",
        "total_loss = 0\n",
        "num_epochs = 1\n",
        "\n",
        "for epoch in range(num_epochs):\n",
        "    print('Epoch', epoch)\n",
        "    iterator = iter(train_loader)\n",
        "    for batch_num, batch in tqdm(enumerate(iterator), total=len(iterator)):\n",
        "        transformer.train()\n",
        "        eng_batch, hin_batch = batch\n",
        "        encoder_self_attention_mask, decoder_self_attention_mask, decoder_cross_attention_mask = create_mask(eng_batch, hin_batch)\n",
        "        optim.zero_grad() # --> optim.zero_grad() is a method provided by PyTorch's optimizer classes (Adam used here)\n",
        "        # that sets the gradients of all the model's parameters to zero.\n",
        "        # It's an essential step to perform before computing gradients during backpropagation.\n",
        "        hin_predictions = transformer(eng_batch,\n",
        "                                      hin_batch,\n",
        "                                      encoder_self_attention_mask,\n",
        "                                      decoder_self_attention_mask,\n",
        "                                      decoder_cross_attention_mask,\n",
        "                                      encoder_start_token = False,\n",
        "                                      encoder_end_token = False,\n",
        "                                      decoder_start_token = True,\n",
        "                                      decoder_end_token = True)\n",
        "        labels = transformer.decoder.sentence_embedding.batch_tokenize(hin_batch, start_token = False, end_token = True)\n",
        "        # criterian = nn.CrossEntropyLoss( ignore_index = hin_index[PADDING_TOKEN])\n",
        "        loss = criterian(hin_predictions.view(-1, d_output),labels.view(-1)) # -1 is a place holder\n",
        "        valid_indices = torch.where(labels.view(-1) == hin_index[PADDING_TOKEN], False, True) # <-- Binary Tensor\n",
        "        loss = loss.sum()/valid_indices.sum() # <-- calculating the mean loss over the valid examples.\n",
        "        loss.backward()\n",
        "        # This line performs backpropagation to compute the gradients of the loss with respect to the model's parameters.\n",
        "        #These gradients are essential for updating the model's parameters during the optimization step.\n",
        "        optim.step() #<-- updates the model's parameters using an optimizer.\n",
        "        # The optimizer uses the computed gradients to adjust the model's parameters in a way that minimizes the loss function\n",
        "        if batch_num % 100 == 0:\n",
        "            print(f'iteration {batch_num} : {loss.item()}')\n",
        "            print(f\"English: {eng_batch[0]}\")\n",
        "            print(f\"Hindi Translation: {hin_batch[0]}\")\n",
        "            hin_sentence_predicted = torch.argmax(hin_predictions[0], axis= 1)\n",
        "            predicted_sentence = \"\"\n",
        "            for idx in hin_sentence_predicted:\n",
        "                if idx == hin_index[END_TOKEN]:\n",
        "                    break\n",
        "                predicted_sentence += index_hin[idx.item()]\n",
        "            print(f\"Hindi Prediction: {predicted_sentence}\")\n",
        "\n",
        "save_path = '/content/drive/MyDrive/transformer_weights.pth'\n",
        "torch.save({\n",
        "    'model_state_dict': transformer.state_dict(),\n",
        "    'optimizer_state_dict': optim.state_dict()\n",
        "}, save_path)\n",
        "print('weights saved in drive')"
      ]
    },
    {
      "cell_type": "code",
      "source": [
        "checkpoint = torch.load('/content/drive/MyDrive/transformer_weights.pth')\n",
        "transformer.load_state_dict(checkpoint['model_state_dict'])\n",
        "optim.load_state_dict(checkpoint['optimizer_state_dict'])\n",
        "print(\"Model weights loaded.\")\n",
        "\n",
        "\n",
        "transformer.eval()\n",
        "def translate(eng_sentence):\n",
        "  eng_sentence = (eng_sentence,)\n",
        "  hin_sentence = (\"\",)\n",
        "  for word_counter in range(max_sequence_length):\n",
        "    encoder_self_attention_mask, decoder_self_attention_mask, decoder_cross_attention_mask= create_mask(eng_sentence, hin_sentence)\n",
        "    predictions = transformer(eng_sentence,\n",
        "                              hin_sentence,\n",
        "                              encoder_self_attention_mask,\n",
        "                              decoder_self_attention_mask,\n",
        "                              decoder_cross_attention_mask,\n",
        "                              encoder_start_token=False,\n",
        "                              encoder_end_token=False,\n",
        "                              decoder_start_token=True,\n",
        "                              decoder_end_token=False)\n",
        "    next_token_prob_distribution = predictions[0][word_counter]\n",
        "    next_token_index = torch.argmax(next_token_prob_distribution).item()\n",
        "    next_token = index_hin[next_token_index]\n",
        "    hin_sentence = (hin_sentence[0] + next_token, )\n",
        "    if next_token == END_TOKEN:\n",
        "      break\n",
        "  return hin_sentence[0]\n",
        "\n",
        "print(f\"Evaluation translation {eng_sentence} : {hin_sentence}\")\n",
        "print(\"---------------------------------------------------------------------\")\n"
      ],
      "metadata": {
        "colab": {
          "base_uri": "https://localhost:8080/"
        },
        "id": "H9wyCRRr4SdQ",
        "outputId": "b5969bda-ecc2-4ad6-95dd-870ad63d2bf9"
      },
      "execution_count": 94,
      "outputs": [
        {
          "output_type": "stream",
          "name": "stderr",
          "text": [
            "IOPub data rate exceeded.\n",
            "The notebook server will temporarily stop sending output\n",
            "to the client in order to avoid crashing it.\n",
            "To change this limit, set the config variable\n",
            "`--NotebookApp.iopub_data_rate_limit`.\n",
            "\n",
            "Current values:\n",
            "NotebookApp.iopub_data_rate_limit=1000000.0 (bytes/sec)\n",
            "NotebookApp.rate_limit_window=3.0 (secs)\n",
            "\n"
          ]
        }
      ]
    },
    {
      "cell_type": "code",
      "execution_count": null,
      "metadata": {
        "id": "gXNnKkHpHpM_"
      },
      "outputs": [],
      "source": [
        "device = torch.device('cuda') if torch.cuda.is_available() else torch.device('cpu')"
      ]
    },
    {
      "cell_type": "code",
      "execution_count": 95,
      "metadata": {
        "id": "Nq6PADN3HpM_",
        "colab": {
          "base_uri": "https://localhost:8080/"
        },
        "outputId": "cb51955a-2f31-46bd-cb00-1b2cb0bb6685"
      },
      "outputs": [
        {
          "output_type": "stream",
          "name": "stdout",
          "text": [
            "क्या क्या क्या का कि क्या करने का है?<END>\n"
          ]
        }
      ],
      "source": [
        "translation = translate(\"what should we do when the day starts?\")\n",
        "print(translation)"
      ]
    },
    {
      "cell_type": "markdown",
      "source": [
        "## Increasing num of epochs"
      ],
      "metadata": {
        "id": "YV3oNRQYpfCX"
      }
    },
    {
      "cell_type": "code",
      "source": [
        "from tqdm import tqdm\n",
        "transformer.train()\n",
        "#transformer.to(device)\n",
        "\n",
        "total_loss = 0\n",
        "num_epochs = 6\n",
        "\n",
        "for epoch in range(num_epochs):\n",
        "    print('Epoch', epoch)\n",
        "    iterator = iter(train_loader)\n",
        "    for batch_num, batch in tqdm(enumerate(iterator), total=len(iterator)):\n",
        "        transformer.train()\n",
        "        eng_batch, hin_batch = batch\n",
        "        encoder_self_attention_mask, decoder_self_attention_mask, decoder_cross_attention_mask = create_mask(eng_batch, hin_batch)\n",
        "        optim.zero_grad() # --> optim.zero_grad() is a method provided by PyTorch's optimizer classes (Adam used here)\n",
        "        # that sets the gradients of all the model's parameters to zero.\n",
        "        # It's an essential step to perform before computing gradients during backpropagation.\n",
        "        hin_predictions = transformer(eng_batch,\n",
        "                                      hin_batch,\n",
        "                                      encoder_self_attention_mask,\n",
        "                                      decoder_self_attention_mask,\n",
        "                                      decoder_cross_attention_mask,\n",
        "                                      encoder_start_token = False,\n",
        "                                      encoder_end_token = False,\n",
        "                                      decoder_start_token = True,\n",
        "                                      decoder_end_token = True)\n",
        "        labels = transformer.decoder.sentence_embedding.batch_tokenize(hin_batch, start_token = False, end_token = True)\n",
        "        # criterian = nn.CrossEntropyLoss( ignore_index = hin_index[PADDING_TOKEN])\n",
        "        loss = criterian(hin_predictions.view(-1, d_output),labels.view(-1)) # -1 is a place holder\n",
        "        valid_indices = torch.where(labels.view(-1) == hin_index[PADDING_TOKEN], False, True) # <-- Binary Tensor\n",
        "        loss = loss.sum()/valid_indices.sum() # <-- calculating the mean loss over the valid examples.\n",
        "        loss.backward()\n",
        "        # This line performs backpropagation to compute the gradients of the loss with respect to the model's parameters.\n",
        "        #These gradients are essential for updating the model's parameters during the optimization step.\n",
        "        optim.step() #<-- updates the model's parameters using an optimizer.\n",
        "        # The optimizer uses the computed gradients to adjust the model's parameters in a way that minimizes the loss function\n",
        "        if batch_num % 100 == 0:\n",
        "            print(f'iteration {batch_num} : {loss.item()}')\n",
        "            print(f\"English: {eng_batch[0]}\")\n",
        "            print(f\"Hindi Translation: {hin_batch[0]}\")\n",
        "            hin_sentence_predicted = torch.argmax(hin_predictions[0], axis= 1)\n",
        "            predicted_sentence = \"\"\n",
        "            for idx in hin_sentence_predicted:\n",
        "                if idx == hin_index[END_TOKEN]:\n",
        "                    break\n",
        "                predicted_sentence += index_hin[idx.item()]\n",
        "            print(f\"Hindi Prediction: {predicted_sentence}\")\n",
        "\n",
        "save_path = '/content/drive/MyDrive/transformer_weights_6.pth'\n",
        "torch.save({\n",
        "    'model_state_dict': transformer.state_dict(),\n",
        "    'optimizer_state_dict': optim.state_dict()\n",
        "}, save_path)\n",
        "print('weights saved in drive')"
      ],
      "metadata": {
        "colab": {
          "base_uri": "https://localhost:8080/"
        },
        "id": "PDrYpUFBovdS",
        "outputId": "5b8b373c-5951-40b7-b1ae-dbb262e42690"
      },
      "execution_count": 96,
      "outputs": [
        {
          "output_type": "stream",
          "name": "stdout",
          "text": [
            "Epoch 0\n"
          ]
        },
        {
          "output_type": "stream",
          "name": "stderr",
          "text": [
            "  0%|          | 1/5194 [00:01<2:12:57,  1.54s/it]"
          ]
        },
        {
          "output_type": "stream",
          "name": "stdout",
          "text": [
            "iteration 0 : 0.0017205417389050126\n",
            "English: mithali to anchor indian team against australia in odis\n",
            "Hindi Translation: आस्ट्रेलिया के खिलाफ वनडे टीम की कमान मिताली को\n",
            "Hindi Prediction: सरीट ट ड एा के लिलाफ किािशकीम के केा  किला   कर    ललर ल           ल ल     न         स  ल          र                          र ल   र   स    र रस       र   र             स   ल  ललस र  र सररस  ल ल लललल  सररलसलसससर सलससससलल  लस  स ललल  लर    सल स लल ल   ल  र  र    र   ल    र                         लललल  र ए  ललल     ल लललललसललल      ललललल ल  ललललललललललसल लललल\n"
          ]
        },
        {
          "output_type": "stream",
          "name": "stderr",
          "text": [
            "  2%|▏         | 101/5194 [02:39<2:20:11,  1.65s/it]"
          ]
        },
        {
          "output_type": "stream",
          "name": "stdout",
          "text": [
            "iteration 100 : 0.0018746809801086783\n",
            "English: what does the modi government have?\n",
            "Hindi Translation: मोदी सरकार के पास क्या है विकल्प\n",
            "Hindi Prediction: कु े ककका  क् करसेक्या कै?काक् यत   ल  ल       र सलल लरल    ल   ल       लर  ब     ल स  प ल  प     स                       लल       प    ररर                            स   सररर सरर रल रर  सल ल लल   लललल  र ससम  रररलललरल स       ल ललल र              लरर  र    ल   लल    र रललर                   लर    म लए           ल    ललललरललसल ल   लललल ललल   लललल लल लस ल ललल\n"
          ]
        },
        {
          "output_type": "stream",
          "name": "stderr",
          "text": [
            "  4%|▍         | 201/5194 [05:20<2:09:28,  1.56s/it]"
          ]
        },
        {
          "output_type": "stream",
          "name": "stdout",
          "text": [
            "iteration 200 : 0.001614260021597147\n",
            "English: the court awarded all the four life imprisonment.\n",
            "Hindi Translation: कोर्ट ने सभी को आजीवन कारावास की सजा सुनाई है.\n",
            "Hindi Prediction: इिई्ट के केी का सर् ा को ्  र की हमाएकेरे  है।\n"
          ]
        },
        {
          "output_type": "stream",
          "name": "stderr",
          "text": [
            "  6%|▌         | 301/5194 [08:00<2:19:36,  1.71s/it]"
          ]
        },
        {
          "output_type": "stream",
          "name": "stdout",
          "text": [
            "iteration 300 : 0.001897261361591518\n",
            "English: after this, she became unconscious.\n",
            "Hindi Translation: इसके बाद वह बेसुध हो गई थी।\n",
            "Hindi Prediction: इस े बाद का काहालाको कय।हे।\n"
          ]
        },
        {
          "output_type": "stream",
          "name": "stderr",
          "text": [
            "  8%|▊         | 401/5194 [10:41<2:02:12,  1.53s/it]"
          ]
        },
        {
          "output_type": "stream",
          "name": "stdout",
          "text": [
            "iteration 400 : 0.0015323845436796546\n",
            "English: the contest was over before it started as the opponent backed off.\n",
            "Hindi Translation: विरोधी के हट जाने से प्रतियोगिता शुरु से पहले ही खत्म हो गई।\n",
            "Hindi Prediction: इहश्प  के सानकाने के क्रता ाग त  हुर्कके करले को हिायाकैतगय \n"
          ]
        },
        {
          "output_type": "stream",
          "name": "stderr",
          "text": [
            " 10%|▉         | 501/5194 [13:24<2:03:58,  1.58s/it]"
          ]
        },
        {
          "output_type": "stream",
          "name": "stdout",
          "text": [
            "iteration 500 : 0.0016821222379803658\n",
            "English: the chromium authors\n",
            "Hindi Translation: क्रोमियम लेखक\n",
            "Hindi Prediction: य्यिप का केक  ल लल   ललल   लल      रल र र     ररल लल ललर ब         ल  ब ल ल ल            ल     ल   ल ल ल      ल        लल  ल                र ल प      ल   न रर           स सर   रलरससर रर  लसलललसलललललललललललल लसलरररसर लसल  स ल ललललल ल ल  ल ल ल   ल ल  रर     लल ल ल ललर रलललल       ईस ल      ल  ल     लल ल  र    ल  ल       लललललएल   ल  लललललल लल  लललललललललललललललल\n"
          ]
        },
        {
          "output_type": "stream",
          "name": "stderr",
          "text": [
            " 12%|█▏        | 601/5194 [16:02<1:51:58,  1.46s/it]"
          ]
        },
        {
          "output_type": "stream",
          "name": "stdout",
          "text": [
            "iteration 600 : 0.002048725727945566\n",
            "English: this article moved me deeply. i thank god so much that he does not see us the way we see ourselves.\n",
            "Hindi Translation: इस लेख ने मेरे दिल को छू लिया है ।\n",
            "Hindi Prediction: इस पेक के कहरा किनाको कासकेएा कै क\n"
          ]
        },
        {
          "output_type": "stream",
          "name": "stderr",
          "text": [
            " 13%|█▎        | 701/5194 [18:40<2:11:01,  1.75s/it]"
          ]
        },
        {
          "output_type": "stream",
          "name": "stdout",
          "text": [
            "iteration 700 : 0.0021252159494906664\n",
            "English: oesophagoscopy is done in oesophagitis.\n",
            "Hindi Translation: ग्रासनलीशोथ ग्रासनलीगृहा दर्शन किया गया.\n",
            "Hindi Prediction: इररा        कुराम     त  हि्ज  करया हया \n"
          ]
        },
        {
          "output_type": "stream",
          "name": "stderr",
          "text": [
            " 15%|█▌        | 801/5194 [21:19<1:45:47,  1.44s/it]"
          ]
        },
        {
          "output_type": "stream",
          "name": "stdout",
          "text": [
            "iteration 800 : 0.0018418229883536696\n",
            "English: and this campaign ...\n",
            "Hindi Translation: यह अभियान .\n",
            "Hindi Prediction: इह बपीता  ह\n"
          ]
        },
        {
          "output_type": "stream",
          "name": "stderr",
          "text": [
            " 17%|█▋        | 901/5194 [24:01<1:59:15,  1.67s/it]"
          ]
        },
        {
          "output_type": "stream",
          "name": "stdout",
          "text": [
            "iteration 900 : 0.0017838465282693505\n",
            "English: amitabh bachchan was also seen at the bash.\n",
            "Hindi Translation: इस दौरान अमिताभ बच्चन भी नजर आए.\n",
            "Hindi Prediction: पसकपौरान कप्क्  कााच  की केा कतग\n"
          ]
        },
        {
          "output_type": "stream",
          "name": "stderr",
          "text": [
            " 19%|█▉        | 1001/5194 [26:48<2:17:31,  1.97s/it]"
          ]
        },
        {
          "output_type": "stream",
          "name": "stdout",
          "text": [
            "iteration 1000 : 0.0016021804185584188\n",
            "English: to enter into a contract to obtain loan.\n",
            "Hindi Translation: ऋण लेने के लिए कोई करार किया जाना।\n",
            "Hindi Prediction: इर काके के पिए क्  कान  करया जाता \n"
          ]
        },
        {
          "output_type": "stream",
          "name": "stderr",
          "text": [
            " 21%|██        | 1101/5194 [29:35<1:51:45,  1.64s/it]"
          ]
        },
        {
          "output_type": "stream",
          "name": "stdout",
          "text": [
            "iteration 1100 : 0.001688775373622775\n",
            "English: this can be annoying.\n",
            "Hindi Translation: इससे मन व्यथित हो सकता है।\n",
            "Hindi Prediction: यसके बााकियक त है गाता है।\n"
          ]
        },
        {
          "output_type": "stream",
          "name": "stderr",
          "text": [
            " 23%|██▎       | 1201/5194 [32:20<2:00:06,  1.80s/it]"
          ]
        },
        {
          "output_type": "stream",
          "name": "stdout",
          "text": [
            "iteration 1200 : 0.0015859046252444386\n",
            "English: the state government has declared a day's state mourning.\n",
            "Hindi Translation: राज्य सरकार ने एक दिन का राजकीय शोक घोषित किया है।\n",
            "Hindi Prediction: इाज ञ केकार के कक अेर के कहज    हा  करर्त हरया गै।\n"
          ]
        },
        {
          "output_type": "stream",
          "name": "stderr",
          "text": [
            " 25%|██▌       | 1301/5194 [35:05<1:52:00,  1.73s/it]"
          ]
        },
        {
          "output_type": "stream",
          "name": "stdout",
          "text": [
            "iteration 1300 : 0.0018730020383372903\n",
            "English: definition of village electrification\n",
            "Hindi Translation: ग्रामीण विद्युतीकरण की परिभाषा\n",
            "Hindi Prediction: परराम   किक्मातिय   के क् वार   र  रर    लर   रर रललल र  ल ल           लललल ल   ल       लर      रल      लर     ल     र      ल          न     र       ल     र र              र य  ररर  ररर र    र     ल लल  रररल   र ररर स   सल    ललललल    र  र र  र    रस र         लल र रललर र र        लल                 लर     ल     ल      ललललल     ल  ल ल लललल  सललललल लललस   लल\n"
          ]
        },
        {
          "output_type": "stream",
          "name": "stderr",
          "text": [
            " 27%|██▋       | 1401/5194 [37:49<1:43:16,  1.63s/it]"
          ]
        },
        {
          "output_type": "stream",
          "name": "stdout",
          "text": [
            "iteration 1400 : 0.0015508553478866816\n",
            "English: health horoscope 2020\n",
            "Hindi Translation: वृषभ राशिफल 2020\n",
            "Hindi Prediction: 1हत्ा1ाष त  (0 0                 र    रर    रर ररर रर  ल              ल   र    ल        ल रर     र        रर  र र    र लल   र        र र      रर       र     रर   ल   र   र    रर ररर  रररर    रलल लल लललर ल ररलररर   र  सर रर     लललल  लरर र र  र     ररर  र  र           रर रर       र                    ल          र        ए लरलरर     ल ललल    सल ललल ल       ल  \n"
          ]
        },
        {
          "output_type": "stream",
          "name": "stderr",
          "text": [
            " 29%|██▉       | 1501/5194 [40:36<1:50:27,  1.79s/it]"
          ]
        },
        {
          "output_type": "stream",
          "name": "stdout",
          "text": [
            "iteration 1500 : 0.0017819312633946538\n",
            "English: integrated family welfare, immunisation and mch programme and other national health programme etc.\n",
            "Hindi Translation: एकीकृत परिवार कल्याण, प्रतिरक्षण तथा एम सी एच कार्यक्रम और अन्य राष्ट्रीय स्वास्थ्य कार्यक्रम आदि।\n",
            "Hindi Prediction: इक   त्कर वार केाम    क्रतिश  षा करा ककाकेमकक्का ्य ्रि कर कधुयाकहज्ट र   केथार्त व कर  य ्त् कदि \n"
          ]
        },
        {
          "output_type": "stream",
          "name": "stderr",
          "text": [
            " 31%|███       | 1601/5194 [43:18<1:34:59,  1.59s/it]"
          ]
        },
        {
          "output_type": "stream",
          "name": "stdout",
          "text": [
            "iteration 1600 : 0.001785685890354216\n",
            "English: the thar express has been running between jodhpur and karachi every saturday morning since services resumed on february 18, 2006, after a 41-year suspension.\n",
            "Hindi Translation: 2006 से चल रही है यह ट्रेन थार एक्सप्रेस 18 फरवरी 2006 से जोधपुर के भगत की कोठी स्टेशन से कराची के बीच हर शुक्रवार रात को चलती है।\n",
            "Hindi Prediction: क0 1 के कााकाा कै कह जारैसिके ाकक स ारित क2 करवा  क011 के का ाार्क् लीााका जे   केप    क् का    हे लाच हैाराकार्ार क्ताका कााा है।\n"
          ]
        },
        {
          "output_type": "stream",
          "name": "stderr",
          "text": [
            " 33%|███▎      | 1701/5194 [46:04<1:26:08,  1.48s/it]"
          ]
        },
        {
          "output_type": "stream",
          "name": "stdout",
          "text": [
            "iteration 1700 : 0.0015602937201038003\n",
            "English: dm& rd\n",
            "Hindi Translation: डीएम और आरडी\n",
            "Hindi Prediction: बिडस मर बपो\n"
          ]
        },
        {
          "output_type": "stream",
          "name": "stderr",
          "text": [
            " 35%|███▍      | 1801/5194 [48:47<1:28:10,  1.56s/it]"
          ]
        },
        {
          "output_type": "stream",
          "name": "stdout",
          "text": [
            "iteration 1800 : 0.0018413972575217485\n",
            "English: the value of a diamond is based on the 4 cs: cut, colour, clarity and carat.\n",
            "Hindi Translation: हीरे का आकलन हीरे के 4 सी (कट, कलर, क्लेरिटी, करेट) से की जाती है।\n",
            "Hindi Prediction: यम   के कर्  को   ली ल केमकपिी से्  केष   ए   को    हे की जा ा है।\n"
          ]
        },
        {
          "output_type": "stream",
          "name": "stderr",
          "text": [
            " 37%|███▋      | 1901/5194 [51:30<1:34:35,  1.72s/it]"
          ]
        },
        {
          "output_type": "stream",
          "name": "stdout",
          "text": [
            "iteration 1900 : 0.001495489152148366\n",
            "English: the situation is much better now.\n",
            "Hindi Translation: अब इस सिस्टम को काफी आसान बना दिया गया है।\n",
            "Hindi Prediction: यब यसकनेरकत  का सा ी हपा  हाा हिया थया है।\n"
          ]
        },
        {
          "output_type": "stream",
          "name": "stderr",
          "text": [
            " 39%|███▊      | 2001/5194 [54:11<1:24:32,  1.59s/it]"
          ]
        },
        {
          "output_type": "stream",
          "name": "stdout",
          "text": [
            "iteration 2000 : 0.001948329620063305\n",
            "English: the police have sent the body of the woman for a postmortem.\n",
            "Hindi Translation: पुलिस ने अज्ञात महिला के शव को पोस्टमार्टम के लिए भेजा है।\n",
            "Hindi Prediction: इुलिस ने कनलञा  कााला की लााको परस्ट  न ट  कर लिए कीग  रो।\n"
          ]
        },
        {
          "output_type": "stream",
          "name": "stderr",
          "text": [
            " 40%|████      | 2101/5194 [56:54<1:22:00,  1.59s/it]"
          ]
        },
        {
          "output_type": "stream",
          "name": "stdout",
          "text": [
            "iteration 2100 : 0.0016975771868601441\n",
            "English: this is done to save the reputation of the much-maligned police force.\n",
            "Hindi Translation: यह बहुत अधिक दुर्भावनापूर्ण पुलिस बल की प्रतिष्ठा को बचाने के लिए किया जाता है।\n",
            "Hindi Prediction: इह पाुत कपिकाकेश्जाव   ीर ट करलिस ननाकर हरराि ्ट  कर सा ना का लिए जिया हाएा है।\n"
          ]
        },
        {
          "output_type": "stream",
          "name": "stderr",
          "text": [
            " 42%|████▏     | 2201/5194 [59:36<1:19:39,  1.60s/it]"
          ]
        },
        {
          "output_type": "stream",
          "name": "stdout",
          "text": [
            "iteration 2200 : 0.0017102910205721855\n",
            "English: india just a wicket away from victory.\n",
            "Hindi Translation: भारतीय टीम जीत से महज एक विकेट दूर है.\n",
            "Hindi Prediction: यारत य क्माकात के कहतारक साशा  हीस है।\n"
          ]
        },
        {
          "output_type": "stream",
          "name": "stderr",
          "text": [
            " 44%|████▍     | 2301/5194 [1:02:24<1:18:55,  1.64s/it]"
          ]
        },
        {
          "output_type": "stream",
          "name": "stdout",
          "text": [
            "iteration 2300 : 0.001698603038676083\n",
            "English: this is very good news for north korea and the world -- big progress!\n",
            "Hindi Translation: ये उत्तर कोरिया और पूरे विश्व के लिए बहुत अच्छी खबर है.\n",
            "Hindi Prediction: यह सस्पि के ्या कर सरर  पाज्याके लिए काुत कप्चा का  कै।\n"
          ]
        },
        {
          "output_type": "stream",
          "name": "stderr",
          "text": [
            " 46%|████▌     | 2401/5194 [1:05:09<1:13:48,  1.59s/it]"
          ]
        },
        {
          "output_type": "stream",
          "name": "stdout",
          "text": [
            "iteration 2400 : 0.0016040911432355642\n",
            "English: as a result, he died on the spot.\n",
            "Hindi Translation: जिससे घटनास्थल पर उसकी मौत हो गई।\n",
            "Hindi Prediction: इबसके परना  टा कर कसेे हौक हो गय।\n"
          ]
        },
        {
          "output_type": "stream",
          "name": "stderr",
          "text": [
            " 48%|████▊     | 2501/5194 [1:07:54<1:14:52,  1.67s/it]"
          ]
        },
        {
          "output_type": "stream",
          "name": "stdout",
          "text": [
            "iteration 2500 : 0.0016874789725989103\n",
            "English: 'peace be upon moses and aaron'\n",
            "Hindi Translation: \"कि \"\"सलाम है मूसा और हारून पर!\"\"\"\n",
            "Hindi Prediction: पपुलसनपे्न कै काररनकर कुथ  ेकर \n"
          ]
        },
        {
          "output_type": "stream",
          "name": "stderr",
          "text": [
            " 50%|█████     | 2601/5194 [1:10:39<1:09:36,  1.61s/it]"
          ]
        },
        {
          "output_type": "stream",
          "name": "stdout",
          "text": [
            "iteration 2600 : 0.0018295106710866094\n",
            "English: what can we say?\n",
            "Hindi Translation: वह कह भी क्या सकती है?\n",
            "Hindi Prediction: के क्ीकी क्या हेता है?\n"
          ]
        },
        {
          "output_type": "stream",
          "name": "stderr",
          "text": [
            " 52%|█████▏    | 2701/5194 [1:13:27<1:08:06,  1.64s/it]"
          ]
        },
        {
          "output_type": "stream",
          "name": "stdout",
          "text": [
            "iteration 2700 : 0.0016162118408828974\n",
            "English: eu-russia relations\n",
            "Hindi Translation: यूरोप और रूस कनेक्शन\n",
            "Hindi Prediction: कहप्पीकर वाप्कीा ्स\n"
          ]
        },
        {
          "output_type": "stream",
          "name": "stderr",
          "text": [
            " 54%|█████▍    | 2801/5194 [1:16:10<1:02:41,  1.57s/it]"
          ]
        },
        {
          "output_type": "stream",
          "name": "stdout",
          "text": [
            "iteration 2800 : 0.0015326454304158688\n",
            "English: the film is written and directed by prawaal raman.\n",
            "Hindi Translation: फिल्म का निर्देशन प्रबल रमन ने किया है।\n",
            "Hindi Prediction: पिल्म के केर्देश  कररकाेकााेके कीया है।\n"
          ]
        },
        {
          "output_type": "stream",
          "name": "stderr",
          "text": [
            " 56%|█████▌    | 2901/5194 [1:18:52<58:59,  1.54s/it]"
          ]
        },
        {
          "output_type": "stream",
          "name": "stdout",
          "text": [
            "iteration 2900 : 0.0015969878295436502\n",
            "English: clear instructions have been given to the dm of every district in this regard.\n",
            "Hindi Translation: इस बाबत सीएम के आदेश की सूचना प्रत्येक जिला को दे दी गई है.\n",
            "Hindi Prediction: पस बाद  केमम के लर श के केच ा कररकिय  ्बासाफकि लिनसे हय है।\n"
          ]
        },
        {
          "output_type": "stream",
          "name": "stderr",
          "text": [
            " 58%|█████▊    | 3001/5194 [1:21:35<53:23,  1.46s/it]"
          ]
        },
        {
          "output_type": "stream",
          "name": "stdout",
          "text": [
            "iteration 3000 : 0.0015308127040043473\n",
            "English: the function was inaugurated by chief guest rajpur mla rajkumar.\n",
            "Hindi Translation: इसका उदघाटन आज महापौर राजबाला मलिक ने किया ।\n",
            "Hindi Prediction: यस े कस्ार  करिकाानार्काजन्   कााय से केया ग\n"
          ]
        },
        {
          "output_type": "stream",
          "name": "stderr",
          "text": [
            " 60%|█████▉    | 3101/5194 [1:24:18<55:19,  1.59s/it]"
          ]
        },
        {
          "output_type": "stream",
          "name": "stdout",
          "text": [
            "iteration 3100 : 0.001647221390157938\n",
            "English: thatd be great.\n",
            "Hindi Translation: यह बेहतरीन होगी।\n",
            "Hindi Prediction: यह बाहद    है ा।\n"
          ]
        },
        {
          "output_type": "stream",
          "name": "stderr",
          "text": [
            " 62%|██████▏   | 3201/5194 [1:27:03<56:04,  1.69s/it]"
          ]
        },
        {
          "output_type": "stream",
          "name": "stdout",
          "text": [
            "iteration 3200 : 0.0018872434739023447\n",
            "English: congratulations to both of them.\n",
            "Hindi Translation: इन सभी को बधाई।\n",
            "Hindi Prediction: इसकसेी के साान \n"
          ]
        },
        {
          "output_type": "stream",
          "name": "stderr",
          "text": [
            " 64%|██████▎   | 3301/5194 [1:29:43<52:25,  1.66s/it]"
          ]
        },
        {
          "output_type": "stream",
          "name": "stdout",
          "text": [
            "iteration 3300 : 0.001896792440675199\n",
            "English: the hearing of ayodhya matter has been delayed further.\n",
            "Hindi Translation: अयोध्या मामले की सुनवाई एक बार फिर टल गई है।\n",
            "Hindi Prediction: इपाजिय रकिमला के सेन ाई कक पनर किल के्कई है।\n"
          ]
        },
        {
          "output_type": "stream",
          "name": "stderr",
          "text": [
            " 65%|██████▌   | 3401/5194 [1:32:25<46:45,  1.56s/it]"
          ]
        },
        {
          "output_type": "stream",
          "name": "stdout",
          "text": [
            "iteration 3400 : 0.001746420981362462\n",
            "English: revising history\n",
            "Hindi Translation: इतिहास की समीक्षा\n",
            "Hindi Prediction: कसाहास का हेानाषा\n"
          ]
        },
        {
          "output_type": "stream",
          "name": "stderr",
          "text": [
            " 67%|██████▋   | 3501/5194 [1:35:07<43:58,  1.56s/it]"
          ]
        },
        {
          "output_type": "stream",
          "name": "stdout",
          "text": [
            "iteration 3500 : 0.00144254753831774\n",
            "English: thank you all for your support!\n",
            "Hindi Translation: आप सबके समर्थन के लिए शुक्रिया।\n",
            "Hindi Prediction: कपककर ा सायेता के लिए कुर्षिया \n"
          ]
        },
        {
          "output_type": "stream",
          "name": "stderr",
          "text": [
            " 69%|██████▉   | 3601/5194 [1:37:52<43:56,  1.66s/it]"
          ]
        },
        {
          "output_type": "stream",
          "name": "stdout",
          "text": [
            "iteration 3600 : 0.0017476310022175312\n",
            "English: where in city.\n",
            "Hindi Translation: और खुद शहर के नीचे?\n",
            "Hindi Prediction: हर बुद हुी हर लि   \n"
          ]
        },
        {
          "output_type": "stream",
          "name": "stderr",
          "text": [
            " 71%|███████▏  | 3701/5194 [1:40:39<45:31,  1.83s/it]"
          ]
        },
        {
          "output_type": "stream",
          "name": "stdout",
          "text": [
            "iteration 3700 : 0.001563836121931672\n",
            "English: he committed suicide because he was upset about this.\n",
            "Hindi Translation: इसी से परेशान होकर उसने खुदकुशी कर ली थी।\n",
            "Hindi Prediction: इस  पम पुि  न को र कसके किल     के दि ही।\n"
          ]
        },
        {
          "output_type": "stream",
          "name": "stderr",
          "text": [
            " 73%|███████▎  | 3801/5194 [1:43:24<37:42,  1.62s/it]"
          ]
        },
        {
          "output_type": "stream",
          "name": "stdout",
          "text": [
            "iteration 3800 : 0.0014115923549979925\n",
            "English: yahweh said to me, don't pray for this people for their good.\n",
            "Hindi Translation: फिर यहोवा ने मुझ से कहा, इस प्रजा की भलाई के लिये प्रार्थना मत कर।\n",
            "Hindi Prediction: इिल कह  ा के काझेसे पेा  मस पररत  कर जी   हि लिएा थररतथवथि  कि्हर \n"
          ]
        },
        {
          "output_type": "stream",
          "name": "stderr",
          "text": [
            " 75%|███████▌  | 3901/5194 [1:46:06<34:32,  1.60s/it]"
          ]
        },
        {
          "output_type": "stream",
          "name": "stdout",
          "text": [
            "iteration 3900 : 0.0017048679292201996\n",
            "English: very negatively.\n",
            "Hindi Translation: यह बहुत नकारात्मक है।\n",
            "Hindi Prediction: मह साुत हे्रण  र  है।\n"
          ]
        },
        {
          "output_type": "stream",
          "name": "stderr",
          "text": [
            " 77%|███████▋  | 4001/5194 [1:48:48<31:37,  1.59s/it]"
          ]
        },
        {
          "output_type": "stream",
          "name": "stdout",
          "text": [
            "iteration 4000 : 0.0017294285353273153\n",
            "English: it is a government order.\n",
            "Hindi Translation: यह है सरकारी आदेश\n",
            "Hindi Prediction: यह सम करकार  हरेश              ल     रर र  रर ररर  ललल      लल ल क    प ब        ल प            क र  ल लक     र       ल ल  र             रर                                     र र  र रर  स    र    ल      रर      र ल          ल ल      लर र र क     ल             लल                       ल                 ल                ल          ल        ल   ल  ल   ल  ल   ल\n"
          ]
        },
        {
          "output_type": "stream",
          "name": "stderr",
          "text": [
            " 79%|███████▉  | 4101/5194 [1:51:31<29:45,  1.63s/it]"
          ]
        },
        {
          "output_type": "stream",
          "name": "stdout",
          "text": [
            "iteration 4100 : 0.0016504927771165967\n",
            "English: the videography was done by the pmo cameraman\n",
            "Hindi Translation: पीएमओ के वीडियोग्राफर ने किया शूट\n",
            "Hindi Prediction: स्एम  के सिडियो ारी   के काया हुररर     र ल लरर   लललल र   लल              ललल                    र ल                लल   र ल   र        र                       ल                 र                 ल ल   प         र      ल         र   र  ल  ल ल    ल              ल                                     लल                   लल ल  ल                    ल           \n"
          ]
        },
        {
          "output_type": "stream",
          "name": "stderr",
          "text": [
            " 81%|████████  | 4201/5194 [1:54:15<29:01,  1.75s/it]"
          ]
        },
        {
          "output_type": "stream",
          "name": "stdout",
          "text": [
            "iteration 4200 : 0.0014227333012968302\n",
            "English: the accused took her to jammu.\n",
            "Hindi Translation: इसके बाद आरोपी उसे जम्मू ले आया।\n",
            "Hindi Prediction: इसके बाद सरोपी कसे पााम  कग कया \n"
          ]
        },
        {
          "output_type": "stream",
          "name": "stderr",
          "text": [
            " 83%|████████▎ | 4301/5194 [1:57:01<23:12,  1.56s/it]"
          ]
        },
        {
          "output_type": "stream",
          "name": "stdout",
          "text": [
            "iteration 4300 : 0.0019132113084197044\n",
            "English: she takes a temporary leave of absence from work.\n",
            "Hindi Translation: यह क्षतिपूर्ति के भुगतान की अनुमति के बिना है।\n",
            "Hindi Prediction: इह पाषेा ्र्ण कके लीलत   के हवुभा  को लाला कै।\n"
          ]
        },
        {
          "output_type": "stream",
          "name": "stderr",
          "text": [
            " 85%|████████▍ | 4401/5194 [1:59:45<19:59,  1.51s/it]"
          ]
        },
        {
          "output_type": "stream",
          "name": "stdout",
          "text": [
            "iteration 4400 : 0.002043552463874221\n",
            "English: is this defection?\n",
            "Hindi Translation: क्या यह कोई प्रिविलेज है?\n",
            "Hindi Prediction: क्या हह स्  कररकणात् ासै?\n"
          ]
        },
        {
          "output_type": "stream",
          "name": "stderr",
          "text": [
            " 87%|████████▋ | 4501/5194 [2:02:29<18:03,  1.56s/it]"
          ]
        },
        {
          "output_type": "stream",
          "name": "stdout",
          "text": [
            "iteration 4500 : 0.0014133661752566695\n",
            "English: leakage of income\n",
            "Hindi Translation: आय रिसाव\n",
            "Hindi Prediction: परोकाज्इ     र                  रर   र रर   र ररर    र   क कर     क     ल र             प         कर         ररर      र      ल        र     र                  र                   र                        रकनर                    र      र           लक                      र                                                 र                                  स   \n"
          ]
        },
        {
          "output_type": "stream",
          "name": "stderr",
          "text": [
            " 89%|████████▊ | 4601/5194 [2:05:12<16:57,  1.72s/it]"
          ]
        },
        {
          "output_type": "stream",
          "name": "stdout",
          "text": [
            "iteration 4600 : 0.0017152728978544474\n",
            "English: experts answer\n",
            "Hindi Translation: एक्सपर्ट्स ने बताए जवाब\n",
            "Hindi Prediction: कक सीत ट र के कााय\n"
          ]
        },
        {
          "output_type": "stream",
          "name": "stderr",
          "text": [
            " 91%|█████████ | 4701/5194 [2:07:59<13:50,  1.68s/it]"
          ]
        },
        {
          "output_type": "stream",
          "name": "stdout",
          "text": [
            "iteration 4700 : 0.0014408165588974953\n",
            "English: first, she made a list of all the things she needed to study.\n",
            "Hindi Translation: सबसे पहले तो उसने जो स्टडी करना था उसकी पूरी लिस्ट बनाई ।\n",
            "Hindi Prediction: इब े बरले सो कसके का सकथ ि को े हा।।सेे पररा कगय त कना  ह\n"
          ]
        },
        {
          "output_type": "stream",
          "name": "stderr",
          "text": [
            " 92%|█████████▏| 4801/5194 [2:10:43<11:24,  1.74s/it]"
          ]
        },
        {
          "output_type": "stream",
          "name": "stdout",
          "text": [
            "iteration 4800 : 0.0015511756064370275\n",
            "English: it was a beautiful movie!\n",
            "Hindi Translation: फिल्म सुपरहिट रही।\n",
            "Hindi Prediction: यिल्म केन   त कहे \n"
          ]
        },
        {
          "output_type": "stream",
          "name": "stderr",
          "text": [
            " 94%|█████████▍| 4901/5194 [2:13:28<08:25,  1.72s/it]"
          ]
        },
        {
          "output_type": "stream",
          "name": "stdout",
          "text": [
            "iteration 4900 : 0.0018987080547958612\n",
            "English: china gate\n",
            "Hindi Translation: चाइना गेट\n",
            "Hindi Prediction: कानक  कय \n"
          ]
        },
        {
          "output_type": "stream",
          "name": "stderr",
          "text": [
            " 96%|█████████▋| 5001/5194 [2:16:11<04:59,  1.55s/it]"
          ]
        },
        {
          "output_type": "stream",
          "name": "stdout",
          "text": [
            "iteration 5000 : 0.0015040721045807004\n",
            "English: new york, october 11\n",
            "Hindi Translation: कालका, 11 अक्तूबर (निस)\n",
            "Hindi Prediction: नार,,, 1  अक्रूबर (निस)।     ररर र   र  रर  लर र र ललल ल   ल  रल     ललन       ल      र लल र      र र     र  रर र                         र  र          ल             र          र र  रर रर    र      रल र ल  र र र     र            र    र       क      ल          ल                                                                                                   \n"
          ]
        },
        {
          "output_type": "stream",
          "name": "stderr",
          "text": [
            " 98%|█████████▊| 5101/5194 [2:18:54<02:27,  1.59s/it]"
          ]
        },
        {
          "output_type": "stream",
          "name": "stdout",
          "text": [
            "iteration 5100 : 0.0015280619263648987\n",
            "English: the movie is directed by ss rajamouli.\n",
            "Hindi Translation: यह फिल्म एसएस राजामौली द्वारा निर्देशित है।\n",
            "Hindi Prediction: इह सिल्म ककएम माजन  त  हेवारा हेर्मेश त है।\n"
          ]
        },
        {
          "output_type": "stream",
          "name": "stderr",
          "text": [
            "100%|██████████| 5194/5194 [2:21:28<00:00,  1.63s/it]\n"
          ]
        },
        {
          "output_type": "stream",
          "name": "stdout",
          "text": [
            "Epoch 1\n"
          ]
        },
        {
          "output_type": "stream",
          "name": "stderr",
          "text": [
            "  0%|          | 1/5194 [00:01<2:18:02,  1.59s/it]"
          ]
        },
        {
          "output_type": "stream",
          "name": "stdout",
          "text": [
            "iteration 0 : 0.001505534746684134\n",
            "English: mithali to anchor indian team against australia in odis\n",
            "Hindi Translation: आस्ट्रेलिया के खिलाफ वनडे टीम की कमान मिताली को\n",
            "Hindi Prediction: मज्तीरीड एर के सिलाफ नि ि क्म को मेार काल्ब \n"
          ]
        },
        {
          "output_type": "stream",
          "name": "stderr",
          "text": [
            "  2%|▏         | 101/5194 [02:51<2:25:48,  1.72s/it]"
          ]
        },
        {
          "output_type": "stream",
          "name": "stdout",
          "text": [
            "iteration 100 : 0.001639165566302836\n",
            "English: what does the modi government have?\n",
            "Hindi Translation: मोदी सरकार के पास क्या है विकल्प\n",
            "Hindi Prediction: कुदी केकार क् लरस कोया है?काका प रलररर ररलललललररररलललललललललललललललललललनलललललल लललल ल पपलललपलर  ल  लरलरलललल  रर ललर   रलललरल रलल   रल   रलररर  रल     लककलर       र  र             रररर र र   ललरररल     ललरर  रलर  र    रलल    ललक ललललललल  ललल   र     लललल  ल  लल     ल     ल                 ल   रल    ल  लललल  र   लल ल     ललललल ल        ल      ल   लल ललल    ल  लल\n"
          ]
        },
        {
          "output_type": "stream",
          "name": "stderr",
          "text": [
            "  4%|▍         | 201/5194 [05:35<2:10:31,  1.57s/it]"
          ]
        },
        {
          "output_type": "stream",
          "name": "stdout",
          "text": [
            "iteration 200 : 0.00140457134693861\n",
            "English: the court awarded all the four life imprisonment.\n",
            "Hindi Translation: कोर्ट ने सभी को आजीवन कारावास की सजा सुनाई है.\n",
            "Hindi Prediction: इोर्टमने काी को सर    के ्य   के हमा रकरा  है।\n"
          ]
        },
        {
          "output_type": "stream",
          "name": "stderr",
          "text": [
            "  6%|▌         | 301/5194 [08:18<2:14:16,  1.65s/it]"
          ]
        },
        {
          "output_type": "stream",
          "name": "stdout",
          "text": [
            "iteration 300 : 0.0016916999593377113\n",
            "English: after this, she became unconscious.\n",
            "Hindi Translation: इसके बाद वह बेसुध हो गई थी।\n",
            "Hindi Prediction: इसके बाद हह साह ल है गए.ही।\n"
          ]
        },
        {
          "output_type": "stream",
          "name": "stderr",
          "text": [
            "  8%|▊         | 401/5194 [11:05<2:22:33,  1.78s/it]"
          ]
        },
        {
          "output_type": "stream",
          "name": "stdout",
          "text": [
            "iteration 400 : 0.001323776668868959\n",
            "English: the contest was over before it started as the opponent backed off.\n",
            "Hindi Translation: विरोधी के हट जाने से प्रतियोगिता शुरु से पहले ही खत्म हो गई।\n",
            "Hindi Prediction: इहकोध  के पीककारे के कररतिशा  क  कुरूपके हरलेगजो हारय को गय।\n"
          ]
        },
        {
          "output_type": "stream",
          "name": "stderr",
          "text": [
            " 10%|▉         | 501/5194 [13:50<1:54:56,  1.47s/it]"
          ]
        },
        {
          "output_type": "stream",
          "name": "stdout",
          "text": [
            "iteration 500 : 0.0014828601852059364\n",
            "English: the chromium authors\n",
            "Hindi Translation: क्रोमियम लेखक\n",
            "Hindi Prediction: सायिन कम के  रललर     ल     ललररर  रल र ररललल लरररललल ल ल कललललल क  ललल  लल   लकलल  कललक     र   रल रलकल     लररर  ल  ल       ल       र  रररर  प        ल                   र                  रररर रललल लर  र   र     र           लललल  ल र         ल लललल र  ल                                            ल                   ल लस र                    ल ल          र\n"
          ]
        },
        {
          "output_type": "stream",
          "name": "stderr",
          "text": [
            " 12%|█▏        | 601/5194 [16:38<2:02:20,  1.60s/it]"
          ]
        },
        {
          "output_type": "stream",
          "name": "stdout",
          "text": [
            "iteration 600 : 0.0018423274159431458\n",
            "English: this article moved me deeply. i thank god so much that he does not see us the way we see ourselves.\n",
            "Hindi Translation: इस लेख ने मेरे दिल को छू लिया है ।\n",
            "Hindi Prediction: इसकसिक वि कुरा सिय्का सोटकगया जै औ\n"
          ]
        },
        {
          "output_type": "stream",
          "name": "stderr",
          "text": [
            " 13%|█▎        | 701/5194 [19:23<2:00:02,  1.60s/it]"
          ]
        },
        {
          "output_type": "stream",
          "name": "stdout",
          "text": [
            "iteration 700 : 0.0018969227094203234\n",
            "English: oesophagoscopy is done in oesophagitis.\n",
            "Hindi Translation: ग्रासनलीशोथ ग्रासनलीगृहा दर्शन किया गया.\n",
            "Hindi Prediction: इोरा   ा    क्राम     त रहि्ज  करया हया \n"
          ]
        },
        {
          "output_type": "stream",
          "name": "stderr",
          "text": [
            " 15%|█▌        | 801/5194 [22:08<2:01:00,  1.65s/it]"
          ]
        },
        {
          "output_type": "stream",
          "name": "stdout",
          "text": [
            "iteration 800 : 0.0016496327007189393\n",
            "English: and this campaign ...\n",
            "Hindi Translation: यह अभियान .\n",
            "Hindi Prediction: औह एपिनान ह\n"
          ]
        },
        {
          "output_type": "stream",
          "name": "stderr",
          "text": [
            " 17%|█▋        | 901/5194 [24:55<1:57:41,  1.64s/it]"
          ]
        },
        {
          "output_type": "stream",
          "name": "stdout",
          "text": [
            "iteration 900 : 0.0016081915237009525\n",
            "English: amitabh bachchan was also seen at the bash.\n",
            "Hindi Translation: इस दौरान अमिताभ बच्चन भी नजर आए.\n",
            "Hindi Prediction: इसकपौरान कपेता  का्चााकी केर हत।\n"
          ]
        },
        {
          "output_type": "stream",
          "name": "stderr",
          "text": [
            " 19%|█▉        | 1001/5194 [27:36<1:49:35,  1.57s/it]"
          ]
        },
        {
          "output_type": "stream",
          "name": "stdout",
          "text": [
            "iteration 1000 : 0.0014371471479535103\n",
            "English: to enter into a contract to obtain loan.\n",
            "Hindi Translation: ऋण लेने के लिए कोई करार किया जाना।\n",
            "Hindi Prediction: इप काके का लिए सि  कानर्करया गाता \n"
          ]
        },
        {
          "output_type": "stream",
          "name": "stderr",
          "text": [
            " 21%|██        | 1101/5194 [30:19<1:47:41,  1.58s/it]"
          ]
        },
        {
          "output_type": "stream",
          "name": "stdout",
          "text": [
            "iteration 1100 : 0.0014919276582077146\n",
            "English: this can be annoying.\n",
            "Hindi Translation: इससे मन व्यथित हो सकता है।\n",
            "Hindi Prediction: यसके बााकियाितिहैतगकता है।\n"
          ]
        },
        {
          "output_type": "stream",
          "name": "stderr",
          "text": [
            " 23%|██▎       | 1201/5194 [33:02<1:52:18,  1.69s/it]"
          ]
        },
        {
          "output_type": "stream",
          "name": "stdout",
          "text": [
            "iteration 1200 : 0.001403900794684887\n",
            "English: the state government has declared a day's state mourning.\n",
            "Hindi Translation: राज्य सरकार ने एक दिन का राजकीय शोक घोषित किया है।\n",
            "Hindi Prediction: इाज्य केकार के कक अिल के कहज्   हि  सरषणत केया है।\n"
          ]
        },
        {
          "output_type": "stream",
          "name": "stderr",
          "text": [
            " 25%|██▌       | 1301/5194 [35:47<1:39:02,  1.53s/it]"
          ]
        },
        {
          "output_type": "stream",
          "name": "stdout",
          "text": [
            "iteration 1300 : 0.0017222928581759334\n",
            "English: definition of village electrification\n",
            "Hindi Translation: ग्रामीण विद्युतीकरण की परिभाषा\n",
            "Hindi Prediction: वुराज   किक्या ्    का स् षार  लर र  रररररललल ररर रलरलर रलललरलरलकल   ललरल   ललल       ललल       लल ररररल क  रलरर   र लर लरलर  ललल      ररर  रर       ल ल                          र   रल      लर लल लरल  ल  ल         र  लल  ल       लल     रल  र      ल  ल        ल    ल   ल                  ल  र                              लललल        लललल  ल      ललल         ल \n"
          ]
        },
        {
          "output_type": "stream",
          "name": "stderr",
          "text": [
            " 27%|██▋       | 1401/5194 [38:31<1:34:24,  1.49s/it]"
          ]
        },
        {
          "output_type": "stream",
          "name": "stdout",
          "text": [
            "iteration 1400 : 0.001341176452115178\n",
            "English: health horoscope 2020\n",
            "Hindi Translation: वृषभ राशिफल 2020\n",
            "Hindi Prediction: 2िष ा2ाषि र 2020\n"
          ]
        },
        {
          "output_type": "stream",
          "name": "stderr",
          "text": [
            " 29%|██▉       | 1501/5194 [41:13<1:46:53,  1.74s/it]"
          ]
        },
        {
          "output_type": "stream",
          "name": "stdout",
          "text": [
            "iteration 1500 : 0.0016018720343708992\n",
            "English: integrated family welfare, immunisation and mch programme and other national health programme etc.\n",
            "Hindi Translation: एकीकृत परिवार कल्याण, प्रतिरक्षण तथा एम सी एच कार्यक्रम और अन्य राष्ट्रीय स्वास्थ्य कार्यक्रम आदि।\n",
            "Hindi Prediction: इक  तत्क् वार की याय  क्रकिक ्षा करा कक्केमकक्की ्या्षि कर कनुय काज्ट्रीय केथार्तिय करर्य ्षम कती \n"
          ]
        },
        {
          "output_type": "stream",
          "name": "stderr",
          "text": [
            " 31%|███       | 1601/5194 [43:57<1:46:10,  1.77s/it]"
          ]
        },
        {
          "output_type": "stream",
          "name": "stdout",
          "text": [
            "iteration 1600 : 0.00158682803157717\n",
            "English: the thar express has been running between jodhpur and karachi every saturday morning since services resumed on february 18, 2006, after a 41-year suspension.\n",
            "Hindi Translation: 2006 से चल रही है यह ट्रेन थार एक्सप्रेस 18 फरवरी 2006 से जोधपुर के भगत की कोठी स्टेशन से कराची के बीच हर शुक्रवार रात को चलती है।\n",
            "Hindi Prediction: व01  के काारुा कै का ककरैल के  कक स ्रैस क2 जिार  क01  के पा ाार्को लाताका जा   हेथ्   के के न  हे पीच कैाकुर्ष  ई क्म क  हा ा है।\n"
          ]
        },
        {
          "output_type": "stream",
          "name": "stderr",
          "text": [
            " 33%|███▎      | 1701/5194 [46:41<1:37:30,  1.67s/it]"
          ]
        },
        {
          "output_type": "stream",
          "name": "stdout",
          "text": [
            "iteration 1700 : 0.0013953133020550013\n",
            "English: dm& rd\n",
            "Hindi Translation: डीएम और आरडी\n",
            "Hindi Prediction: मामम मर मरा\n"
          ]
        },
        {
          "output_type": "stream",
          "name": "stderr",
          "text": [
            " 35%|███▍      | 1801/5194 [49:26<1:30:41,  1.60s/it]"
          ]
        },
        {
          "output_type": "stream",
          "name": "stdout",
          "text": [
            "iteration 1800 : 0.0016757211415097117\n",
            "English: the value of a diamond is based on the 4 cs: cut, colour, clarity and carat.\n",
            "Hindi Translation: हीरे का आकलन हीरे के 4 सी (कट, कलर, क्लेरिटी, करेट) से की जाती है।\n",
            "Hindi Prediction: या   सा कर्  को  नली ल मेबसपर  से   मेर बिय   जि ग  के ही हा ी है।\n"
          ]
        },
        {
          "output_type": "stream",
          "name": "stderr",
          "text": [
            " 37%|███▋      | 1901/5194 [52:09<1:28:05,  1.61s/it]"
          ]
        },
        {
          "output_type": "stream",
          "name": "stdout",
          "text": [
            "iteration 1900 : 0.0013580267550423741\n",
            "English: the situation is much better now.\n",
            "Hindi Translation: अब इस सिस्टम को काफी आसान बना दिया गया है।\n",
            "Hindi Prediction: यब ससेकेर्त ाका सर ी हसान हना हिया जया है।\n"
          ]
        },
        {
          "output_type": "stream",
          "name": "stderr",
          "text": [
            " 39%|███▊      | 2001/5194 [54:53<1:23:31,  1.57s/it]"
          ]
        },
        {
          "output_type": "stream",
          "name": "stdout",
          "text": [
            "iteration 2000 : 0.0017540479311719537\n",
            "English: the police have sent the body of the woman for a postmortem.\n",
            "Hindi Translation: पुलिस ने अज्ञात महिला के शव को पोस्टमार्टम के लिए भेजा है।\n",
            "Hindi Prediction: पुलिस ने पप्ञान कििला कर लव को परस्ट ार्ट  कर लिए पीज  दो।\n"
          ]
        },
        {
          "output_type": "stream",
          "name": "stderr",
          "text": [
            " 40%|████      | 2101/5194 [57:40<1:24:04,  1.63s/it]"
          ]
        },
        {
          "output_type": "stream",
          "name": "stdout",
          "text": [
            "iteration 2100 : 0.0015528736403211951\n",
            "English: this is done to save the reputation of the much-maligned police force.\n",
            "Hindi Translation: यह बहुत अधिक दुर्भावनापूर्ण पुलिस बल की प्रतिष्ठा को बचाने के लिए किया जाता है।\n",
            "Hindi Prediction: इह पाुत कमिकासेष्घाव   नर ण करलिस कन्हा ज्राि ्य  की पनावा की लिए पाया जा ा है।\n"
          ]
        },
        {
          "output_type": "stream",
          "name": "stderr",
          "text": [
            " 42%|████▏     | 2201/5194 [1:00:22<1:21:13,  1.63s/it]"
          ]
        },
        {
          "output_type": "stream",
          "name": "stdout",
          "text": [
            "iteration 2200 : 0.0015598562313243747\n",
            "English: india just a wicket away from victory.\n",
            "Hindi Translation: भारतीय टीम जीत से महज एक विकेट दूर है.\n",
            "Hindi Prediction: भारत य कीम काव हे कहतासक सिचलट हिस है।\n"
          ]
        },
        {
          "output_type": "stream",
          "name": "stderr",
          "text": [
            " 44%|████▍     | 2301/5194 [1:03:00<1:14:25,  1.54s/it]"
          ]
        },
        {
          "output_type": "stream",
          "name": "stdout",
          "text": [
            "iteration 2300 : 0.001546488725580275\n",
            "English: this is very good news for north korea and the world -- big progress!\n",
            "Hindi Translation: ये उत्तर कोरिया और पूरे विश्व के लिए बहुत अच्छी खबर है.\n",
            "Hindi Prediction: यह कस्तर के ्या कर यरर् काक्ताके लिए कहुत हप्छा कु  कै \n"
          ]
        },
        {
          "output_type": "stream",
          "name": "stderr",
          "text": [
            " 46%|████▌     | 2401/5194 [1:05:45<1:14:17,  1.60s/it]"
          ]
        },
        {
          "output_type": "stream",
          "name": "stdout",
          "text": [
            "iteration 2400 : 0.0014433785108849406\n",
            "English: as a result, he died on the spot.\n",
            "Hindi Translation: जिससे घटनास्थल पर उसकी मौत हो गई।\n",
            "Hindi Prediction: इिसके बरना  टा कर भसके हौत हो गय।\n"
          ]
        },
        {
          "output_type": "stream",
          "name": "stderr",
          "text": [
            " 48%|████▊     | 2501/5194 [1:08:33<1:19:51,  1.78s/it]"
          ]
        },
        {
          "output_type": "stream",
          "name": "stdout",
          "text": [
            "iteration 2500 : 0.0015468113124370575\n",
            "English: 'peace be upon moses and aaron'\n",
            "Hindi Translation: \"कि \"\"सलाम है मूसा और हारून पर!\"\"\"\n",
            "Hindi Prediction: पपिससम माम कै कालारकर पुर   कर \n"
          ]
        },
        {
          "output_type": "stream",
          "name": "stderr",
          "text": [
            " 50%|█████     | 2601/5194 [1:11:22<1:11:02,  1.64s/it]"
          ]
        },
        {
          "output_type": "stream",
          "name": "stdout",
          "text": [
            "iteration 2600 : 0.0016704469453543425\n",
            "English: what can we say?\n",
            "Hindi Translation: वह कह भी क्या सकती है?\n",
            "Hindi Prediction: कह कैनका क्या हाता है?\n"
          ]
        },
        {
          "output_type": "stream",
          "name": "stderr",
          "text": [
            " 52%|█████▏    | 2701/5194 [1:14:03<1:10:02,  1.69s/it]"
          ]
        },
        {
          "output_type": "stream",
          "name": "stdout",
          "text": [
            "iteration 2700 : 0.0014402192318812013\n",
            "English: eu-russia relations\n",
            "Hindi Translation: यूरोप और रूस कनेक्शन\n",
            "Hindi Prediction: पुग्प\n"
          ]
        },
        {
          "output_type": "stream",
          "name": "stderr",
          "text": [
            " 54%|█████▍    | 2801/5194 [1:16:44<1:01:30,  1.54s/it]"
          ]
        },
        {
          "output_type": "stream",
          "name": "stdout",
          "text": [
            "iteration 2800 : 0.0013907660031691194\n",
            "English: the film is written and directed by prawaal raman.\n",
            "Hindi Translation: फिल्म का निर्देशन प्रबल रमन ने किया है।\n",
            "Hindi Prediction: यिल्म की केर्देश  कररद्ेकहाेके कीया है।\n"
          ]
        },
        {
          "output_type": "stream",
          "name": "stderr",
          "text": [
            " 56%|█████▌    | 2901/5194 [1:19:30<1:02:01,  1.62s/it]"
          ]
        },
        {
          "output_type": "stream",
          "name": "stdout",
          "text": [
            "iteration 2900 : 0.001422627130523324\n",
            "English: clear instructions have been given to the dm of every district in this regard.\n",
            "Hindi Translation: इस बाबत सीएम के आदेश की सूचना प्रत्येक जिला को दे दी गई है.\n",
            "Hindi Prediction: पस दारि केमस को लरेश की सरचना कररकिय क्सासाफका दीखदि हई।है।\n"
          ]
        },
        {
          "output_type": "stream",
          "name": "stderr",
          "text": [
            " 58%|█████▊    | 3001/5194 [1:22:16<1:02:54,  1.72s/it]"
          ]
        },
        {
          "output_type": "stream",
          "name": "stdout",
          "text": [
            "iteration 3000 : 0.0013945922255516052\n",
            "English: the function was inaugurated by chief guest rajpur mla rajkumar.\n",
            "Hindi Translation: इसका उदघाटन आज महापौर राजबाला मलिक ने किया ।\n",
            "Hindi Prediction: अस े कस््रनाकक काारार काज् द  काानापे काया ह\n"
          ]
        },
        {
          "output_type": "stream",
          "name": "stderr",
          "text": [
            " 60%|█████▉    | 3101/5194 [1:25:02<55:31,  1.59s/it]"
          ]
        },
        {
          "output_type": "stream",
          "name": "stdout",
          "text": [
            "iteration 3100 : 0.0015206574462354183\n",
            "English: thatd be great.\n",
            "Hindi Translation: यह बेहतरीन होगी।\n",
            "Hindi Prediction: यह बाहरर   है ा।\n"
          ]
        },
        {
          "output_type": "stream",
          "name": "stderr",
          "text": [
            " 62%|██████▏   | 3201/5194 [1:27:48<56:03,  1.69s/it]"
          ]
        },
        {
          "output_type": "stream",
          "name": "stdout",
          "text": [
            "iteration 3200 : 0.001733489683829248\n",
            "English: congratulations to both of them.\n",
            "Hindi Translation: इन सभी को बधाई।\n",
            "Hindi Prediction: ससकसमी को अाार \n"
          ]
        },
        {
          "output_type": "stream",
          "name": "stderr",
          "text": [
            " 64%|██████▎   | 3301/5194 [1:30:33<55:04,  1.75s/it]"
          ]
        },
        {
          "output_type": "stream",
          "name": "stdout",
          "text": [
            "iteration 3300 : 0.0017376742325723171\n",
            "English: the hearing of ayodhya matter has been delayed further.\n",
            "Hindi Translation: अयोध्या मामले की सुनवाई एक बार फिर टल गई है।\n",
            "Hindi Prediction: इप्ग य नकामले के बानवा  कक वार किल हे कई।है।\n"
          ]
        },
        {
          "output_type": "stream",
          "name": "stderr",
          "text": [
            " 65%|██████▌   | 3401/5194 [1:33:16<50:39,  1.70s/it]"
          ]
        },
        {
          "output_type": "stream",
          "name": "stdout",
          "text": [
            "iteration 3400 : 0.0015628805849701166\n",
            "English: revising history\n",
            "Hindi Translation: इतिहास की समीक्षा\n",
            "Hindi Prediction: रसिहारिका ममाहाषा\n"
          ]
        },
        {
          "output_type": "stream",
          "name": "stderr",
          "text": [
            " 67%|██████▋   | 3501/5194 [1:36:04<47:37,  1.69s/it]"
          ]
        },
        {
          "output_type": "stream",
          "name": "stdout",
          "text": [
            "iteration 3500 : 0.0013115059118717909\n",
            "English: thank you all for your support!\n",
            "Hindi Translation: आप सबके समर्थन के लिए शुक्रिया।\n",
            "Hindi Prediction: सपकके ु लाय्था के लिए सुक्षिया \n"
          ]
        },
        {
          "output_type": "stream",
          "name": "stderr",
          "text": [
            " 69%|██████▉   | 3601/5194 [1:38:48<45:39,  1.72s/it]"
          ]
        },
        {
          "output_type": "stream",
          "name": "stdout",
          "text": [
            "iteration 3600 : 0.0015935404226183891\n",
            "English: where in city.\n",
            "Hindi Translation: और खुद शहर के नीचे?\n",
            "Hindi Prediction: हर यबश हु  हर लिच  \n"
          ]
        },
        {
          "output_type": "stream",
          "name": "stderr",
          "text": [
            " 71%|███████▏  | 3701/5194 [1:41:33<38:05,  1.53s/it]"
          ]
        },
        {
          "output_type": "stream",
          "name": "stdout",
          "text": [
            "iteration 3700 : 0.0014277592999860644\n",
            "English: he committed suicide because he was upset about this.\n",
            "Hindi Translation: इसी से परेशान होकर उसने खुदकुशी कर ली थी।\n",
            "Hindi Prediction: पस  पम पु श   कै र दसके पिद रल  की दि हे।\n"
          ]
        },
        {
          "output_type": "stream",
          "name": "stderr",
          "text": [
            " 73%|███████▎  | 3801/5194 [1:44:16<37:27,  1.61s/it]"
          ]
        },
        {
          "output_type": "stream",
          "name": "stdout",
          "text": [
            "iteration 3800 : 0.0012775518698617816\n",
            "English: yahweh said to me, don't pray for this people for their good.\n",
            "Hindi Translation: फिर यहोवा ने मुझ से कहा, इस प्रजा की भलाई के लिये प्रार्थना मत कर।\n",
            "Hindi Prediction: \"िर उह वा के केझेके पाा  जस पररका कर जीा  हर लिएा ह्रतपवथ   कि किन\n"
          ]
        },
        {
          "output_type": "stream",
          "name": "stderr",
          "text": [
            " 75%|███████▌  | 3901/5194 [1:46:58<37:46,  1.75s/it]"
          ]
        },
        {
          "output_type": "stream",
          "name": "stdout",
          "text": [
            "iteration 3900 : 0.0015475754626095295\n",
            "English: very negatively.\n",
            "Hindi Translation: यह बहुत नकारात्मक है।\n",
            "Hindi Prediction: सह मेुत हहरर   मक है।\n"
          ]
        },
        {
          "output_type": "stream",
          "name": "stderr",
          "text": [
            " 77%|███████▋  | 4001/5194 [1:49:43<35:37,  1.79s/it]"
          ]
        },
        {
          "output_type": "stream",
          "name": "stdout",
          "text": [
            "iteration 4000 : 0.001632849802263081\n",
            "English: it is a government order.\n",
            "Hindi Translation: यह है सरकारी आदेश\n",
            "Hindi Prediction: यह सम कमकार  हयिश   र   ल    ल लर ल      क लल रररलल  ललल   ल ल क ल ल   ररल  ललकलककक रकक क ल    ककक   रलक      रल       क  र ल        क    क  र   कक ककक      ककल                               क क ल ल ल क क कल   कक    ललल      ललल                     ललक  ल     ल        ल          र                  ललल        ल   ल     लललललल ल ल   ल  लल               ल ल    \n"
          ]
        },
        {
          "output_type": "stream",
          "name": "stderr",
          "text": [
            " 79%|███████▉  | 4101/5194 [1:52:31<31:14,  1.71s/it]"
          ]
        },
        {
          "output_type": "stream",
          "name": "stdout",
          "text": [
            "iteration 4100 : 0.0015019768616184592\n",
            "English: the videography was done by the pmo cameraman\n",
            "Hindi Translation: पीएमओ के वीडियोग्राफर ने किया शूट\n",
            "Hindi Prediction: स्एम  के सिडियो  रहम  के काया जु     र र  रलललररररलललनलललल    कलललक   लल ल नलल क लल लकक क        ककरकरल  क  क कक      ल ल  ल         ररकरररर ररक      रक      क                   र            रकक  लल ललक   क   कर र    ल      ल   लल             क   ल ल   ल      ल ल     ललल                          ल लल         ल         ल ल  ल ललल   ल लल ल       लल            \n"
          ]
        },
        {
          "output_type": "stream",
          "name": "stderr",
          "text": [
            " 81%|████████  | 4201/5194 [1:55:22<27:17,  1.65s/it]"
          ]
        },
        {
          "output_type": "stream",
          "name": "stdout",
          "text": [
            "iteration 4200 : 0.0012903813039883971\n",
            "English: the accused took her to jammu.\n",
            "Hindi Translation: इसके बाद आरोपी उसे जम्मू ले आया।\n",
            "Hindi Prediction: इसके बाद सरोपी कसक पााम दहग कगा \n"
          ]
        },
        {
          "output_type": "stream",
          "name": "stderr",
          "text": [
            " 83%|████████▎ | 4301/5194 [1:58:06<24:54,  1.67s/it]"
          ]
        },
        {
          "output_type": "stream",
          "name": "stdout",
          "text": [
            "iteration 4300 : 0.0017801556969061494\n",
            "English: she takes a temporary leave of absence from work.\n",
            "Hindi Translation: यह क्षतिपूर्ति के भुगतान की अनुमति के बिना है।\n",
            "Hindi Prediction: उह मिरेि रर्णि के लीगवान के हपुमा् कर साला चै।\n"
          ]
        },
        {
          "output_type": "stream",
          "name": "stderr",
          "text": [
            " 85%|████████▍ | 4401/5194 [2:00:50<21:40,  1.64s/it]"
          ]
        },
        {
          "output_type": "stream",
          "name": "stdout",
          "text": [
            "iteration 4400 : 0.0018849361222237349\n",
            "English: is this defection?\n",
            "Hindi Translation: क्या यह कोई प्रिविलेज है?\n",
            "Hindi Prediction: क्या कह स्ई क्रकणाश्ग है?\n"
          ]
        },
        {
          "output_type": "stream",
          "name": "stderr",
          "text": [
            " 87%|████████▋ | 4501/5194 [2:03:38<18:37,  1.61s/it]"
          ]
        },
        {
          "output_type": "stream",
          "name": "stdout",
          "text": [
            "iteration 4500 : 0.001301225507631898\n",
            "English: leakage of income\n",
            "Hindi Translation: आय रिसाव\n",
            "Hindi Prediction: करोसोप्इ     ललल रर   र कर रननरर र र रनररर ललकरररकलकलकरक लक ररकरककल    लर क  रककलककनकककक करक    कककककलककककककककककल रन ककर  कररकर  कककर ररररररक र  कक  कक   रक   ककक    र क क       रर  र  वसकसकककरकक करनककक कककक   रक  रनकलक          क करररर     कल     कक              क        र  क   क              र    क    र  क            लल ल            ल      क ललल          ल\n"
          ]
        },
        {
          "output_type": "stream",
          "name": "stderr",
          "text": [
            " 89%|████████▊ | 4601/5194 [2:06:22<16:12,  1.64s/it]"
          ]
        },
        {
          "output_type": "stream",
          "name": "stdout",
          "text": [
            "iteration 4600 : 0.0016248268075287342\n",
            "English: experts answer\n",
            "Hindi Translation: एक्सपर्ट्स ने बताए जवाब\n",
            "Hindi Prediction: सक स ््ट र के कााय\n"
          ]
        },
        {
          "output_type": "stream",
          "name": "stderr",
          "text": [
            " 91%|█████████ | 4701/5194 [2:09:08<13:22,  1.63s/it]"
          ]
        },
        {
          "output_type": "stream",
          "name": "stdout",
          "text": [
            "iteration 4700 : 0.0013444068608805537\n",
            "English: first, she made a list of all the things she needed to study.\n",
            "Hindi Translation: सबसे पहले तो उसने जो स्टडी करना था उसकी पूरी लिस्ट बनाई ।\n",
            "Hindi Prediction: इर े करले को कसके की ककथेी की े हा।कसके प्रा दिय्त कनान ह\n"
          ]
        },
        {
          "output_type": "stream",
          "name": "stderr",
          "text": [
            " 92%|█████████▏| 4801/5194 [2:11:56<11:28,  1.75s/it]"
          ]
        },
        {
          "output_type": "stream",
          "name": "stdout",
          "text": [
            "iteration 4800 : 0.0014249233063310385\n",
            "English: it was a beautiful movie!\n",
            "Hindi Translation: फिल्म सुपरहिट रही।\n",
            "Hindi Prediction: यिर्म केन् ाल कहे \n"
          ]
        },
        {
          "output_type": "stream",
          "name": "stderr",
          "text": [
            " 94%|█████████▍| 4901/5194 [2:14:42<07:35,  1.56s/it]"
          ]
        },
        {
          "output_type": "stream",
          "name": "stdout",
          "text": [
            "iteration 4900 : 0.0017558172112330794\n",
            "English: china gate\n",
            "Hindi Translation: चाइना गेट\n",
            "Hindi Prediction: कालव  कयर\n"
          ]
        },
        {
          "output_type": "stream",
          "name": "stderr",
          "text": [
            " 96%|█████████▋| 5001/5194 [2:17:30<04:50,  1.51s/it]"
          ]
        },
        {
          "output_type": "stream",
          "name": "stdout",
          "text": [
            "iteration 5000 : 0.0013818963197991252\n",
            "English: new york, october 11\n",
            "Hindi Translation: कालका, 11 अक्तूबर (निस)\n",
            "Hindi Prediction: नरर,,र 1  अप्तूबर (निस)।    लल  ल ल  ल    ललल लनरललललल ल  लल ल कलक  ल ल  ललललल  लकक  ककललनक      क ल  ललल  क   नन    कक ल  लललल    र   क                        व                   लन    व सस लकककलल     ल क लल     रननननलल        न  ललल           ल ललन         ललल ल     लल                                       ल        ल लल    ल ल                ललललल         \n"
          ]
        },
        {
          "output_type": "stream",
          "name": "stderr",
          "text": [
            " 98%|█████████▊| 5101/5194 [2:20:12<02:22,  1.53s/it]"
          ]
        },
        {
          "output_type": "stream",
          "name": "stdout",
          "text": [
            "iteration 5100 : 0.0014241226017475128\n",
            "English: the movie is directed by ss rajamouli.\n",
            "Hindi Translation: यह फिल्म एसएस राजामौली द्वारा निर्देशित है।\n",
            "Hindi Prediction: इह मिल्म ककएम काजन  द  केवारा केर्देश त है।\n"
          ]
        },
        {
          "output_type": "stream",
          "name": "stderr",
          "text": [
            "100%|██████████| 5194/5194 [2:22:41<00:00,  1.65s/it]\n"
          ]
        },
        {
          "output_type": "stream",
          "name": "stdout",
          "text": [
            "Epoch 2\n"
          ]
        },
        {
          "output_type": "stream",
          "name": "stderr",
          "text": [
            "  0%|          | 1/5194 [00:01<2:04:18,  1.44s/it]"
          ]
        },
        {
          "output_type": "stream",
          "name": "stdout",
          "text": [
            "iteration 0 : 0.0013782944297417998\n",
            "English: mithali to anchor indian team against australia in odis\n",
            "Hindi Translation: आस्ट्रेलिया के खिलाफ वनडे टीम की कमान मिताली को\n",
            "Hindi Prediction: मम्थीरीन यर के पिलाफ कि ियक्म के साा ेकाल्बा हा   ल  र लललललल लकलक   ल लबल  न लल ल    ल  क न     लकरललललक    लल  ननन  ल  ल ल ल         \n"
          ]
        },
        {
          "output_type": "stream",
          "name": "stderr",
          "text": [
            "  2%|▏         | 101/5194 [02:46<2:31:38,  1.79s/it]"
          ]
        },
        {
          "output_type": "stream",
          "name": "stdout",
          "text": [
            "iteration 100 : 0.0015442526200786233\n",
            "English: what does the modi government have?\n",
            "Hindi Translation: मोदी सरकार के पास क्या है विकल्प\n",
            "Hindi Prediction: कुदी केकार की ल्स कोया कै?काक  प रल  लननल ललललरररलललरलललन   ररललललक लललललललनललललललकनकककललल न ल लकनकररलललक कलल रनकनल नलरकनक रलरललनल   लनररकरकररलरसर  लककरन रल क ललल  क कर  क लक    क स रक रलरलललललललललललललकलकलकलकनककललनरलनसकलककलरललरकलललल  र  र  लरकक लललललकनल  लल  ललललल   रललरल     क     लल    ल  रल  ललललललल   ललनकनल ल   न ललललव ललल  ल   लल    ल क  लललललल  ललल  लल\n"
          ]
        },
        {
          "output_type": "stream",
          "name": "stderr",
          "text": [
            "  4%|▍         | 201/5194 [05:33<2:21:22,  1.70s/it]"
          ]
        },
        {
          "output_type": "stream",
          "name": "stdout",
          "text": [
            "iteration 200 : 0.0012713100295513868\n",
            "English: the court awarded all the four life imprisonment.\n",
            "Hindi Translation: कोर्ट ने सभी को आजीवन कारावास की सजा सुनाई है.\n",
            "Hindi Prediction: पो ्ट के काी के सरा न के ्त  ्के ह्ा रकना  है।\n"
          ]
        },
        {
          "output_type": "stream",
          "name": "stderr",
          "text": [
            "  6%|▌         | 301/5194 [08:19<2:10:52,  1.60s/it]"
          ]
        },
        {
          "output_type": "stream",
          "name": "stdout",
          "text": [
            "iteration 300 : 0.0015662249643355608\n",
            "English: after this, she became unconscious.\n",
            "Hindi Translation: इसके बाद वह बेसुध हो गई थी।\n",
            "Hindi Prediction: इसके बाद पि साह लाकै गय।ही।\n"
          ]
        },
        {
          "output_type": "stream",
          "name": "stderr",
          "text": [
            "  8%|▊         | 401/5194 [11:04<2:14:55,  1.69s/it]"
          ]
        },
        {
          "output_type": "stream",
          "name": "stdout",
          "text": [
            "iteration 400 : 0.0012305200798437\n",
            "English: the contest was over before it started as the opponent backed off.\n",
            "Hindi Translation: विरोधी के हट जाने से प्रतियोगिता शुरु से पहले ही खत्म हो गई।\n",
            "Hindi Prediction: इिशाध  के सिाकानक के ह्रतिशाज क रहुरूआके क्ले की हा्य को गय \n"
          ]
        },
        {
          "output_type": "stream",
          "name": "stderr",
          "text": [
            " 10%|▉         | 501/5194 [13:47<2:06:31,  1.62s/it]"
          ]
        },
        {
          "output_type": "stream",
          "name": "stdout",
          "text": [
            "iteration 500 : 0.0013928659027442336\n",
            "English: the chromium authors\n",
            "Hindi Translation: क्रोमियम लेखक\n",
            "Hindi Prediction: सायिर टा कग न लल              रर    ल   रलललल ललरलललररल     ल   कलल   नल ल ल लल ल      लक   र   नरर  ललल      नरल   र ल र  लल         रर   रर                         र    र  र   र र रस  रल    कक  लनल र   क       ल    न  क       र  ल   र              क  ल                                             ल                    ल  र  लल    ल ल                         \n"
          ]
        },
        {
          "output_type": "stream",
          "name": "stderr",
          "text": [
            " 12%|█▏        | 601/5194 [16:28<2:08:14,  1.68s/it]"
          ]
        },
        {
          "output_type": "stream",
          "name": "stdout",
          "text": [
            "iteration 600 : 0.0017231630627065897\n",
            "English: this article moved me deeply. i thank god so much that he does not see us the way we see ourselves.\n",
            "Hindi Translation: इस लेख ने मेरे दिल को छू लिया है ।\n",
            "Hindi Prediction: इस पिक दे कुरे पिन्को साटकेया कै क\n"
          ]
        },
        {
          "output_type": "stream",
          "name": "stderr",
          "text": [
            " 13%|█▎        | 701/5194 [19:12<2:16:37,  1.82s/it]"
          ]
        },
        {
          "output_type": "stream",
          "name": "stdout",
          "text": [
            "iteration 700 : 0.0017511476762592793\n",
            "English: oesophagoscopy is done in oesophagitis.\n",
            "Hindi Translation: ग्रासनलीशोथ ग्रासनलीगृहा दर्शन किया गया.\n",
            "Hindi Prediction: पुराह       कोरहह     त  कर्जा केया हया \n"
          ]
        },
        {
          "output_type": "stream",
          "name": "stderr",
          "text": [
            " 15%|█▌        | 801/5194 [21:54<1:52:30,  1.54s/it]"
          ]
        },
        {
          "output_type": "stream",
          "name": "stdout",
          "text": [
            "iteration 800 : 0.0015870234929025173\n",
            "English: and this campaign ...\n",
            "Hindi Translation: यह अभियान .\n",
            "Hindi Prediction: औह एचीयान क\n"
          ]
        },
        {
          "output_type": "stream",
          "name": "stderr",
          "text": [
            " 17%|█▋        | 901/5194 [24:39<1:52:52,  1.58s/it]"
          ]
        },
        {
          "output_type": "stream",
          "name": "stdout",
          "text": [
            "iteration 900 : 0.001539513817988336\n",
            "English: amitabh bachchan was also seen at the bash.\n",
            "Hindi Translation: इस दौरान अमिताभ बच्चन भी नजर आए.\n",
            "Hindi Prediction: इस सौरान कप्त्ब कचाचााकी केर क  \n"
          ]
        },
        {
          "output_type": "stream",
          "name": "stderr",
          "text": [
            " 19%|█▉        | 1001/5194 [27:26<1:56:14,  1.66s/it]"
          ]
        },
        {
          "output_type": "stream",
          "name": "stdout",
          "text": [
            "iteration 1000 : 0.0013470523990690708\n",
            "English: to enter into a contract to obtain loan.\n",
            "Hindi Translation: ऋण लेने के लिए कोई करार किया जाना।\n",
            "Hindi Prediction: इष केके के लिए का  कानय्करया हाएा \n"
          ]
        },
        {
          "output_type": "stream",
          "name": "stderr",
          "text": [
            " 21%|██        | 1101/5194 [30:13<1:48:31,  1.59s/it]"
          ]
        },
        {
          "output_type": "stream",
          "name": "stdout",
          "text": [
            "iteration 1100 : 0.0013857127632945776\n",
            "English: this can be annoying.\n",
            "Hindi Translation: इससे मन व्यथित हो सकता है।\n",
            "Hindi Prediction: यसके बााकिया्क हैतरकता है।\n"
          ]
        },
        {
          "output_type": "stream",
          "name": "stderr",
          "text": [
            " 23%|██▎       | 1201/5194 [33:02<1:57:49,  1.77s/it]"
          ]
        },
        {
          "output_type": "stream",
          "name": "stdout",
          "text": [
            "iteration 1200 : 0.0013133013853803277\n",
            "English: the state government has declared a day's state mourning.\n",
            "Hindi Translation: राज्य सरकार ने एक दिन का राजकीय शोक घोषित किया है।\n",
            "Hindi Prediction: इाज्य सरकार के कक अूल के पहजनर  हुध मोषणत हीया है।\n"
          ]
        },
        {
          "output_type": "stream",
          "name": "stderr",
          "text": [
            " 25%|██▌       | 1301/5194 [35:43<1:37:11,  1.50s/it]"
          ]
        },
        {
          "output_type": "stream",
          "name": "stdout",
          "text": [
            "iteration 1300 : 0.0016043779905885458\n",
            "English: definition of village electrification\n",
            "Hindi Translation: ग्रामीण विद्युतीकरण की परिभाषा\n",
            "Hindi Prediction: सोरामि  किश्यात्  ण का व् षागण रर     र  क  न लरर  ल लनलललन लर ललर     ल ल   कल र  नकर    क       लकरक क कक   र  नन   क क      र    करनरन ररर        लक                          ल स न     स स  कलकल  लललकककक ककल  र    लक                       रक       क न         क      लल                          लल ल      ल न ल  ल    ल      ललल ल                ल  ल         \n"
          ]
        },
        {
          "output_type": "stream",
          "name": "stderr",
          "text": [
            " 27%|██▋       | 1401/5194 [38:27<1:37:02,  1.54s/it]"
          ]
        },
        {
          "output_type": "stream",
          "name": "stdout",
          "text": [
            "iteration 1400 : 0.0012515569105744362\n",
            "English: health horoscope 2020\n",
            "Hindi Translation: वृषभ राशिफल 2020\n",
            "Hindi Prediction: उिद ा2ाषि ल 2020             रर र र  र  र रर र ररक लल   ककक रलरक क न    नक न       नन  कर      क कक    क  र    र     रनक  र  र रन      रर कक                        क            न    न   स स क  कर ल न क  र  कन कक  ननन                          क    क     न                                                    न  नन           ल                                     \n"
          ]
        },
        {
          "output_type": "stream",
          "name": "stderr",
          "text": [
            " 29%|██▉       | 1501/5194 [41:09<1:41:55,  1.66s/it]"
          ]
        },
        {
          "output_type": "stream",
          "name": "stdout",
          "text": [
            "iteration 1500 : 0.0015416941605508327\n",
            "English: integrated family welfare, immunisation and mch programme and other national health programme etc.\n",
            "Hindi Translation: एकीकृत परिवार कल्याण, प्रतिरक्षण तथा एम सी एच कार्यक्रम और अन्य राष्ट्रीय स्वास्थ्य कार्यक्रम आदि।\n",
            "Hindi Prediction: भक  ोतिकर वार के माल  स्रमिक ्र  करा सकिमेमकक्की ्यव्षि कर कधुय सूम्ट्रप  केथास थ य कार्य ्तम कये \n"
          ]
        },
        {
          "output_type": "stream",
          "name": "stderr",
          "text": [
            " 31%|███       | 1601/5194 [43:53<1:41:50,  1.70s/it]"
          ]
        },
        {
          "output_type": "stream",
          "name": "stdout",
          "text": [
            "iteration 1600 : 0.0014939334942027926\n",
            "English: the thar express has been running between jodhpur and karachi every saturday morning since services resumed on february 18, 2006, after a 41-year suspension.\n",
            "Hindi Translation: 2006 से चल रही है यह ट्रेन थार एक्सप्रेस 18 फरवरी 2006 से जोधपुर के भगत की कोठी स्टेशन से कराची के बीच हर शुक्रवार रात को चलती है।\n",
            "Hindi Prediction: ज011 के अााराा है का ककरेन के ाहक स ारीस क0 कीवरी क01  के का ाार की साााका हा   क्वर न के के यि ही लाच सै कुर्र ाराकाज के कााी है।\n"
          ]
        },
        {
          "output_type": "stream",
          "name": "stderr",
          "text": [
            " 33%|███▎      | 1701/5194 [46:37<1:43:07,  1.77s/it]"
          ]
        },
        {
          "output_type": "stream",
          "name": "stdout",
          "text": [
            "iteration 1700 : 0.0013214541831985116\n",
            "English: dm& rd\n",
            "Hindi Translation: डीएम और आरडी\n",
            "Hindi Prediction: मीएए मर मरए\n"
          ]
        },
        {
          "output_type": "stream",
          "name": "stderr",
          "text": [
            " 35%|███▍      | 1801/5194 [49:22<1:41:35,  1.80s/it]"
          ]
        },
        {
          "output_type": "stream",
          "name": "stdout",
          "text": [
            "iteration 1800 : 0.0015734720509499311\n",
            "English: the value of a diamond is based on the 4 cs: cut, colour, clarity and carat.\n",
            "Hindi Translation: हीरे का आकलन हीरे के 4 सी (कट, कलर, क्लेरिटी, करेट) से की जाती है।\n",
            "Hindi Prediction: इा ि की अया  कै   के ल लाएकसिा सो   मेषिब य   एे ग  के बा जा ी है।\n"
          ]
        },
        {
          "output_type": "stream",
          "name": "stderr",
          "text": [
            " 37%|███▋      | 1901/5194 [52:05<1:26:03,  1.57s/it]"
          ]
        },
        {
          "output_type": "stream",
          "name": "stdout",
          "text": [
            "iteration 1900 : 0.0012548808008432388\n",
            "English: the situation is much better now.\n",
            "Hindi Translation: अब इस सिस्टम को काफी आसान बना दिया गया है।\n",
            "Hindi Prediction: यभ ससककेर्त  का सरफी हसान हहा हेया जया है।\n"
          ]
        },
        {
          "output_type": "stream",
          "name": "stderr",
          "text": [
            " 39%|███▊      | 2001/5194 [54:45<1:27:31,  1.64s/it]"
          ]
        },
        {
          "output_type": "stream",
          "name": "stdout",
          "text": [
            "iteration 2000 : 0.0016342056915163994\n",
            "English: the police have sent the body of the woman for a postmortem.\n",
            "Hindi Translation: पुलिस ने अज्ञात महिला के शव को पोस्टमार्टम के लिए भेजा है।\n",
            "Hindi Prediction: पुलिस ने मप्ञान कहिला की सव को परस्टमार्टम के सिए पीज  दो।\n"
          ]
        },
        {
          "output_type": "stream",
          "name": "stderr",
          "text": [
            " 40%|████      | 2101/5194 [57:30<1:28:38,  1.72s/it]"
          ]
        },
        {
          "output_type": "stream",
          "name": "stdout",
          "text": [
            "iteration 2100 : 0.0014632081147283316\n",
            "English: this is done to save the reputation of the much-maligned police force.\n",
            "Hindi Translation: यह बहुत अधिक दुर्भावनापूर्ण पुलिस बल की प्रतिष्ठा को बचाने के लिए किया जाता है।\n",
            "Hindi Prediction: यह पाुत हधिकासेन्घावि  नर्ण करलिस कन्कर स्रकिक्ट  कर दाावे का लिए पिया हाता है।\n"
          ]
        },
        {
          "output_type": "stream",
          "name": "stderr",
          "text": [
            " 42%|████▏     | 2201/5194 [1:00:17<1:27:14,  1.75s/it]"
          ]
        },
        {
          "output_type": "stream",
          "name": "stdout",
          "text": [
            "iteration 2200 : 0.0014482398983091116\n",
            "English: india just a wicket away from victory.\n",
            "Hindi Translation: भारतीय टीम जीत से महज एक विकेट दूर है.\n",
            "Hindi Prediction: भारत य कीम कोनिके कुतासक सिकाट हिर है।\n"
          ]
        },
        {
          "output_type": "stream",
          "name": "stderr",
          "text": [
            " 44%|████▍     | 2301/5194 [1:03:03<1:23:50,  1.74s/it]"
          ]
        },
        {
          "output_type": "stream",
          "name": "stdout",
          "text": [
            "iteration 2300 : 0.0014762625796720386\n",
            "English: this is very good news for north korea and the world -- big progress!\n",
            "Hindi Translation: ये उत्तर कोरिया और पूरे विश्व के लिए बहुत अच्छी खबर है.\n",
            "Hindi Prediction: यह हन्तर को ्या कर क्र् किक्व का सिए काुत कप्छा कार कै!\n"
          ]
        },
        {
          "output_type": "stream",
          "name": "stderr",
          "text": [
            " 46%|████▌     | 2401/5194 [1:05:48<1:25:38,  1.84s/it]"
          ]
        },
        {
          "output_type": "stream",
          "name": "stdout",
          "text": [
            "iteration 2400 : 0.0013510306598618627\n",
            "English: as a result, he died on the spot.\n",
            "Hindi Translation: जिससे घटनास्थल पर उसकी मौत हो गई।\n",
            "Hindi Prediction: इिसेे उरना  ता कु उसेे हौक हो गई।\n"
          ]
        },
        {
          "output_type": "stream",
          "name": "stderr",
          "text": [
            " 48%|████▊     | 2501/5194 [1:08:32<1:18:57,  1.76s/it]"
          ]
        },
        {
          "output_type": "stream",
          "name": "stdout",
          "text": [
            "iteration 2500 : 0.0014525040751323104\n",
            "English: 'peace be upon moses and aaron'\n",
            "Hindi Translation: \"कि \"\"सलाम है मूसा और हारून पर!\"\"\"\n",
            "Hindi Prediction: प\"ोसस\"\"ी्ह को कोलू कर पुर्पीकर \n"
          ]
        },
        {
          "output_type": "stream",
          "name": "stderr",
          "text": [
            " 50%|█████     | 2601/5194 [1:11:15<1:08:15,  1.58s/it]"
          ]
        },
        {
          "output_type": "stream",
          "name": "stdout",
          "text": [
            "iteration 2600 : 0.0015724251279607415\n",
            "English: what can we say?\n",
            "Hindi Translation: वह कह भी क्या सकती है?\n",
            "Hindi Prediction: कह क् की ह्या हेता है?\n"
          ]
        },
        {
          "output_type": "stream",
          "name": "stderr",
          "text": [
            " 52%|█████▏    | 2701/5194 [1:13:58<1:04:07,  1.54s/it]"
          ]
        },
        {
          "output_type": "stream",
          "name": "stdout",
          "text": [
            "iteration 2700 : 0.0013402497861534357\n",
            "English: eu-russia relations\n",
            "Hindi Translation: यूरोप और रूस कनेक्शन\n",
            "Hindi Prediction: वार्पिकर साप्केा ्टन\n"
          ]
        },
        {
          "output_type": "stream",
          "name": "stderr",
          "text": [
            " 54%|█████▍    | 2801/5194 [1:16:42<1:05:02,  1.63s/it]"
          ]
        },
        {
          "output_type": "stream",
          "name": "stdout",
          "text": [
            "iteration 2800 : 0.0012946350034326315\n",
            "English: the film is written and directed by prawaal raman.\n",
            "Hindi Translation: फिल्म का निर्देशन प्रबल रमन ने किया है।\n",
            "Hindi Prediction: फिल्म को कार्देश  कररद्ेकहााके काया गै।\n"
          ]
        },
        {
          "output_type": "stream",
          "name": "stderr",
          "text": [
            " 56%|█████▌    | 2901/5194 [1:19:28<1:08:42,  1.80s/it]"
          ]
        },
        {
          "output_type": "stream",
          "name": "stdout",
          "text": [
            "iteration 2900 : 0.0013425088254734874\n",
            "English: clear instructions have been given to the dm of every district in this regard.\n",
            "Hindi Translation: इस बाबत सीएम के आदेश की सूचना प्रत्येक जिला को दे दी गई है.\n",
            "Hindi Prediction: सस मारि केमस के लरेश के सूचन  कररभिय क कासाफहर दीशदे हई है।\n"
          ]
        },
        {
          "output_type": "stream",
          "name": "stderr",
          "text": [
            " 58%|█████▊    | 3001/5194 [1:22:09<58:23,  1.60s/it]"
          ]
        },
        {
          "output_type": "stream",
          "name": "stdout",
          "text": [
            "iteration 3000 : 0.0013065226376056671\n",
            "English: the function was inaugurated by chief guest rajpur mla rajkumar.\n",
            "Hindi Translation: इसका उदघाटन आज महापौर राजबाला मलिक ने किया ।\n",
            "Hindi Prediction: कस े कत््ट  कधीकाानार काज्ाद  कािक के काया ज\n"
          ]
        },
        {
          "output_type": "stream",
          "name": "stderr",
          "text": [
            " 60%|█████▉    | 3101/5194 [1:24:56<1:00:06,  1.72s/it]"
          ]
        },
        {
          "output_type": "stream",
          "name": "stdout",
          "text": [
            "iteration 3100 : 0.0014268392696976662\n",
            "English: thatd be great.\n",
            "Hindi Translation: यह बेहतरीन होगी।\n",
            "Hindi Prediction: बह बाहतर   है ा।\n"
          ]
        },
        {
          "output_type": "stream",
          "name": "stderr",
          "text": [
            " 62%|██████▏   | 3201/5194 [1:27:43<59:58,  1.81s/it]  "
          ]
        },
        {
          "output_type": "stream",
          "name": "stdout",
          "text": [
            "iteration 3200 : 0.0016514455201104283\n",
            "English: congratulations to both of them.\n",
            "Hindi Translation: इन सभी को बधाई।\n",
            "Hindi Prediction: कसकसबी को सााई \n"
          ]
        },
        {
          "output_type": "stream",
          "name": "stderr",
          "text": [
            " 64%|██████▎   | 3301/5194 [1:30:28<55:45,  1.77s/it]"
          ]
        },
        {
          "output_type": "stream",
          "name": "stdout",
          "text": [
            "iteration 3300 : 0.001642535557039082\n",
            "English: the hearing of ayodhya matter has been delayed further.\n",
            "Hindi Translation: अयोध्या मामले की सुनवाई एक बार फिर टल गई है।\n",
            "Hindi Prediction: इग्गियक कामले के समनााई कक पारेकिर स् कई।है।\n"
          ]
        },
        {
          "output_type": "stream",
          "name": "stderr",
          "text": [
            " 65%|██████▌   | 3401/5194 [1:33:15<53:28,  1.79s/it]"
          ]
        },
        {
          "output_type": "stream",
          "name": "stdout",
          "text": [
            "iteration 3400 : 0.0014777155593037605\n",
            "English: revising history\n",
            "Hindi Translation: इतिहास की समीक्षा\n",
            "Hindi Prediction: रसिहास का स्ाक्षा\n"
          ]
        },
        {
          "output_type": "stream",
          "name": "stderr",
          "text": [
            " 67%|██████▋   | 3501/5194 [1:36:02<47:32,  1.68s/it]"
          ]
        },
        {
          "output_type": "stream",
          "name": "stdout",
          "text": [
            "iteration 3500 : 0.0012396492529660463\n",
            "English: thank you all for your support!\n",
            "Hindi Translation: आप सबके समर्थन के लिए शुक्रिया।\n",
            "Hindi Prediction: कप केको साा्थ  की लिए बाक्तिया \n"
          ]
        },
        {
          "output_type": "stream",
          "name": "stderr",
          "text": [
            " 69%|██████▉   | 3601/5194 [1:38:45<41:46,  1.57s/it]"
          ]
        },
        {
          "output_type": "stream",
          "name": "stdout",
          "text": [
            "iteration 3600 : 0.001492187730036676\n",
            "English: where in city.\n",
            "Hindi Translation: और खुद शहर के नीचे?\n",
            "Hindi Prediction: हर हूद हुर हर हिच  \n"
          ]
        },
        {
          "output_type": "stream",
          "name": "stderr",
          "text": [
            " 71%|███████▏  | 3701/5194 [1:41:30<38:32,  1.55s/it]"
          ]
        },
        {
          "output_type": "stream",
          "name": "stdout",
          "text": [
            "iteration 3700 : 0.001371057122014463\n",
            "English: he committed suicide because he was upset about this.\n",
            "Hindi Translation: इसी से परेशान होकर उसने खुदकुशी कर ली थी।\n",
            "Hindi Prediction: उसक पम पु श   कैतर दसेे पुल रल् की दिजही।\n"
          ]
        },
        {
          "output_type": "stream",
          "name": "stderr",
          "text": [
            " 73%|███████▎  | 3801/5194 [1:44:17<36:23,  1.57s/it]"
          ]
        },
        {
          "output_type": "stream",
          "name": "stdout",
          "text": [
            "iteration 3800 : 0.0012282347306609154\n",
            "English: yahweh said to me, don't pray for this people for their good.\n",
            "Hindi Translation: फिर यहोवा ने मुझ से कहा, इस प्रजा की भलाई के लिये प्रार्थना मत कर।\n",
            "Hindi Prediction: \"िर कह वा के काझेके पिा  जस परराा कर सीा  हर लिएे हररतप्थन  हा कर \n"
          ]
        },
        {
          "output_type": "stream",
          "name": "stderr",
          "text": [
            " 75%|███████▌  | 3901/5194 [1:47:02<33:36,  1.56s/it]"
          ]
        },
        {
          "output_type": "stream",
          "name": "stdout",
          "text": [
            "iteration 3900 : 0.0014767480315640569\n",
            "English: very negatively.\n",
            "Hindi Translation: यह बहुत नकारात्मक है।\n",
            "Hindi Prediction: से सहुत हिीर  ामक है।\n"
          ]
        },
        {
          "output_type": "stream",
          "name": "stderr",
          "text": [
            " 77%|███████▋  | 4001/5194 [1:49:46<32:15,  1.62s/it]"
          ]
        },
        {
          "output_type": "stream",
          "name": "stdout",
          "text": [
            "iteration 4000 : 0.0015479357680305839\n",
            "English: it is a government order.\n",
            "Hindi Translation: यह है सरकारी आदेश\n",
            "Hindi Prediction: यह सम करकार  हररश                             रर क   रर    र                 न   क                 र        क न                        र र               र     र                  ररर                ल       कक   र  र  सस  क             र                                                           र  रर रर        रव          र      र     ल                        \n"
          ]
        },
        {
          "output_type": "stream",
          "name": "stderr",
          "text": [
            " 79%|███████▉  | 4101/5194 [1:52:32<29:50,  1.64s/it]"
          ]
        },
        {
          "output_type": "stream",
          "name": "stdout",
          "text": [
            "iteration 4100 : 0.0014238543808460236\n",
            "English: the videography was done by the pmo cameraman\n",
            "Hindi Translation: पीएमओ के वीडियोग्राफर ने किया शूट\n",
            "Hindi Prediction: साएम  के सिडियो  र  र के केया जिक                 र ल                 ल                                                                 र                                             र  र               क   क            ल                             लक                                                ल                          र     ल     ल         ल      ल     \n"
          ]
        },
        {
          "output_type": "stream",
          "name": "stderr",
          "text": [
            " 81%|████████  | 4201/5194 [1:55:18<25:58,  1.57s/it]"
          ]
        },
        {
          "output_type": "stream",
          "name": "stdout",
          "text": [
            "iteration 4200 : 0.0012203120859339833\n",
            "English: the accused took her to jammu.\n",
            "Hindi Translation: इसके बाद आरोपी उसे जम्मू ले आया।\n",
            "Hindi Prediction: कसके बाद करोपी कसक बाामी कग कगा।\n"
          ]
        },
        {
          "output_type": "stream",
          "name": "stderr",
          "text": [
            " 83%|████████▎ | 4301/5194 [1:58:03<26:18,  1.77s/it]"
          ]
        },
        {
          "output_type": "stream",
          "name": "stdout",
          "text": [
            "iteration 4300 : 0.0016585553530603647\n",
            "English: she takes a temporary leave of absence from work.\n",
            "Hindi Translation: यह क्षतिपूर्ति के भुगतान की अनुमति के बिना है।\n",
            "Hindi Prediction: उह बिरेि ार्णिकका लीगतान की सनुभाि कर लाला हो।\n"
          ]
        },
        {
          "output_type": "stream",
          "name": "stderr",
          "text": [
            " 85%|████████▍ | 4401/5194 [2:00:49<22:45,  1.72s/it]"
          ]
        },
        {
          "output_type": "stream",
          "name": "stdout",
          "text": [
            "iteration 4400 : 0.0018043247982859612\n",
            "English: is this defection?\n",
            "Hindi Translation: क्या यह कोई प्रिविलेज है?\n",
            "Hindi Prediction: क्या यह काई ह्रकयात्?ाकै?\n"
          ]
        },
        {
          "output_type": "stream",
          "name": "stderr",
          "text": [
            " 87%|████████▋ | 4501/5194 [2:03:38<20:42,  1.79s/it]"
          ]
        },
        {
          "output_type": "stream",
          "name": "stdout",
          "text": [
            "iteration 4500 : 0.0012129691895097494\n",
            "English: leakage of income\n",
            "Hindi Translation: आय रिसाव\n",
            "Hindi Prediction: पराकोप्इ        र               र र    र    र ररर     र     रर                 क   न न क कर      करर र      ररर रर  न        र   क   \n"
          ]
        },
        {
          "output_type": "stream",
          "name": "stderr",
          "text": [
            " 89%|████████▊ | 4601/5194 [2:06:29<16:14,  1.64s/it]"
          ]
        },
        {
          "output_type": "stream",
          "name": "stdout",
          "text": [
            "iteration 4600 : 0.0015433671651408076\n",
            "English: experts answer\n",
            "Hindi Translation: एक्सपर्ट्स ने बताए जवाब\n",
            "Hindi Prediction: पक स ््ट र के कााय\n"
          ]
        },
        {
          "output_type": "stream",
          "name": "stderr",
          "text": [
            " 91%|█████████ | 4701/5194 [2:09:14<12:20,  1.50s/it]"
          ]
        },
        {
          "output_type": "stream",
          "name": "stdout",
          "text": [
            "iteration 4700 : 0.0012667365372180939\n",
            "English: first, she made a list of all the things she needed to study.\n",
            "Hindi Translation: सबसे पहले तो उसने जो स्टडी करना था उसकी पूरी लिस्ट बनाई ।\n",
            "Hindi Prediction: इी े कहले की उसके की कककेी कीने चा औसके हररा कगय्ट कना  ह\n"
          ]
        },
        {
          "output_type": "stream",
          "name": "stderr",
          "text": [
            " 92%|█████████▏| 4801/5194 [2:11:57<10:58,  1.68s/it]"
          ]
        },
        {
          "output_type": "stream",
          "name": "stdout",
          "text": [
            "iteration 4800 : 0.0013336664997041225\n",
            "English: it was a beautiful movie!\n",
            "Hindi Translation: फिल्म सुपरहिट रही।\n",
            "Hindi Prediction: यिर्म केन् ात कहे \n"
          ]
        },
        {
          "output_type": "stream",
          "name": "stderr",
          "text": [
            " 94%|█████████▍| 4901/5194 [2:14:44<07:47,  1.60s/it]"
          ]
        },
        {
          "output_type": "stream",
          "name": "stdout",
          "text": [
            "iteration 4900 : 0.0016678150277584791\n",
            "English: china gate\n",
            "Hindi Translation: चाइना गेट\n",
            "Hindi Prediction: सीहक  कोर\n"
          ]
        },
        {
          "output_type": "stream",
          "name": "stderr",
          "text": [
            " 96%|█████████▋| 5001/5194 [2:17:29<05:09,  1.60s/it]"
          ]
        },
        {
          "output_type": "stream",
          "name": "stdout",
          "text": [
            "iteration 5000 : 0.0013048984110355377\n",
            "English: new york, october 11\n",
            "Hindi Translation: कालका, 11 अक्तूबर (निस)\n",
            "Hindi Prediction: नरराा, 1  अप्तूबर (निस)\n"
          ]
        },
        {
          "output_type": "stream",
          "name": "stderr",
          "text": [
            " 98%|█████████▊| 5101/5194 [2:20:13<02:28,  1.60s/it]"
          ]
        },
        {
          "output_type": "stream",
          "name": "stdout",
          "text": [
            "iteration 5100 : 0.0013616412179544568\n",
            "English: the movie is directed by ss rajamouli.\n",
            "Hindi Translation: यह फिल्म एसएस राजामौली द्वारा निर्देशित है।\n",
            "Hindi Prediction: इह मिल्म कक म केज्  ल  हेवारा केर्द श त है।\n"
          ]
        },
        {
          "output_type": "stream",
          "name": "stderr",
          "text": [
            "100%|██████████| 5194/5194 [2:22:46<00:00,  1.65s/it]\n"
          ]
        },
        {
          "output_type": "stream",
          "name": "stdout",
          "text": [
            "Epoch 3\n"
          ]
        },
        {
          "output_type": "stream",
          "name": "stderr",
          "text": [
            "  0%|          | 1/5194 [00:01<1:53:01,  1.31s/it]"
          ]
        },
        {
          "output_type": "stream",
          "name": "stdout",
          "text": [
            "iteration 0 : 0.0013125250115990639\n",
            "English: mithali to anchor indian team against australia in odis\n",
            "Hindi Translation: आस्ट्रेलिया के खिलाफ वनडे टीम की कमान मिताली को\n",
            "Hindi Prediction: मम्थ्रीट या के लिलाफ मि ी क्म के साान काल्ब  की   र          रर                      क   र         र                \n"
          ]
        },
        {
          "output_type": "stream",
          "name": "stderr",
          "text": [
            "  2%|▏         | 101/5194 [02:43<2:18:42,  1.63s/it]"
          ]
        },
        {
          "output_type": "stream",
          "name": "stdout",
          "text": [
            "iteration 100 : 0.001440596068277955\n",
            "English: what does the modi government have?\n",
            "Hindi Translation: मोदी सरकार के पास क्या है विकल्प\n",
            "Hindi Prediction: केदी केकार की लास क्या है?कहका प  र   ररर र   रर  ल\n"
          ]
        },
        {
          "output_type": "stream",
          "name": "stderr",
          "text": [
            "  4%|▍         | 201/5194 [05:22<2:02:28,  1.47s/it]"
          ]
        },
        {
          "output_type": "stream",
          "name": "stdout",
          "text": [
            "iteration 200 : 0.001215820200741291\n",
            "English: the court awarded all the four life imprisonment.\n",
            "Hindi Translation: कोर्ट ने सभी को आजीवन कारावास की सजा सुनाई है.\n",
            "Hindi Prediction: पो ्ट ने कुी के सर वन की ्ता ्की ह्ा रकनाव है।\n"
          ]
        },
        {
          "output_type": "stream",
          "name": "stderr",
          "text": [
            "  6%|▌         | 301/5194 [08:07<2:18:59,  1.70s/it]"
          ]
        },
        {
          "output_type": "stream",
          "name": "stdout",
          "text": [
            "iteration 300 : 0.0015034637181088328\n",
            "English: after this, she became unconscious.\n",
            "Hindi Translation: इसके बाद वह बेसुध हो गई थी।\n",
            "Hindi Prediction: इसके बाद पा सहह काकै रय।ही।\n"
          ]
        },
        {
          "output_type": "stream",
          "name": "stderr",
          "text": [
            "  8%|▊         | 401/5194 [10:52<2:08:06,  1.60s/it]"
          ]
        },
        {
          "output_type": "stream",
          "name": "stdout",
          "text": [
            "iteration 400 : 0.0011543497676029801\n",
            "English: the contest was over before it started as the opponent backed off.\n",
            "Hindi Translation: विरोधी के हट जाने से प्रतियोगिता शुरु से पहले ही खत्म हो गई।\n",
            "Hindi Prediction: इिशोध  के सीापानक के फूरकिक   त  कुरूआके क्ले की हु्म को गय \n"
          ]
        },
        {
          "output_type": "stream",
          "name": "stderr",
          "text": [
            " 10%|▉         | 501/5194 [13:34<2:12:41,  1.70s/it]"
          ]
        },
        {
          "output_type": "stream",
          "name": "stdout",
          "text": [
            "iteration 500 : 0.001309216720983386\n",
            "English: the chromium authors\n",
            "Hindi Translation: क्रोमियम लेखक\n",
            "Hindi Prediction: सिरिटाटम को नरल      र       र    रर  रर रर ल  रररररल  र     र   \n"
          ]
        },
        {
          "output_type": "stream",
          "name": "stderr",
          "text": [
            " 12%|█▏        | 601/5194 [16:20<2:09:42,  1.69s/it]"
          ]
        },
        {
          "output_type": "stream",
          "name": "stdout",
          "text": [
            "iteration 600 : 0.0016247201710939407\n",
            "English: this article moved me deeply. i thank god so much that he does not see us the way we see ourselves.\n",
            "Hindi Translation: इस लेख ने मेरे दिल को छू लिया है ।\n",
            "Hindi Prediction: इस पिकतदे कुरे किन्कि माटकेखा जै क\n"
          ]
        },
        {
          "output_type": "stream",
          "name": "stderr",
          "text": [
            " 13%|█▎        | 701/5194 [19:03<2:06:05,  1.68s/it]"
          ]
        },
        {
          "output_type": "stream",
          "name": "stdout",
          "text": [
            "iteration 700 : 0.001659128931351006\n",
            "English: oesophagoscopy is done in oesophagitis.\n",
            "Hindi Translation: ग्रासनलीशोथ ग्रासनलीगृहा दर्शन किया गया.\n",
            "Hindi Prediction: पौराम       कुराह     त रकि्जन करया हया \n"
          ]
        },
        {
          "output_type": "stream",
          "name": "stderr",
          "text": [
            " 15%|█▌        | 801/5194 [21:48<2:12:07,  1.80s/it]"
          ]
        },
        {
          "output_type": "stream",
          "name": "stdout",
          "text": [
            "iteration 800 : 0.00153765466529876\n",
            "English: and this campaign ...\n",
            "Hindi Translation: यह अभियान .\n",
            "Hindi Prediction: औह एभियान ह\n"
          ]
        },
        {
          "output_type": "stream",
          "name": "stderr",
          "text": [
            " 17%|█▋        | 901/5194 [24:33<2:10:30,  1.82s/it]"
          ]
        },
        {
          "output_type": "stream",
          "name": "stdout",
          "text": [
            "iteration 900 : 0.0014684698544442654\n",
            "English: amitabh bachchan was also seen at the bash.\n",
            "Hindi Translation: इस दौरान अमिताभ बच्चन भी नजर आए.\n",
            "Hindi Prediction: इस मौरान कभेत भ कच्चा की हेर द  \n"
          ]
        },
        {
          "output_type": "stream",
          "name": "stderr",
          "text": [
            " 19%|█▉        | 1001/5194 [27:18<2:08:23,  1.84s/it]"
          ]
        },
        {
          "output_type": "stream",
          "name": "stdout",
          "text": [
            "iteration 1000 : 0.0012496823910623789\n",
            "English: to enter into a contract to obtain loan.\n",
            "Hindi Translation: ऋण लेने के लिए कोई करार किया जाना।\n",
            "Hindi Prediction: इण कगका का लिए का  करनर करया जाएा \n"
          ]
        },
        {
          "output_type": "stream",
          "name": "stderr",
          "text": [
            " 21%|██        | 1101/5194 [30:07<1:54:41,  1.68s/it]"
          ]
        },
        {
          "output_type": "stream",
          "name": "stdout",
          "text": [
            "iteration 1100 : 0.0013015742879360914\n",
            "English: this can be annoying.\n",
            "Hindi Translation: इससे मन व्यथित हो सकता है।\n",
            "Hindi Prediction: यसके अुाहियक तिहै गकता है।\n"
          ]
        },
        {
          "output_type": "stream",
          "name": "stderr",
          "text": [
            " 23%|██▎       | 1201/5194 [32:50<1:53:00,  1.70s/it]"
          ]
        },
        {
          "output_type": "stream",
          "name": "stdout",
          "text": [
            "iteration 1200 : 0.001258119591511786\n",
            "English: the state government has declared a day's state mourning.\n",
            "Hindi Translation: राज्य सरकार ने एक दिन का राजकीय शोक घोषित किया है।\n",
            "Hindi Prediction: साज्य करकार के कक अून का हाज्   हा  मरषणत हरया गै।\n"
          ]
        },
        {
          "output_type": "stream",
          "name": "stderr",
          "text": [
            " 25%|██▌       | 1301/5194 [35:34<1:45:06,  1.62s/it]"
          ]
        },
        {
          "output_type": "stream",
          "name": "stdout",
          "text": [
            "iteration 1300 : 0.0015239971689879894\n",
            "English: definition of village electrification\n",
            "Hindi Translation: ग्रामीण विद्युतीकरण की परिभाषा\n",
            "Hindi Prediction: कुराम ण किजेयात्याण का स्ाषारा\n"
          ]
        },
        {
          "output_type": "stream",
          "name": "stderr",
          "text": [
            " 27%|██▋       | 1401/5194 [38:15<1:32:43,  1.47s/it]"
          ]
        },
        {
          "output_type": "stream",
          "name": "stdout",
          "text": [
            "iteration 1400 : 0.001196937751956284\n",
            "English: health horoscope 2020\n",
            "Hindi Translation: वृषभ राशिफल 2020\n",
            "Hindi Prediction: हिषिा2ाषितल 2020\n"
          ]
        },
        {
          "output_type": "stream",
          "name": "stderr",
          "text": [
            " 29%|██▉       | 1501/5194 [40:57<1:51:40,  1.81s/it]"
          ]
        },
        {
          "output_type": "stream",
          "name": "stdout",
          "text": [
            "iteration 1500 : 0.0014736921293660998\n",
            "English: integrated family welfare, immunisation and mch programme and other national health programme etc.\n",
            "Hindi Translation: एकीकृत परिवार कल्याण, प्रतिरक्षण तथा एम सी एच कार्यक्रम और अन्य राष्ट्रीय स्वास्थ्य कार्यक्रम आदि।\n",
            "Hindi Prediction: इक न त करिवार को प ण  मररति   ष  करा ककएमेमककआकाई्य ्रम कर सपुय साज्ट्र य केथास्थ य के ्य ्रि कये \n"
          ]
        },
        {
          "output_type": "stream",
          "name": "stderr",
          "text": [
            " 31%|███       | 1601/5194 [43:41<1:44:03,  1.74s/it]"
          ]
        },
        {
          "output_type": "stream",
          "name": "stdout",
          "text": [
            "iteration 1600 : 0.001444463967345655\n",
            "English: the thar express has been running between jodhpur and karachi every saturday morning since services resumed on february 18, 2006, after a 41-year suspension.\n",
            "Hindi Translation: 2006 से चल रही है यह ट्रेन थार एक्सप्रेस 18 फरवरी 2006 से जोधपुर के भगत की कोठी स्टेशन से कराची के बीच हर शुक्रवार रात को चलती है।\n",
            "Hindi Prediction: इ01  के कुेकाा कै का ककरैन के ाकक ट ारतस क1 कीवरी क011 के अा ाार क् सावाकि जो   रेटिटन के पेी ि ही लीच कैाकुर्षीार्कहज की दुाी है।\n"
          ]
        },
        {
          "output_type": "stream",
          "name": "stderr",
          "text": [
            " 33%|███▎      | 1701/5194 [46:28<1:31:58,  1.58s/it]"
          ]
        },
        {
          "output_type": "stream",
          "name": "stdout",
          "text": [
            "iteration 1700 : 0.0012579929316416383\n",
            "English: dm& rd\n",
            "Hindi Translation: डीएम और आरडी\n",
            "Hindi Prediction: डीएम मर मर्\n"
          ]
        },
        {
          "output_type": "stream",
          "name": "stderr",
          "text": [
            " 35%|███▍      | 1801/5194 [49:14<1:28:06,  1.56s/it]"
          ]
        },
        {
          "output_type": "stream",
          "name": "stdout",
          "text": [
            "iteration 1800 : 0.0014920581597834826\n",
            "English: the value of a diamond is based on the 4 cs: cut, colour, clarity and carat.\n",
            "Hindi Translation: हीरे का आकलन हीरे के 4 सी (कट, कलर, क्लेरिटी, करेट) से की जाती है।\n",
            "Hindi Prediction: इम   से आयान कै ा के ल जामकएिा से ी सेरिखिय   सेीग  के का जा ी है।\n"
          ]
        },
        {
          "output_type": "stream",
          "name": "stderr",
          "text": [
            " 37%|███▋      | 1901/5194 [52:00<1:28:24,  1.61s/it]"
          ]
        },
        {
          "output_type": "stream",
          "name": "stdout",
          "text": [
            "iteration 1900 : 0.0012157394085079432\n",
            "English: the situation is much better now.\n",
            "Hindi Translation: अब इस सिस्टम को काफी आसान बना दिया गया है।\n",
            "Hindi Prediction: इभ ससकपमराटम का बिफी सरान हन  हेया गया है।\n"
          ]
        },
        {
          "output_type": "stream",
          "name": "stderr",
          "text": [
            " 39%|███▊      | 2001/5194 [54:44<1:28:05,  1.66s/it]"
          ]
        },
        {
          "output_type": "stream",
          "name": "stdout",
          "text": [
            "iteration 2000 : 0.0015672578010708094\n",
            "English: the police have sent the body of the woman for a postmortem.\n",
            "Hindi Translation: पुलिस ने अज्ञात महिला के शव को पोस्टमार्टम के लिए भेजा है।\n",
            "Hindi Prediction: पुलिस ने मप्ञात कहिला के लव को पोस्टमार्टम के लिए हेजा दो।\n"
          ]
        },
        {
          "output_type": "stream",
          "name": "stderr",
          "text": [
            " 40%|████      | 2101/5194 [57:31<1:19:42,  1.55s/it]"
          ]
        },
        {
          "output_type": "stream",
          "name": "stdout",
          "text": [
            "iteration 2100 : 0.0013797363499179482\n",
            "English: this is done to save the reputation of the much-maligned police force.\n",
            "Hindi Translation: यह बहुत अधिक दुर्भावनापूर्ण पुलिस बल की प्रतिष्ठा को बचाने के लिए किया जाता है।\n",
            "Hindi Prediction: यह वाुआ हनिकाकेन्घाव   ुर्व करलिस कह्ह् ज्रकि ्ट  हर सना े की लिए बिया जा ा है।\n"
          ]
        },
        {
          "output_type": "stream",
          "name": "stderr",
          "text": [
            " 42%|████▏     | 2201/5194 [1:00:12<1:21:26,  1.63s/it]"
          ]
        },
        {
          "output_type": "stream",
          "name": "stdout",
          "text": [
            "iteration 2200 : 0.0013881225604563951\n",
            "English: india just a wicket away from victory.\n",
            "Hindi Translation: भारतीय टीम जीत से महज एक विकेट दूर है.\n",
            "Hindi Prediction: भारत य कीम कात के भुत सक पिकाट हिर है।\n"
          ]
        },
        {
          "output_type": "stream",
          "name": "stderr",
          "text": [
            " 44%|████▍     | 2301/5194 [1:03:00<1:25:23,  1.77s/it]"
          ]
        },
        {
          "output_type": "stream",
          "name": "stdout",
          "text": [
            "iteration 2300 : 0.0014276908477768302\n",
            "English: this is very good news for north korea and the world -- big progress!\n",
            "Hindi Translation: ये उत्तर कोरिया और पूरे विश्व के लिए बहुत अच्छी खबर है.\n",
            "Hindi Prediction: यह कसनतम के ्या कर क्र् काक्वाके लिए कहुत कच्छा कब  कै।\n"
          ]
        },
        {
          "output_type": "stream",
          "name": "stderr",
          "text": [
            " 46%|████▌     | 2401/5194 [1:05:45<1:20:16,  1.72s/it]"
          ]
        },
        {
          "output_type": "stream",
          "name": "stdout",
          "text": [
            "iteration 2400 : 0.0012745022540912032\n",
            "English: as a result, he died on the spot.\n",
            "Hindi Translation: जिससे घटनास्थल पर उसकी मौत हो गई।\n",
            "Hindi Prediction: इिसके करना ्टल कर कसेी हौत हो गय।\n"
          ]
        },
        {
          "output_type": "stream",
          "name": "stderr",
          "text": [
            " 48%|████▊     | 2501/5194 [1:08:31<1:17:04,  1.72s/it]"
          ]
        },
        {
          "output_type": "stream",
          "name": "stdout",
          "text": [
            "iteration 2500 : 0.0013819800224155188\n",
            "English: 'peace be upon moses and aaron'\n",
            "Hindi Translation: \"कि \"\"सलाम है मूसा और हारून पर!\"\"\"\n",
            "Hindi Prediction: पपो पप\"ामम को कुला कर पमराप कर \n"
          ]
        },
        {
          "output_type": "stream",
          "name": "stderr",
          "text": [
            " 50%|█████     | 2601/5194 [1:11:15<1:10:36,  1.63s/it]"
          ]
        },
        {
          "output_type": "stream",
          "name": "stdout",
          "text": [
            "iteration 2600 : 0.0015037443954497576\n",
            "English: what can we say?\n",
            "Hindi Translation: वह कह भी क्या सकती है?\n",
            "Hindi Prediction: कह क्तकी ह्या हाता है?\n"
          ]
        },
        {
          "output_type": "stream",
          "name": "stderr",
          "text": [
            " 52%|█████▏    | 2701/5194 [1:14:02<1:10:39,  1.70s/it]"
          ]
        },
        {
          "output_type": "stream",
          "name": "stdout",
          "text": [
            "iteration 2700 : 0.001278004958294332\n",
            "English: eu-russia relations\n",
            "Hindi Translation: यूरोप और रूस कनेक्शन\n",
            "Hindi Prediction: पूनोप\n"
          ]
        },
        {
          "output_type": "stream",
          "name": "stderr",
          "text": [
            " 54%|█████▍    | 2801/5194 [1:16:44<1:08:56,  1.73s/it]"
          ]
        },
        {
          "output_type": "stream",
          "name": "stdout",
          "text": [
            "iteration 2800 : 0.0012401692802086473\n",
            "English: the film is written and directed by prawaal raman.\n",
            "Hindi Translation: फिल्म का निर्देशन प्रबल रमन ने किया है।\n",
            "Hindi Prediction: फिल्म की नार्देशन कररदर काीेके किया गै।\n"
          ]
        },
        {
          "output_type": "stream",
          "name": "stderr",
          "text": [
            " 56%|█████▌    | 2901/5194 [1:19:30<1:07:38,  1.77s/it]"
          ]
        },
        {
          "output_type": "stream",
          "name": "stdout",
          "text": [
            "iteration 2900 : 0.0012727221474051476\n",
            "English: clear instructions have been given to the dm of every district in this regard.\n",
            "Hindi Translation: इस बाबत सीएम के आदेश की सूचना प्रत्येक जिला को दे दी गई है.\n",
            "Hindi Prediction: सस पाति केटस के बरेश के करचना कररभिय क कासाफहे देखदी हई है।\n"
          ]
        },
        {
          "output_type": "stream",
          "name": "stderr",
          "text": [
            " 58%|█████▊    | 3001/5194 [1:22:13<53:37,  1.47s/it]"
          ]
        },
        {
          "output_type": "stream",
          "name": "stdout",
          "text": [
            "iteration 3000 : 0.0012575575383380055\n",
            "English: the function was inaugurated by chief guest rajpur mla rajkumar.\n",
            "Hindi Translation: इसका उदघाटन आज महापौर राजबाला मलिक ने किया ।\n",
            "Hindi Prediction: कस े कप्ाटन कन काानार काज्ा   का्क के काया ग\n"
          ]
        },
        {
          "output_type": "stream",
          "name": "stderr",
          "text": [
            " 60%|█████▉    | 3101/5194 [1:24:58<54:37,  1.57s/it]"
          ]
        },
        {
          "output_type": "stream",
          "name": "stdout",
          "text": [
            "iteration 3100 : 0.0013850328978151083\n",
            "English: thatd be great.\n",
            "Hindi Translation: यह बेहतरीन होगी।\n",
            "Hindi Prediction: बह काहतर   है ी।\n"
          ]
        },
        {
          "output_type": "stream",
          "name": "stderr",
          "text": [
            " 62%|██████▏   | 3201/5194 [1:27:45<53:50,  1.62s/it]"
          ]
        },
        {
          "output_type": "stream",
          "name": "stdout",
          "text": [
            "iteration 3200 : 0.0015896570403128862\n",
            "English: congratulations to both of them.\n",
            "Hindi Translation: इन सभी को बधाई।\n",
            "Hindi Prediction: ससककबी का कााई \n"
          ]
        },
        {
          "output_type": "stream",
          "name": "stderr",
          "text": [
            " 64%|██████▎   | 3301/5194 [1:30:29<49:33,  1.57s/it]"
          ]
        },
        {
          "output_type": "stream",
          "name": "stdout",
          "text": [
            "iteration 3300 : 0.0015621748752892017\n",
            "English: the hearing of ayodhya matter has been delayed further.\n",
            "Hindi Translation: अयोध्या मामले की सुनवाई एक बार फिर टल गई है।\n",
            "Hindi Prediction: सग्धाया केलले के सुनवाई कक सेह हरर हे हय है।\n"
          ]
        },
        {
          "output_type": "stream",
          "name": "stderr",
          "text": [
            " 65%|██████▌   | 3401/5194 [1:33:15<46:34,  1.56s/it]"
          ]
        },
        {
          "output_type": "stream",
          "name": "stdout",
          "text": [
            "iteration 3400 : 0.001429802505299449\n",
            "English: revising history\n",
            "Hindi Translation: इतिहास की समीक्षा\n",
            "Hindi Prediction: रसिहास का ज्ाह्षण\n"
          ]
        },
        {
          "output_type": "stream",
          "name": "stderr",
          "text": [
            " 67%|██████▋   | 3501/5194 [1:36:04<44:14,  1.57s/it]"
          ]
        },
        {
          "output_type": "stream",
          "name": "stdout",
          "text": [
            "iteration 3500 : 0.0011682254262268543\n",
            "English: thank you all for your support!\n",
            "Hindi Translation: आप सबके समर्थन के लिए शुक्रिया।\n",
            "Hindi Prediction: कपककेकु ला््थन के लिए काक्रिया \n"
          ]
        },
        {
          "output_type": "stream",
          "name": "stderr",
          "text": [
            " 69%|██████▉   | 3601/5194 [1:38:49<41:54,  1.58s/it]"
          ]
        },
        {
          "output_type": "stream",
          "name": "stdout",
          "text": [
            "iteration 3600 : 0.0014340615598484874\n",
            "English: where in city.\n",
            "Hindi Translation: और खुद शहर के नीचे?\n",
            "Hindi Prediction: हर हुद हुी हर लिच  \n"
          ]
        },
        {
          "output_type": "stream",
          "name": "stderr",
          "text": [
            " 71%|███████▏  | 3701/5194 [1:41:36<45:28,  1.83s/it]"
          ]
        },
        {
          "output_type": "stream",
          "name": "stdout",
          "text": [
            "iteration 3700 : 0.0013101819204166532\n",
            "English: he committed suicide because he was upset about this.\n",
            "Hindi Translation: इसी से परेशान होकर उसने खुदकुशी कर ली थी।\n",
            "Hindi Prediction: उस  मे मह श न कोनर दसेे काल रशी की दि गी।\n"
          ]
        },
        {
          "output_type": "stream",
          "name": "stderr",
          "text": [
            " 73%|███████▎  | 3801/5194 [1:44:22<42:50,  1.85s/it]"
          ]
        },
        {
          "output_type": "stream",
          "name": "stdout",
          "text": [
            "iteration 3800 : 0.0011651476379483938\n",
            "English: yahweh said to me, don't pray for this people for their good.\n",
            "Hindi Translation: फिर यहोवा ने मुझ से कहा, इस प्रजा की भलाई के लिये प्रार्थना मत कर।\n",
            "Hindi Prediction: \"िल कह वा के कुझेपे पहा, तस प्राा कर कीा  हर लिएा हरराप्थ   हिलकरत\n"
          ]
        },
        {
          "output_type": "stream",
          "name": "stderr",
          "text": [
            " 75%|███████▌  | 3901/5194 [1:47:07<37:01,  1.72s/it]"
          ]
        },
        {
          "output_type": "stream",
          "name": "stdout",
          "text": [
            "iteration 3900 : 0.0014432873576879501\n",
            "English: very negatively.\n",
            "Hindi Translation: यह बहुत नकारात्मक है।\n",
            "Hindi Prediction: सह सहुत हाीरीत्मक है।\n"
          ]
        },
        {
          "output_type": "stream",
          "name": "stderr",
          "text": [
            " 77%|███████▋  | 4001/5194 [1:49:49<31:01,  1.56s/it]"
          ]
        },
        {
          "output_type": "stream",
          "name": "stdout",
          "text": [
            "iteration 4000 : 0.0014820994110777974\n",
            "English: it is a government order.\n",
            "Hindi Translation: यह है सरकारी आदेश\n",
            "Hindi Prediction: यह सम करकार  क रश                                  \n"
          ]
        },
        {
          "output_type": "stream",
          "name": "stderr",
          "text": [
            " 79%|███████▉  | 4101/5194 [1:52:35<29:16,  1.61s/it]"
          ]
        },
        {
          "output_type": "stream",
          "name": "stdout",
          "text": [
            "iteration 4100 : 0.0013741001021116972\n",
            "English: the videography was done by the pmo cameraman\n",
            "Hindi Translation: पीएमओ के वीडियोग्राफर ने किया शूट\n",
            "Hindi Prediction: इहएम  के सिडियो  राफि हे किया गा             \n"
          ]
        },
        {
          "output_type": "stream",
          "name": "stderr",
          "text": [
            " 81%|████████  | 4201/5194 [1:55:21<26:23,  1.59s/it]"
          ]
        },
        {
          "output_type": "stream",
          "name": "stdout",
          "text": [
            "iteration 4200 : 0.0011777470353990793\n",
            "English: the accused took her to jammu.\n",
            "Hindi Translation: इसके बाद आरोपी उसे जम्मू ले आया।\n",
            "Hindi Prediction: सस े लाद करोपी कसक माकमी कग कएा।\n"
          ]
        },
        {
          "output_type": "stream",
          "name": "stderr",
          "text": [
            " 83%|████████▎ | 4301/5194 [1:58:06<23:51,  1.60s/it]"
          ]
        },
        {
          "output_type": "stream",
          "name": "stdout",
          "text": [
            "iteration 4300 : 0.0016373832477256656\n",
            "English: she takes a temporary leave of absence from work.\n",
            "Hindi Translation: यह क्षतिपूर्ति के भुगतान की अनुमति के बिना है।\n",
            "Hindi Prediction: वह सारेि ूर्णि के लीगतान के हधुसाि का लाला हो।\n"
          ]
        },
        {
          "output_type": "stream",
          "name": "stderr",
          "text": [
            " 85%|████████▍ | 4401/5194 [2:00:57<24:02,  1.82s/it]"
          ]
        },
        {
          "output_type": "stream",
          "name": "stdout",
          "text": [
            "iteration 4400 : 0.0016942496877163649\n",
            "English: is this defection?\n",
            "Hindi Translation: क्या यह कोई प्रिविलेज है?\n",
            "Hindi Prediction: क्या यह स्ई क्रकयाश ?ीकै?\n"
          ]
        },
        {
          "output_type": "stream",
          "name": "stderr",
          "text": [
            " 87%|████████▋ | 4501/5194 [2:03:40<20:37,  1.79s/it]"
          ]
        },
        {
          "output_type": "stream",
          "name": "stdout",
          "text": [
            "iteration 4500 : 0.001163064269348979\n",
            "English: leakage of income\n",
            "Hindi Translation: आय रिसाव\n",
            "Hindi Prediction: सरोसोपकल                                                \n"
          ]
        },
        {
          "output_type": "stream",
          "name": "stderr",
          "text": [
            " 89%|████████▊ | 4601/5194 [2:06:26<15:17,  1.55s/it]"
          ]
        },
        {
          "output_type": "stream",
          "name": "stdout",
          "text": [
            "iteration 4600 : 0.0014767844695597887\n",
            "English: experts answer\n",
            "Hindi Translation: एक्सपर्ट्स ने बताए जवाब\n",
            "Hindi Prediction: सक सप् ट र के काायगहााब\n"
          ]
        },
        {
          "output_type": "stream",
          "name": "stderr",
          "text": [
            " 91%|█████████ | 4701/5194 [2:09:14<14:33,  1.77s/it]"
          ]
        },
        {
          "output_type": "stream",
          "name": "stdout",
          "text": [
            "iteration 4700 : 0.0012192463036626577\n",
            "English: first, she made a list of all the things she needed to study.\n",
            "Hindi Translation: सबसे पहले तो उसने जो स्टडी करना था उसकी पूरी लिस्ट बनाई ।\n",
            "Hindi Prediction: इा े कहले को यसेे का ककवे  केने का कसके क्रा कगय्स कना  ह\n"
          ]
        },
        {
          "output_type": "stream",
          "name": "stderr",
          "text": [
            " 92%|█████████▏| 4801/5194 [2:12:01<12:38,  1.93s/it]"
          ]
        },
        {
          "output_type": "stream",
          "name": "stdout",
          "text": [
            "iteration 4800 : 0.0012898308923467994\n",
            "English: it was a beautiful movie!\n",
            "Hindi Translation: फिल्म सुपरहिट रही।\n",
            "Hindi Prediction: यिल्म केन् रत कहा \n"
          ]
        },
        {
          "output_type": "stream",
          "name": "stderr",
          "text": [
            " 94%|█████████▍| 4901/5194 [2:14:48<08:31,  1.75s/it]"
          ]
        },
        {
          "output_type": "stream",
          "name": "stdout",
          "text": [
            "iteration 4900 : 0.0015962154138833284\n",
            "English: china gate\n",
            "Hindi Translation: चाइना गेट\n",
            "Hindi Prediction: चलहक  कयल्                                       र     र        \n"
          ]
        },
        {
          "output_type": "stream",
          "name": "stderr",
          "text": [
            " 96%|█████████▋| 5001/5194 [2:17:35<05:38,  1.75s/it]"
          ]
        },
        {
          "output_type": "stream",
          "name": "stdout",
          "text": [
            "iteration 5000 : 0.0012643398949876428\n",
            "English: new york, october 11\n",
            "Hindi Translation: कालका, 11 अक्तूबर (निस)\n",
            "Hindi Prediction: नररताल 1  अक्तूबर (निस)\n"
          ]
        },
        {
          "output_type": "stream",
          "name": "stderr",
          "text": [
            " 98%|█████████▊| 5101/5194 [2:20:20<02:46,  1.79s/it]"
          ]
        },
        {
          "output_type": "stream",
          "name": "stdout",
          "text": [
            "iteration 5100 : 0.0013398559531196952\n",
            "English: the movie is directed by ss rajamouli.\n",
            "Hindi Translation: यह फिल्म एसएस राजामौली द्वारा निर्देशित है।\n",
            "Hindi Prediction: इह फिल्म कक मएमाजी  ल  हेवारा हेर्देश त हो।\n"
          ]
        },
        {
          "output_type": "stream",
          "name": "stderr",
          "text": [
            "100%|██████████| 5194/5194 [2:22:54<00:00,  1.65s/it]\n"
          ]
        },
        {
          "output_type": "stream",
          "name": "stdout",
          "text": [
            "Epoch 4\n"
          ]
        },
        {
          "output_type": "stream",
          "name": "stderr",
          "text": [
            "  0%|          | 1/5194 [00:01<2:09:04,  1.49s/it]"
          ]
        },
        {
          "output_type": "stream",
          "name": "stdout",
          "text": [
            "iteration 0 : 0.0012733308831229806\n",
            "English: mithali to anchor indian team against australia in odis\n",
            "Hindi Translation: आस्ट्रेलिया के खिलाफ वनडे टीम की कमान मिताली को\n",
            "Hindi Prediction: मई्टिरीलिया ना लिलाफ किडिटकीम के हाील काल्   ही \n"
          ]
        },
        {
          "output_type": "stream",
          "name": "stderr",
          "text": [
            "  2%|▏         | 101/5194 [02:43<2:22:19,  1.68s/it]"
          ]
        },
        {
          "output_type": "stream",
          "name": "stdout",
          "text": [
            "iteration 100 : 0.0013826030772179365\n",
            "English: what does the modi government have?\n",
            "Hindi Translation: मोदी सरकार के पास क्या है विकल्प\n",
            "Hindi Prediction: कुदी करकार की ल्स करया है?कहवा्प    र   र   ररर र   र    \n"
          ]
        },
        {
          "output_type": "stream",
          "name": "stderr",
          "text": [
            "  4%|▍         | 201/5194 [05:25<2:14:21,  1.61s/it]"
          ]
        },
        {
          "output_type": "stream",
          "name": "stdout",
          "text": [
            "iteration 200 : 0.0011899868259206414\n",
            "English: the court awarded all the four life imprisonment.\n",
            "Hindi Translation: कोर्ट ने सभी को आजीवन कारावास की सजा सुनाई है.\n",
            "Hindi Prediction: इार्ट ने केी के सरा ा को ्ता  के ज्् सकवान जै।\n"
          ]
        },
        {
          "output_type": "stream",
          "name": "stderr",
          "text": [
            "  6%|▌         | 301/5194 [08:11<2:10:17,  1.60s/it]"
          ]
        },
        {
          "output_type": "stream",
          "name": "stdout",
          "text": [
            "iteration 300 : 0.0014479634119197726\n",
            "English: after this, she became unconscious.\n",
            "Hindi Translation: इसके बाद वह बेसुध हो गई थी।\n",
            "Hindi Prediction: इसके बाद उह अाह्  कैतगय ही।\n"
          ]
        },
        {
          "output_type": "stream",
          "name": "stderr",
          "text": [
            "  8%|▊         | 401/5194 [10:56<2:16:06,  1.70s/it]"
          ]
        },
        {
          "output_type": "stream",
          "name": "stdout",
          "text": [
            "iteration 400 : 0.0011281885672360659\n",
            "English: the contest was over before it started as the opponent backed off.\n",
            "Hindi Translation: विरोधी के हट जाने से प्रतियोगिता शुरु से पहले ही खत्म हो गई।\n",
            "Hindi Prediction: इिशोध  के बिासाने के फ्रकिको  क  कुरूआके हूले की हा्म को गय।\n"
          ]
        },
        {
          "output_type": "stream",
          "name": "stderr",
          "text": [
            " 10%|▉         | 501/5194 [13:34<2:00:12,  1.54s/it]"
          ]
        },
        {
          "output_type": "stream",
          "name": "stdout",
          "text": [
            "iteration 500 : 0.0012714640470221639\n",
            "English: the chromium authors\n",
            "Hindi Translation: क्रोमियम लेखक\n",
            "Hindi Prediction: सोयिटिटा कौनन                       र                                                                                                     \n"
          ]
        },
        {
          "output_type": "stream",
          "name": "stderr",
          "text": [
            " 12%|█▏        | 601/5194 [16:20<1:58:12,  1.54s/it]"
          ]
        },
        {
          "output_type": "stream",
          "name": "stdout",
          "text": [
            "iteration 600 : 0.0015630910638719797\n",
            "English: this article moved me deeply. i thank god so much that he does not see us the way we see ourselves.\n",
            "Hindi Translation: इस लेख ने मेरे दिल को छू लिया है ।\n",
            "Hindi Prediction: इस सिकतके कुरा पेन्को दाटकगखा जै क\n"
          ]
        },
        {
          "output_type": "stream",
          "name": "stderr",
          "text": [
            " 13%|█▎        | 701/5194 [19:04<1:56:17,  1.55s/it]"
          ]
        },
        {
          "output_type": "stream",
          "name": "stdout",
          "text": [
            "iteration 700 : 0.0016145564150065184\n",
            "English: oesophagoscopy is done in oesophagitis.\n",
            "Hindi Translation: ग्रासनलीशोथ ग्रासनलीगृहा दर्शन किया गया.\n",
            "Hindi Prediction: सोराह     रिकोराह     त रकि्जा करया जया \n"
          ]
        },
        {
          "output_type": "stream",
          "name": "stderr",
          "text": [
            " 15%|█▌        | 801/5194 [21:50<1:56:48,  1.60s/it]"
          ]
        },
        {
          "output_type": "stream",
          "name": "stdout",
          "text": [
            "iteration 800 : 0.0014818713534623384\n",
            "English: and this campaign ...\n",
            "Hindi Translation: यह अभियान .\n",
            "Hindi Prediction: औह एनियान क\n"
          ]
        },
        {
          "output_type": "stream",
          "name": "stderr",
          "text": [
            " 17%|█▋        | 901/5194 [24:35<1:46:53,  1.49s/it]"
          ]
        },
        {
          "output_type": "stream",
          "name": "stdout",
          "text": [
            "iteration 900 : 0.0013992170570418239\n",
            "English: amitabh bachchan was also seen at the bash.\n",
            "Hindi Translation: इस दौरान अमिताभ बच्चन भी नजर आए.\n",
            "Hindi Prediction: अस बौरान कभेत भ कच्चा की बेर क ।\n"
          ]
        },
        {
          "output_type": "stream",
          "name": "stderr",
          "text": [
            " 19%|█▉        | 1001/5194 [27:18<2:01:26,  1.74s/it]"
          ]
        },
        {
          "output_type": "stream",
          "name": "stdout",
          "text": [
            "iteration 1000 : 0.0011921778786927462\n",
            "English: to enter into a contract to obtain loan.\n",
            "Hindi Translation: ऋण लेने के लिए कोई करार किया जाना।\n",
            "Hindi Prediction: सण्कगखे की लिए का  कोनन्करया जा ा \n"
          ]
        },
        {
          "output_type": "stream",
          "name": "stderr",
          "text": [
            " 21%|██        | 1101/5194 [30:02<1:56:11,  1.70s/it]"
          ]
        },
        {
          "output_type": "stream",
          "name": "stdout",
          "text": [
            "iteration 1100 : 0.0012461680453270674\n",
            "English: this can be annoying.\n",
            "Hindi Translation: इससे मन व्यथित हो सकता है।\n",
            "Hindi Prediction: यससे पााकियक्तिहैतजकता है।\n"
          ]
        },
        {
          "output_type": "stream",
          "name": "stderr",
          "text": [
            " 23%|██▎       | 1201/5194 [32:47<1:57:08,  1.76s/it]"
          ]
        },
        {
          "output_type": "stream",
          "name": "stdout",
          "text": [
            "iteration 1200 : 0.0011922366684302688\n",
            "English: the state government has declared a day's state mourning.\n",
            "Hindi Translation: राज्य सरकार ने एक दिन का राजकीय शोक घोषित किया है।\n",
            "Hindi Prediction: साज्य करकार ने कक अून से हाजनर  हा  हटषणत हरया है।\n"
          ]
        },
        {
          "output_type": "stream",
          "name": "stderr",
          "text": [
            " 25%|██▌       | 1301/5194 [35:35<1:41:45,  1.57s/it]"
          ]
        },
        {
          "output_type": "stream",
          "name": "stdout",
          "text": [
            "iteration 1300 : 0.0015145126963034272\n",
            "English: definition of village electrification\n",
            "Hindi Translation: ग्रामीण विद्युतीकरण की परिभाषा\n",
            "Hindi Prediction: सुराम   किकेयोत य ण के स्ियावि\n"
          ]
        },
        {
          "output_type": "stream",
          "name": "stderr",
          "text": [
            " 27%|██▋       | 1401/5194 [38:22<1:35:25,  1.51s/it]"
          ]
        },
        {
          "output_type": "stream",
          "name": "stdout",
          "text": [
            "iteration 1400 : 0.001136444741860032\n",
            "English: health horoscope 2020\n",
            "Hindi Translation: वृषभ राशिफल 2020\n",
            "Hindi Prediction: हिष ा2ाषि ल 202\n"
          ]
        },
        {
          "output_type": "stream",
          "name": "stderr",
          "text": [
            " 29%|██▉       | 1501/5194 [41:06<1:35:52,  1.56s/it]"
          ]
        },
        {
          "output_type": "stream",
          "name": "stdout",
          "text": [
            "iteration 1500 : 0.0014482236001640558\n",
            "English: integrated family welfare, immunisation and mch programme and other national health programme etc.\n",
            "Hindi Translation: एकीकृत परिवार कल्याण, प्रतिरक्षण तथा एम सी एच कार्यक्रम और अन्य राष्ट्रीय स्वास्थ्य कार्यक्रम आदि।\n",
            "Hindi Prediction: इक   तिकर वार को पाण  स्रमिश  ता कथा ककएमेमककयकि ्य ्रम कर कनुय कूज्ट्रपय केथीद्थ्य का ्य ्रम कयेत\n"
          ]
        },
        {
          "output_type": "stream",
          "name": "stderr",
          "text": [
            " 31%|███       | 1601/5194 [43:49<1:35:51,  1.60s/it]"
          ]
        },
        {
          "output_type": "stream",
          "name": "stdout",
          "text": [
            "iteration 1600 : 0.0013884329237043858\n",
            "English: the thar express has been running between jodhpur and karachi every saturday morning since services resumed on february 18, 2006, after a 41-year suspension.\n",
            "Hindi Translation: 2006 से चल रही है यह ट्रेन थार एक्सप्रेस 18 फरवरी 2006 से जोधपुर के भगत की कोठी स्टेशन से कराची के बीच हर शुक्रवार रात को चलती है।\n",
            "Hindi Prediction: इ01  के पातराा है औा कारैन केनिकक स ारीस क0 सीवरी क011 के ह् नार के लावाकी ही   सेटेशन के के रा की सीज कु सुर्तीाराकहज हर कुाा है।\n"
          ]
        },
        {
          "output_type": "stream",
          "name": "stderr",
          "text": [
            " 33%|███▎      | 1701/5194 [46:36<1:29:39,  1.54s/it]"
          ]
        },
        {
          "output_type": "stream",
          "name": "stdout",
          "text": [
            "iteration 1700 : 0.0012039956636726856\n",
            "English: dm& rd\n",
            "Hindi Translation: डीएम और आरडी\n",
            "Hindi Prediction: डीए  मर डर्\n"
          ]
        },
        {
          "output_type": "stream",
          "name": "stderr",
          "text": [
            " 35%|███▍      | 1801/5194 [49:23<1:32:12,  1.63s/it]"
          ]
        },
        {
          "output_type": "stream",
          "name": "stdout",
          "text": [
            "iteration 1800 : 0.001435935846529901\n",
            "English: the value of a diamond is based on the 4 cs: cut, colour, clarity and carat.\n",
            "Hindi Translation: हीरे का आकलन हीरे के 4 सी (कट, कलर, क्लेरिटी, करेट) से की जाती है।\n",
            "Hindi Prediction: इा ो दीमकधरन को ो सा ल फाबक4ेी से्ो एेषिखिटी  एे्ल  के 4ममजाती है।\n"
          ]
        },
        {
          "output_type": "stream",
          "name": "stderr",
          "text": [
            " 37%|███▋      | 1901/5194 [52:09<1:41:06,  1.84s/it]"
          ]
        },
        {
          "output_type": "stream",
          "name": "stdout",
          "text": [
            "iteration 1900 : 0.001182082574814558\n",
            "English: the situation is much better now.\n",
            "Hindi Translation: अब इस सिस्टम को काफी आसान बना दिया गया है।\n",
            "Hindi Prediction: सब यसेपमरेटमाकी साफी करान हनाएहेया गया है।\n"
          ]
        },
        {
          "output_type": "stream",
          "name": "stderr",
          "text": [
            " 39%|███▊      | 2001/5194 [54:56<1:31:46,  1.72s/it]"
          ]
        },
        {
          "output_type": "stream",
          "name": "stdout",
          "text": [
            "iteration 2000 : 0.0015100182499736547\n",
            "English: the police have sent the body of the woman for a postmortem.\n",
            "Hindi Translation: पुलिस ने अज्ञात महिला के शव को पोस्टमार्टम के लिए भेजा है।\n",
            "Hindi Prediction: पुलिस ने मप्ञात कहिला को लव को पोस्टमार्टम के लिए भेज  गो।\n"
          ]
        },
        {
          "output_type": "stream",
          "name": "stderr",
          "text": [
            " 40%|████      | 2101/5194 [57:35<1:22:11,  1.59s/it]"
          ]
        },
        {
          "output_type": "stream",
          "name": "stdout",
          "text": [
            "iteration 2100 : 0.0013623358681797981\n",
            "English: this is done to save the reputation of the much-maligned police force.\n",
            "Hindi Translation: यह बहुत अधिक दुर्भावनापूर्ण पुलिस बल की प्रतिष्ठा को बचाने के लिए किया जाता है।\n",
            "Hindi Prediction: यह काुत कधिकासिन्घरविा तर्ण करलिस कह रर ज्रकि ्ठ  कर भा् ा का लिए भासा जाएा है।\n"
          ]
        },
        {
          "output_type": "stream",
          "name": "stderr",
          "text": [
            " 42%|████▏     | 2201/5194 [1:00:19<1:23:25,  1.67s/it]"
          ]
        },
        {
          "output_type": "stream",
          "name": "stdout",
          "text": [
            "iteration 2200 : 0.0013502718647941947\n",
            "English: india just a wicket away from victory.\n",
            "Hindi Translation: भारतीय टीम जीत से महज एक विकेट दूर है.\n",
            "Hindi Prediction: भारत य स्म कोतनके बुािसक सिकेट हिर है।\n"
          ]
        },
        {
          "output_type": "stream",
          "name": "stderr",
          "text": [
            " 44%|████▍     | 2301/5194 [1:03:03<1:24:06,  1.74s/it]"
          ]
        },
        {
          "output_type": "stream",
          "name": "stdout",
          "text": [
            "iteration 2300 : 0.0013558344217017293\n",
            "English: this is very good news for north korea and the world -- big progress!\n",
            "Hindi Translation: ये उत्तर कोरिया और पूरे विश्व के लिए बहुत अच्छी खबर है.\n",
            "Hindi Prediction: यह कप्तर को ोये कर क्ज् साक्वाका लिए कहुत कच्छा कार है!\n"
          ]
        },
        {
          "output_type": "stream",
          "name": "stderr",
          "text": [
            " 46%|████▌     | 2401/5194 [1:05:47<1:23:29,  1.79s/it]"
          ]
        },
        {
          "output_type": "stream",
          "name": "stdout",
          "text": [
            "iteration 2400 : 0.0012314897030591965\n",
            "English: as a result, he died on the spot.\n",
            "Hindi Translation: जिससे घटनास्थल पर उसकी मौत हो गई।\n",
            "Hindi Prediction: इिसके करना  तल कर लसेे मौत हो गय।\n"
          ]
        },
        {
          "output_type": "stream",
          "name": "stderr",
          "text": [
            " 48%|████▊     | 2501/5194 [1:08:29<1:07:49,  1.51s/it]"
          ]
        },
        {
          "output_type": "stream",
          "name": "stdout",
          "text": [
            "iteration 2500 : 0.0013172802282497287\n",
            "English: 'peace be upon moses and aaron'\n",
            "Hindi Translation: \"कि \"\"सलाम है मूसा और हारून पर!\"\"\"\n",
            "Hindi Prediction: प\"पसप\"\"ुमम को किलू कर सारार कर \n"
          ]
        },
        {
          "output_type": "stream",
          "name": "stderr",
          "text": [
            " 50%|█████     | 2601/5194 [1:11:12<1:05:22,  1.51s/it]"
          ]
        },
        {
          "output_type": "stream",
          "name": "stdout",
          "text": [
            "iteration 2600 : 0.0014476798241958022\n",
            "English: what can we say?\n",
            "Hindi Translation: वह कह भी क्या सकती है?\n",
            "Hindi Prediction: कह क् की क्या हाता है?\n"
          ]
        },
        {
          "output_type": "stream",
          "name": "stderr",
          "text": [
            " 52%|█████▏    | 2701/5194 [1:13:53<1:03:16,  1.52s/it]"
          ]
        },
        {
          "output_type": "stream",
          "name": "stdout",
          "text": [
            "iteration 2700 : 0.0012348013697192073\n",
            "English: eu-russia relations\n",
            "Hindi Translation: यूरोप और रूस कनेक्शन\n",
            "Hindi Prediction: सहरोप कर सापाकेे ्सन\n"
          ]
        },
        {
          "output_type": "stream",
          "name": "stderr",
          "text": [
            " 54%|█████▍    | 2801/5194 [1:16:40<1:11:01,  1.78s/it]"
          ]
        },
        {
          "output_type": "stream",
          "name": "stdout",
          "text": [
            "iteration 2800 : 0.0012062139576300979\n",
            "English: the film is written and directed by prawaal raman.\n",
            "Hindi Translation: फिल्म का निर्देशन प्रबल रमन ने किया है।\n",
            "Hindi Prediction: फिल्म का निर्देश  कररदर्कि्ाके कहया गै।\n"
          ]
        },
        {
          "output_type": "stream",
          "name": "stderr",
          "text": [
            " 56%|█████▌    | 2901/5194 [1:19:28<1:06:30,  1.74s/it]"
          ]
        },
        {
          "output_type": "stream",
          "name": "stdout",
          "text": [
            "iteration 2900 : 0.0012047626078128815\n",
            "English: clear instructions have been given to the dm of every district in this regard.\n",
            "Hindi Translation: इस बाबत सीएम के आदेश की सूचना प्रत्येक जिला को दे दी गई है.\n",
            "Hindi Prediction: कस पारि केबस के लरेश के स्चना कररभियेक लासा हो सेखदे गई है।\n"
          ]
        },
        {
          "output_type": "stream",
          "name": "stderr",
          "text": [
            " 58%|█████▊    | 3001/5194 [1:22:17<1:02:40,  1.71s/it]"
          ]
        },
        {
          "output_type": "stream",
          "name": "stdout",
          "text": [
            "iteration 3000 : 0.0011980212293565273\n",
            "English: the function was inaugurated by chief guest rajpur mla rajkumar.\n",
            "Hindi Translation: इसका उदघाटन आज महापौर राजबाला मलिक ने किया ।\n",
            "Hindi Prediction: फस े पप्ाटनाकर काान्र काज्ीर  कििक के काया ह\n"
          ]
        },
        {
          "output_type": "stream",
          "name": "stderr",
          "text": [
            " 60%|█████▉    | 3101/5194 [1:25:04<54:53,  1.57s/it]"
          ]
        },
        {
          "output_type": "stream",
          "name": "stdout",
          "text": [
            "iteration 3100 : 0.0013191949110478163\n",
            "English: thatd be great.\n",
            "Hindi Translation: यह बेहतरीन होगी।\n",
            "Hindi Prediction: इह बाहदर र है ा।\n"
          ]
        },
        {
          "output_type": "stream",
          "name": "stderr",
          "text": [
            " 62%|██████▏   | 3201/5194 [1:27:51<57:01,  1.72s/it]"
          ]
        },
        {
          "output_type": "stream",
          "name": "stdout",
          "text": [
            "iteration 3200 : 0.0015244135865941644\n",
            "English: congratulations to both of them.\n",
            "Hindi Translation: इन सभी को बधाई।\n",
            "Hindi Prediction: ससकपमी को कााई \n"
          ]
        },
        {
          "output_type": "stream",
          "name": "stderr",
          "text": [
            " 64%|██████▎   | 3301/5194 [1:30:35<53:44,  1.70s/it]"
          ]
        },
        {
          "output_type": "stream",
          "name": "stdout",
          "text": [
            "iteration 3300 : 0.0015101887984201312\n",
            "English: the hearing of ayodhya matter has been delayed further.\n",
            "Hindi Translation: अयोध्या मामले की सुनवाई एक बार फिर टल गई है।\n",
            "Hindi Prediction: इभ्धिया कानले की सुनवाई कक सेह किर स् कई।है।\n"
          ]
        },
        {
          "output_type": "stream",
          "name": "stderr",
          "text": [
            " 65%|██████▌   | 3401/5194 [1:33:25<50:36,  1.69s/it]"
          ]
        },
        {
          "output_type": "stream",
          "name": "stdout",
          "text": [
            "iteration 3400 : 0.0013709120685234666\n",
            "English: revising history\n",
            "Hindi Translation: इतिहास की समीक्षा\n",
            "Hindi Prediction: रसिहास के स्ाक्षा\n"
          ]
        },
        {
          "output_type": "stream",
          "name": "stderr",
          "text": [
            " 67%|██████▋   | 3501/5194 [1:36:14<51:58,  1.84s/it]"
          ]
        },
        {
          "output_type": "stream",
          "name": "stdout",
          "text": [
            "iteration 3500 : 0.0011482811532914639\n",
            "English: thank you all for your support!\n",
            "Hindi Translation: आप सबके समर्थन के लिए शुक्रिया।\n",
            "Hindi Prediction: आपककभ ो साय्थन की लिए काक्रिया \n"
          ]
        },
        {
          "output_type": "stream",
          "name": "stderr",
          "text": [
            " 69%|██████▉   | 3601/5194 [1:38:56<47:12,  1.78s/it]"
          ]
        },
        {
          "output_type": "stream",
          "name": "stdout",
          "text": [
            "iteration 3600 : 0.0013923387741670012\n",
            "English: where in city.\n",
            "Hindi Translation: और खुद शहर के नीचे?\n",
            "Hindi Prediction: जर हुद कुर हा लिते \n"
          ]
        },
        {
          "output_type": "stream",
          "name": "stderr",
          "text": [
            " 71%|███████▏  | 3701/5194 [1:41:37<41:32,  1.67s/it]"
          ]
        },
        {
          "output_type": "stream",
          "name": "stdout",
          "text": [
            "iteration 3700 : 0.0012786401202902198\n",
            "English: he committed suicide because he was upset about this.\n",
            "Hindi Translation: इसी से परेशान होकर उसने खुदकुशी कर ली थी।\n",
            "Hindi Prediction: उस  पे पहिशान को र कसेे कुल ाली की दि ही।\n"
          ]
        },
        {
          "output_type": "stream",
          "name": "stderr",
          "text": [
            " 73%|███████▎  | 3801/5194 [1:44:25<37:34,  1.62s/it]"
          ]
        },
        {
          "output_type": "stream",
          "name": "stdout",
          "text": [
            "iteration 3800 : 0.0011269645765423775\n",
            "English: yahweh said to me, don't pray for this people for their good.\n",
            "Hindi Translation: फिर यहोवा ने मुझ से कहा, इस प्रजा की भलाई के लिये प्रार्थना मत कर।\n",
            "Hindi Prediction: जिल भह वा के कुझेपे पाा, \"स पररभा कर हीा  हर लिएे हरराप्थ   किलकर \n"
          ]
        },
        {
          "output_type": "stream",
          "name": "stderr",
          "text": [
            " 75%|███████▌  | 3901/5194 [1:47:10<34:02,  1.58s/it]"
          ]
        },
        {
          "output_type": "stream",
          "name": "stdout",
          "text": [
            "iteration 3900 : 0.0013534077443182468\n",
            "English: very negatively.\n",
            "Hindi Translation: यह बहुत नकारात्मक है।\n",
            "Hindi Prediction: से बहुत हेररात्मक है।\n"
          ]
        },
        {
          "output_type": "stream",
          "name": "stderr",
          "text": [
            " 77%|███████▋  | 4001/5194 [1:49:57<32:20,  1.63s/it]"
          ]
        },
        {
          "output_type": "stream",
          "name": "stdout",
          "text": [
            "iteration 4000 : 0.0014415006153285503\n",
            "English: it is a government order.\n",
            "Hindi Translation: यह है सरकारी आदेश\n",
            "Hindi Prediction: यह सम करकार  कदेश                                                                                                                                                                                                                                                                                 \n"
          ]
        },
        {
          "output_type": "stream",
          "name": "stderr",
          "text": [
            " 79%|███████▉  | 4101/5194 [1:52:44<32:38,  1.79s/it]"
          ]
        },
        {
          "output_type": "stream",
          "name": "stdout",
          "text": [
            "iteration 4100 : 0.0013185229618102312\n",
            "English: the videography was done by the pmo cameraman\n",
            "Hindi Translation: पीएमओ के वीडियोग्राफर ने किया शूट\n",
            "Hindi Prediction: व्एम  के सीडियो  राम  ने कहया हुद                                                                                                                                                                                                                                                                                                                                       \n"
          ]
        },
        {
          "output_type": "stream",
          "name": "stderr",
          "text": [
            " 81%|████████  | 4201/5194 [1:55:29<26:43,  1.61s/it]"
          ]
        },
        {
          "output_type": "stream",
          "name": "stdout",
          "text": [
            "iteration 4200 : 0.0011152428342029452\n",
            "English: the accused took her to jammu.\n",
            "Hindi Translation: इसके बाद आरोपी उसे जम्मू ले आया।\n",
            "Hindi Prediction: इसके बाद करोपी कसक साकमू कग ल ा।\n"
          ]
        },
        {
          "output_type": "stream",
          "name": "stderr",
          "text": [
            " 83%|████████▎ | 4301/5194 [1:58:11<23:56,  1.61s/it]"
          ]
        },
        {
          "output_type": "stream",
          "name": "stdout",
          "text": [
            "iteration 4300 : 0.0015440438874065876\n",
            "English: she takes a temporary leave of absence from work.\n",
            "Hindi Translation: यह क्षतिपूर्ति के भुगतान की अनुमति के बिना है।\n",
            "Hindi Prediction: वह साषेि ूर्वि का लीगतान की हरुमति हा लाला हो।\n"
          ]
        },
        {
          "output_type": "stream",
          "name": "stderr",
          "text": [
            " 85%|████████▍ | 4401/5194 [2:00:56<20:59,  1.59s/it]"
          ]
        },
        {
          "output_type": "stream",
          "name": "stdout",
          "text": [
            "iteration 4400 : 0.0016874793218448758\n",
            "English: is this defection?\n",
            "Hindi Translation: क्या यह कोई प्रिविलेज है?\n",
            "Hindi Prediction: क्या यह क्ई क्रकयात???कै?\n"
          ]
        },
        {
          "output_type": "stream",
          "name": "stderr",
          "text": [
            " 87%|████████▋ | 4501/5194 [2:03:44<19:20,  1.67s/it]"
          ]
        },
        {
          "output_type": "stream",
          "name": "stdout",
          "text": [
            "iteration 4500 : 0.0011344485683366656\n",
            "English: leakage of income\n",
            "Hindi Translation: आय रिसाव\n",
            "Hindi Prediction: सर कोप्ल       र                         र                                                         रर        र                      \n"
          ]
        },
        {
          "output_type": "stream",
          "name": "stderr",
          "text": [
            " 89%|████████▊ | 4601/5194 [2:06:29<14:41,  1.49s/it]"
          ]
        },
        {
          "output_type": "stream",
          "name": "stdout",
          "text": [
            "iteration 4600 : 0.0014268014347180724\n",
            "English: experts answer\n",
            "Hindi Translation: एक्सपर्ट्स ने बताए जवाब\n",
            "Hindi Prediction: हक सप््ट स के कााय\n"
          ]
        },
        {
          "output_type": "stream",
          "name": "stderr",
          "text": [
            " 91%|█████████ | 4701/5194 [2:09:15<13:16,  1.61s/it]"
          ]
        },
        {
          "output_type": "stream",
          "name": "stdout",
          "text": [
            "iteration 4700 : 0.0011765158269554377\n",
            "English: first, she made a list of all the things she needed to study.\n",
            "Hindi Translation: सबसे पहले तो उसने जो स्टडी करना था उसकी पूरी लिस्ट बनाई ।\n",
            "Hindi Prediction: इी े कहले को कसेे सा कककेी केने चा कसके मररी हेख्ट कना  क\n"
          ]
        },
        {
          "output_type": "stream",
          "name": "stderr",
          "text": [
            " 92%|█████████▏| 4801/5194 [2:12:01<10:14,  1.56s/it]"
          ]
        },
        {
          "output_type": "stream",
          "name": "stdout",
          "text": [
            "iteration 4800 : 0.0012634058948606253\n",
            "English: it was a beautiful movie!\n",
            "Hindi Translation: फिल्म सुपरहिट रही।\n",
            "Hindi Prediction: यिल्म केन्  त्कहा \n"
          ]
        },
        {
          "output_type": "stream",
          "name": "stderr",
          "text": [
            " 94%|█████████▍| 4901/5194 [2:14:43<07:53,  1.62s/it]"
          ]
        },
        {
          "output_type": "stream",
          "name": "stdout",
          "text": [
            "iteration 4900 : 0.0015227209078148007\n",
            "English: china gate\n",
            "Hindi Translation: चाइना गेट\n",
            "Hindi Prediction: चीनए \n"
          ]
        },
        {
          "output_type": "stream",
          "name": "stderr",
          "text": [
            " 96%|█████████▋| 5001/5194 [2:17:28<05:19,  1.65s/it]"
          ]
        },
        {
          "output_type": "stream",
          "name": "stdout",
          "text": [
            "iteration 5000 : 0.0012297668727114797\n",
            "English: new york, october 11\n",
            "Hindi Translation: कालका, 11 अक्तूबर (निस)\n",
            "Hindi Prediction: नरर,ात 11 अक्तूबर (निस)।                       र            र                                                         र र               र र                                 र      र     र                                                                                             र                र र र र                                                         \n"
          ]
        },
        {
          "output_type": "stream",
          "name": "stderr",
          "text": [
            " 98%|█████████▊| 5101/5194 [2:20:05<02:16,  1.47s/it]"
          ]
        },
        {
          "output_type": "stream",
          "name": "stdout",
          "text": [
            "iteration 5100 : 0.001298509887419641\n",
            "English: the movie is directed by ss rajamouli.\n",
            "Hindi Translation: यह फिल्म एसएस राजामौली द्वारा निर्देशित है।\n",
            "Hindi Prediction: इह फिल्म ककीम काजन  त  हीवारा केर्देश त कै।\n"
          ]
        },
        {
          "output_type": "stream",
          "name": "stderr",
          "text": [
            "100%|██████████| 5194/5194 [2:22:30<00:00,  1.65s/it]\n"
          ]
        },
        {
          "output_type": "stream",
          "name": "stdout",
          "text": [
            "Epoch 5\n"
          ]
        },
        {
          "output_type": "stream",
          "name": "stderr",
          "text": [
            "  0%|          | 1/5194 [00:01<1:53:01,  1.31s/it]"
          ]
        },
        {
          "output_type": "stream",
          "name": "stdout",
          "text": [
            "iteration 0 : 0.0012271218001842499\n",
            "English: mithali to anchor indian team against australia in odis\n",
            "Hindi Translation: आस्ट्रेलिया के खिलाफ वनडे टीम की कमान मिताली को\n",
            "Hindi Prediction: ममाप्रिसिया के अिलाफ कि ि स्म के सह येकहला   के  र                                   र           रररर         र        र  \n"
          ]
        },
        {
          "output_type": "stream",
          "name": "stderr",
          "text": [
            "  2%|▏         | 101/5194 [02:44<2:14:48,  1.59s/it]"
          ]
        },
        {
          "output_type": "stream",
          "name": "stdout",
          "text": [
            "iteration 100 : 0.0013547656126320362\n",
            "English: what does the modi government have?\n",
            "Hindi Translation: मोदी सरकार के पास क्या है विकल्प\n",
            "Hindi Prediction: केदी करकार को ल्स करया है?कहवल्प  र           रररर   रर   र रर                र र  न           र ररर र      र रर          रर              ररर रर                     र रर र र     ररररर र रर     रर  र    र     र     र      र          र                    \n"
          ]
        },
        {
          "output_type": "stream",
          "name": "stderr",
          "text": [
            "  4%|▍         | 201/5194 [05:27<2:22:15,  1.71s/it]"
          ]
        },
        {
          "output_type": "stream",
          "name": "stdout",
          "text": [
            "iteration 200 : 0.0011297310702502728\n",
            "English: the court awarded all the four life imprisonment.\n",
            "Hindi Translation: कोर्ट ने सभी को आजीवन कारावास की सजा सुनाई है.\n",
            "Hindi Prediction: कार्ट ने कमी के सर वन को ्तायीकी जुा ककराई है।\n"
          ]
        },
        {
          "output_type": "stream",
          "name": "stderr",
          "text": [
            "  6%|▌         | 301/5194 [08:12<2:20:47,  1.73s/it]"
          ]
        },
        {
          "output_type": "stream",
          "name": "stdout",
          "text": [
            "iteration 300 : 0.0013992282329127192\n",
            "English: after this, she became unconscious.\n",
            "Hindi Translation: इसके बाद वह बेसुध हो गई थी।\n",
            "Hindi Prediction: इसके बाद यि सहह क कै गय।ही।\n"
          ]
        },
        {
          "output_type": "stream",
          "name": "stderr",
          "text": [
            "  8%|▊         | 401/5194 [10:56<2:06:58,  1.59s/it]"
          ]
        },
        {
          "output_type": "stream",
          "name": "stdout",
          "text": [
            "iteration 400 : 0.0010849663522094488\n",
            "English: the contest was over before it started as the opponent backed off.\n",
            "Hindi Translation: विरोधी के हट जाने से प्रतियोगिता शुरु से पहले ही खत्म हो गई।\n",
            "Hindi Prediction: इिशोध  के पाककानक के पहरकिको ित  कुरू के हूले की कारम को गय \n"
          ]
        },
        {
          "output_type": "stream",
          "name": "stderr",
          "text": [
            " 10%|▉         | 501/5194 [13:37<1:55:51,  1.48s/it]"
          ]
        },
        {
          "output_type": "stream",
          "name": "stdout",
          "text": [
            "iteration 500 : 0.0012617208994925022\n",
            "English: the chromium authors\n",
            "Hindi Translation: क्रोमियम लेखक\n",
            "Hindi Prediction: मायिनियम के न                                                                                                                          र       र                                                                                                                                                                                                                        \n"
          ]
        },
        {
          "output_type": "stream",
          "name": "stderr",
          "text": [
            " 12%|█▏        | 601/5194 [16:23<1:58:06,  1.54s/it]"
          ]
        },
        {
          "output_type": "stream",
          "name": "stdout",
          "text": [
            "iteration 600 : 0.0015363338170573115\n",
            "English: this article moved me deeply. i thank god so much that he does not see us the way we see ourselves.\n",
            "Hindi Translation: इस लेख ने मेरे दिल को छू लिया है ।\n",
            "Hindi Prediction: इस पिकनके कुरे लिन्को पाटकगखा जै क\n"
          ]
        },
        {
          "output_type": "stream",
          "name": "stderr",
          "text": [
            " 13%|█▎        | 701/5194 [19:06<2:00:30,  1.61s/it]"
          ]
        },
        {
          "output_type": "stream",
          "name": "stdout",
          "text": [
            "iteration 700 : 0.0016196146607398987\n",
            "English: oesophagoscopy is done in oesophagitis.\n",
            "Hindi Translation: ग्रासनलीशोथ ग्रासनलीगृहा दर्शन किया गया.\n",
            "Hindi Prediction: सौराम्     नकोरेह्   ्तीरकि्जन करया जया \n"
          ]
        },
        {
          "output_type": "stream",
          "name": "stderr",
          "text": [
            " 15%|█▌        | 801/5194 [21:49<2:03:37,  1.69s/it]"
          ]
        },
        {
          "output_type": "stream",
          "name": "stdout",
          "text": [
            "iteration 800 : 0.0014509223401546478\n",
            "English: and this campaign ...\n",
            "Hindi Translation: यह अभियान .\n",
            "Hindi Prediction: औह एभीयान क\n"
          ]
        },
        {
          "output_type": "stream",
          "name": "stderr",
          "text": [
            " 17%|█▋        | 901/5194 [24:36<2:04:14,  1.74s/it]"
          ]
        },
        {
          "output_type": "stream",
          "name": "stdout",
          "text": [
            "iteration 900 : 0.0013700929703190923\n",
            "English: amitabh bachchan was also seen at the bash.\n",
            "Hindi Translation: इस दौरान अमिताभ बच्चन भी नजर आए.\n",
            "Hindi Prediction: अस मौरान कलिताभ कच्ची की बेर आ  \n"
          ]
        },
        {
          "output_type": "stream",
          "name": "stderr",
          "text": [
            " 19%|█▉        | 1001/5194 [27:15<1:46:06,  1.52s/it]"
          ]
        },
        {
          "output_type": "stream",
          "name": "stdout",
          "text": [
            "iteration 1000 : 0.0011654910631477833\n",
            "English: to enter into a contract to obtain loan.\n",
            "Hindi Translation: ऋण लेने के लिए कोई करार किया जाना।\n",
            "Hindi Prediction: इष कगखे की लिए का  को र कोया जारे \n"
          ]
        },
        {
          "output_type": "stream",
          "name": "stderr",
          "text": [
            " 21%|██        | 1101/5194 [30:01<1:49:16,  1.60s/it]"
          ]
        },
        {
          "output_type": "stream",
          "name": "stdout",
          "text": [
            "iteration 1100 : 0.0012385798618197441\n",
            "English: this can be annoying.\n",
            "Hindi Translation: इससे मन व्यथित हो सकता है।\n",
            "Hindi Prediction: यससे कााकायक तिहै सकता है।\n"
          ]
        },
        {
          "output_type": "stream",
          "name": "stderr",
          "text": [
            " 23%|██▎       | 1201/5194 [32:49<1:47:28,  1.61s/it]"
          ]
        },
        {
          "output_type": "stream",
          "name": "stdout",
          "text": [
            "iteration 1200 : 0.001152518205344677\n",
            "English: the state government has declared a day's state mourning.\n",
            "Hindi Translation: राज्य सरकार ने एक दिन का राजकीय शोक घोषित किया है।\n",
            "Hindi Prediction: साज्य सरकार के कक मिन के पाज्   हु  काषणत हरया गै।\n"
          ]
        },
        {
          "output_type": "stream",
          "name": "stderr",
          "text": [
            " 25%|██▌       | 1301/5194 [35:36<1:52:37,  1.74s/it]"
          ]
        },
        {
          "output_type": "stream",
          "name": "stdout",
          "text": [
            "iteration 1300 : 0.0014724622014909983\n",
            "English: definition of village electrification\n",
            "Hindi Translation: ग्रामीण विद्युतीकरण की परिभाषा\n",
            "Hindi Prediction: सिराम   किशेयातिय ण के स्िषाषा\n"
          ]
        },
        {
          "output_type": "stream",
          "name": "stderr",
          "text": [
            " 27%|██▋       | 1401/5194 [38:18<1:37:06,  1.54s/it]"
          ]
        },
        {
          "output_type": "stream",
          "name": "stdout",
          "text": [
            "iteration 1400 : 0.0011264001950621605\n",
            "English: health horoscope 2020\n",
            "Hindi Translation: वृषभ राशिफल 2020\n",
            "Hindi Prediction: सिदिा2ाषिवल 2000                र      र                                                                                                      र               र                      र  र र    र   र           र र                    र                                   र                                       \n"
          ]
        },
        {
          "output_type": "stream",
          "name": "stderr",
          "text": [
            " 29%|██▉       | 1501/5194 [41:06<1:53:01,  1.84s/it]"
          ]
        },
        {
          "output_type": "stream",
          "name": "stdout",
          "text": [
            "iteration 1500 : 0.001458063255995512\n",
            "English: integrated family welfare, immunisation and mch programme and other national health programme etc.\n",
            "Hindi Translation: एकीकृत परिवार कल्याण, प्रतिरक्षण तथा एम सी एच कार्यक्रम और अन्य राष्ट्रीय स्वास्थ्य कार्यक्रम आदि।\n",
            "Hindi Prediction: मक मातिकरिवार के पाण  मररमि  ्ता कका ककएमेमसकआके ्य ्रम कर सनुय साज्ट्र य केथास्थ्य की ्यव्रम कयेत\n"
          ]
        },
        {
          "output_type": "stream",
          "name": "stderr",
          "text": [
            " 31%|███       | 1601/5194 [43:52<1:44:06,  1.74s/it]"
          ]
        },
        {
          "output_type": "stream",
          "name": "stdout",
          "text": [
            "iteration 1600 : 0.0013627171283587813\n",
            "English: the thar express has been running between jodhpur and karachi every saturday morning since services resumed on february 18, 2006, after a 41-year suspension.\n",
            "Hindi Translation: 2006 से चल रही है यह ट्रेन थार एक्सप्रेस 18 फरवरी 2006 से जोधपुर के भगत की कोठी स्टेशन से कराची के बीच हर शुक्रवार रात को चलती है।\n",
            "Hindi Prediction: य011 के अातराा कै का क्रैन के  कक स ्रेस क0 जरवरी क011 के हा  ार का लाााकि गा   केट्श  के की यानका दाच कोासुर्रिा  कहज हर कुाा है।\n"
          ]
        },
        {
          "output_type": "stream",
          "name": "stderr",
          "text": [
            " 33%|███▎      | 1701/5194 [46:38<1:51:28,  1.91s/it]"
          ]
        },
        {
          "output_type": "stream",
          "name": "stdout",
          "text": [
            "iteration 1700 : 0.0011844785185530782\n",
            "English: dm& rd\n",
            "Hindi Translation: डीएम और आरडी\n",
            "Hindi Prediction: डीएम मर डडडी\n"
          ]
        },
        {
          "output_type": "stream",
          "name": "stderr",
          "text": [
            " 35%|███▍      | 1801/5194 [49:24<1:40:08,  1.77s/it]"
          ]
        },
        {
          "output_type": "stream",
          "name": "stdout",
          "text": [
            "iteration 1800 : 0.001404954819008708\n",
            "English: the value of a diamond is based on the 4 cs: cut, colour, clarity and carat.\n",
            "Hindi Translation: हीरे का आकलन हीरे के 4 सी (कट, कलर, क्लेरिटी, करेट) से की जाती है।\n",
            "Hindi Prediction: इम ो सी पया  कै ् से ब अाबकएेी सो्ी 4ेलोकिय   जोीगि के कि जा ी है।\n"
          ]
        },
        {
          "output_type": "stream",
          "name": "stderr",
          "text": [
            " 37%|███▋      | 1901/5194 [52:07<1:17:41,  1.42s/it]"
          ]
        },
        {
          "output_type": "stream",
          "name": "stdout",
          "text": [
            "iteration 1900 : 0.0011590805370360613\n",
            "English: the situation is much better now.\n",
            "Hindi Translation: अब इस सिस्टम को काफी आसान बना दिया गया है।\n",
            "Hindi Prediction: सभ ससकपमराट ाकारबाफी कसान हनानहेया गया है।\n"
          ]
        },
        {
          "output_type": "stream",
          "name": "stderr",
          "text": [
            " 39%|███▊      | 2001/5194 [54:49<1:29:49,  1.69s/it]"
          ]
        },
        {
          "output_type": "stream",
          "name": "stdout",
          "text": [
            "iteration 2000 : 0.001450162148103118\n",
            "English: the police have sent the body of the woman for a postmortem.\n",
            "Hindi Translation: पुलिस ने अज्ञात महिला के शव को पोस्टमार्टम के लिए भेजा है।\n",
            "Hindi Prediction: पुलिस ने मप्ञात कििला के लव को पोस्टमार्टम के लिए भेज  दै।\n"
          ]
        },
        {
          "output_type": "stream",
          "name": "stderr",
          "text": [
            " 40%|████      | 2101/5194 [57:37<1:27:51,  1.70s/it]"
          ]
        },
        {
          "output_type": "stream",
          "name": "stdout",
          "text": [
            "iteration 2100 : 0.00130690005607903\n",
            "English: this is done to save the reputation of the much-maligned police force.\n",
            "Hindi Translation: यह बहुत अधिक दुर्भावनापूर्ण पुलिस बल की प्रतिष्ठा को बचाने के लिए किया जाता है।\n",
            "Hindi Prediction: यह साुत कपिकासरन्घरग   ार्ण करलिस का हा स्रति ्ठ  कर साावे की लिए बाया जाता है।\n"
          ]
        },
        {
          "output_type": "stream",
          "name": "stderr",
          "text": [
            " 42%|████▏     | 2201/5194 [1:00:21<1:20:20,  1.61s/it]"
          ]
        },
        {
          "output_type": "stream",
          "name": "stdout",
          "text": [
            "iteration 2200 : 0.001313217100687325\n",
            "English: india just a wicket away from victory.\n",
            "Hindi Translation: भारतीय टीम जीत से महज एक विकेट दूर है.\n",
            "Hindi Prediction: भारत य कीम कीत के भुा कक निकेट किर है।\n"
          ]
        },
        {
          "output_type": "stream",
          "name": "stderr",
          "text": [
            " 44%|████▍     | 2301/5194 [1:03:06<1:20:16,  1.66s/it]"
          ]
        },
        {
          "output_type": "stream",
          "name": "stdout",
          "text": [
            "iteration 2300 : 0.00134840898681432\n",
            "English: this is very good news for north korea and the world -- big progress!\n",
            "Hindi Translation: ये उत्तर कोरिया और पूरे विश्व के लिए बहुत अच्छी खबर है.\n",
            "Hindi Prediction: यह कन्तर के ्या कर क्रे काक्व का लिए कहुत कच्छा हुर है।\n"
          ]
        },
        {
          "output_type": "stream",
          "name": "stderr",
          "text": [
            " 46%|████▌     | 2401/5194 [1:05:48<1:21:52,  1.76s/it]"
          ]
        },
        {
          "output_type": "stream",
          "name": "stdout",
          "text": [
            "iteration 2400 : 0.001171501469798386\n",
            "English: as a result, he died on the spot.\n",
            "Hindi Translation: जिससे घटनास्थल पर उसकी मौत हो गई।\n",
            "Hindi Prediction: उिससे करना ्तल कर हसकी मौत हो गय।\n"
          ]
        },
        {
          "output_type": "stream",
          "name": "stderr",
          "text": [
            " 48%|████▊     | 2501/5194 [1:08:34<1:15:17,  1.68s/it]"
          ]
        },
        {
          "output_type": "stream",
          "name": "stdout",
          "text": [
            "iteration 2500 : 0.0012699742801487446\n",
            "English: 'peace be upon moses and aaron'\n",
            "Hindi Translation: \"कि \"\"सलाम है मूसा और हारून पर!\"\"\"\n",
            "Hindi Prediction: प\"ोसप\"\"म्म को कुसू कर परर न कर \n"
          ]
        },
        {
          "output_type": "stream",
          "name": "stderr",
          "text": [
            " 50%|█████     | 2601/5194 [1:11:17<1:09:46,  1.61s/it]"
          ]
        },
        {
          "output_type": "stream",
          "name": "stdout",
          "text": [
            "iteration 2600 : 0.001432387507520616\n",
            "English: what can we say?\n",
            "Hindi Translation: वह कह भी क्या सकती है?\n",
            "Hindi Prediction: कह क्ाकी क्या ह्ता है?\n"
          ]
        },
        {
          "output_type": "stream",
          "name": "stderr",
          "text": [
            " 52%|█████▏    | 2701/5194 [1:14:00<1:05:01,  1.56s/it]"
          ]
        },
        {
          "output_type": "stream",
          "name": "stdout",
          "text": [
            "iteration 2700 : 0.001177037600427866\n",
            "English: eu-russia relations\n",
            "Hindi Translation: यूरोप और रूस कनेक्शन\n",
            "Hindi Prediction: सूरोपीसर साप सरेक्टन\n"
          ]
        },
        {
          "output_type": "stream",
          "name": "stderr",
          "text": [
            " 54%|█████▍    | 2801/5194 [1:16:43<1:05:18,  1.64s/it]"
          ]
        },
        {
          "output_type": "stream",
          "name": "stdout",
          "text": [
            "iteration 2800 : 0.001171513693407178\n",
            "English: the film is written and directed by prawaal raman.\n",
            "Hindi Translation: फिल्म का निर्देशन प्रबल रमन ने किया है।\n",
            "Hindi Prediction: फिल्म के निर्देश  करराल्कााेडे डिया गै।\n"
          ]
        },
        {
          "output_type": "stream",
          "name": "stderr",
          "text": [
            " 56%|█████▌    | 2901/5194 [1:19:30<1:04:19,  1.68s/it]"
          ]
        },
        {
          "output_type": "stream",
          "name": "stdout",
          "text": [
            "iteration 2900 : 0.0011806238908320665\n",
            "English: clear instructions have been given to the dm of every district in this regard.\n",
            "Hindi Translation: इस बाबत सीएम के आदेश की सूचना प्रत्येक जिला को दे दी गई है.\n",
            "Hindi Prediction: इस बाता केमस के लरेश के जुचना दररसिय क सामा का सेशदो हई है।\n"
          ]
        },
        {
          "output_type": "stream",
          "name": "stderr",
          "text": [
            " 58%|█████▊    | 3001/5194 [1:22:17<1:01:57,  1.70s/it]"
          ]
        },
        {
          "output_type": "stream",
          "name": "stdout",
          "text": [
            "iteration 3000 : 0.0011806983966380358\n",
            "English: the function was inaugurated by chief guest rajpur mla rajkumar.\n",
            "Hindi Translation: इसका उदघाटन आज महापौर राजबाला मलिक ने किया ।\n",
            "Hindi Prediction: कस े नत्ाटनेकय काानार पाजसीज  कुिकरके काया ज\n"
          ]
        },
        {
          "output_type": "stream",
          "name": "stderr",
          "text": [
            " 60%|█████▉    | 3101/5194 [1:25:00<1:02:01,  1.78s/it]"
          ]
        },
        {
          "output_type": "stream",
          "name": "stdout",
          "text": [
            "iteration 3100 : 0.0012465642066672444\n",
            "English: thatd be great.\n",
            "Hindi Translation: यह बेहतरीन होगी।\n",
            "Hindi Prediction: जह बाहतर न है ा।\n"
          ]
        },
        {
          "output_type": "stream",
          "name": "stderr",
          "text": [
            " 62%|██████▏   | 3201/5194 [1:27:44<59:06,  1.78s/it]"
          ]
        },
        {
          "output_type": "stream",
          "name": "stdout",
          "text": [
            "iteration 3200 : 0.0014993705553933978\n",
            "English: congratulations to both of them.\n",
            "Hindi Translation: इन सभी को बधाई।\n",
            "Hindi Prediction: कसकसमी को बााई \n"
          ]
        },
        {
          "output_type": "stream",
          "name": "stderr",
          "text": [
            " 64%|██████▎   | 3301/5194 [1:30:28<47:55,  1.52s/it]"
          ]
        },
        {
          "output_type": "stream",
          "name": "stdout",
          "text": [
            "iteration 3300 : 0.0015043281018733978\n",
            "English: the hearing of ayodhya matter has been delayed further.\n",
            "Hindi Translation: अयोध्या मामले की सुनवाई एक बार फिर टल गई है।\n",
            "Hindi Prediction: सनाध या कामले की सररवाई कक बेह किल भ् गई।है।\n"
          ]
        },
        {
          "output_type": "stream",
          "name": "stderr",
          "text": [
            " 65%|██████▌   | 3401/5194 [1:33:10<51:43,  1.73s/it]"
          ]
        },
        {
          "output_type": "stream",
          "name": "stdout",
          "text": [
            "iteration 3400 : 0.0013290272327139974\n",
            "English: revising history\n",
            "Hindi Translation: इतिहास की समीक्षा\n",
            "Hindi Prediction: ससिहास का त्ाक्षण\n"
          ]
        },
        {
          "output_type": "stream",
          "name": "stderr",
          "text": [
            " 67%|██████▋   | 3501/5194 [1:35:56<47:17,  1.68s/it]"
          ]
        },
        {
          "output_type": "stream",
          "name": "stdout",
          "text": [
            "iteration 3500 : 0.0011114113731309772\n",
            "English: thank you all for your support!\n",
            "Hindi Translation: आप सबके समर्थन के लिए शुक्रिया।\n",
            "Hindi Prediction: आपककभके लाय्थन का लिए आाक्रिया \n"
          ]
        },
        {
          "output_type": "stream",
          "name": "stderr",
          "text": [
            " 69%|██████▉   | 3601/5194 [1:38:43<39:25,  1.48s/it]"
          ]
        },
        {
          "output_type": "stream",
          "name": "stdout",
          "text": [
            "iteration 3600 : 0.0013464607764035463\n",
            "English: where in city.\n",
            "Hindi Translation: और खुद शहर के नीचे?\n",
            "Hindi Prediction: जर कुद कुी ही सिचे \n"
          ]
        },
        {
          "output_type": "stream",
          "name": "stderr",
          "text": [
            " 71%|███████▏  | 3701/5194 [1:41:28<41:55,  1.68s/it]"
          ]
        },
        {
          "output_type": "stream",
          "name": "stdout",
          "text": [
            "iteration 3700 : 0.0012328025186434388\n",
            "English: he committed suicide because he was upset about this.\n",
            "Hindi Translation: इसी से परेशान होकर उसने खुदकुशी कर ली थी।\n",
            "Hindi Prediction: उसक पे पह शान कोनर उसके उिद ुशी की लि गी।\n"
          ]
        },
        {
          "output_type": "stream",
          "name": "stderr",
          "text": [
            " 73%|███████▎  | 3801/5194 [1:44:12<36:42,  1.58s/it]"
          ]
        },
        {
          "output_type": "stream",
          "name": "stdout",
          "text": [
            "iteration 3800 : 0.0011169427307322621\n",
            "English: yahweh said to me, don't pray for this people for their good.\n",
            "Hindi Translation: फिर यहोवा ने मुझ से कहा, इस प्रजा की भलाई के लिये प्रार्थना मत कर।\n",
            "Hindi Prediction: यिल कह वा के काझेपे पहा  पसकपररोा के कीा  हर लिएा कररकथ्थना कि कर \n"
          ]
        },
        {
          "output_type": "stream",
          "name": "stderr",
          "text": [
            " 75%|███████▌  | 3901/5194 [1:46:51<31:28,  1.46s/it]"
          ]
        },
        {
          "output_type": "stream",
          "name": "stdout",
          "text": [
            "iteration 3900 : 0.0013559464132413268\n",
            "English: very negatively.\n",
            "Hindi Translation: यह बहुत नकारात्मक है।\n",
            "Hindi Prediction: से बहुत हिीरा ्मक है।\n"
          ]
        },
        {
          "output_type": "stream",
          "name": "stderr",
          "text": [
            " 77%|███████▋  | 4001/5194 [1:49:38<31:38,  1.59s/it]"
          ]
        },
        {
          "output_type": "stream",
          "name": "stdout",
          "text": [
            "iteration 4000 : 0.0014024658594280481\n",
            "English: it is a government order.\n",
            "Hindi Translation: यह है सरकारी आदेश\n",
            "Hindi Prediction: यह एम कबकार  हवरश                                                                                                                                                                                                                                                                                                 \n"
          ]
        },
        {
          "output_type": "stream",
          "name": "stderr",
          "text": [
            " 79%|███████▉  | 4101/5194 [1:52:23<30:33,  1.68s/it]"
          ]
        },
        {
          "output_type": "stream",
          "name": "stdout",
          "text": [
            "iteration 4100 : 0.0012901562731713057\n",
            "English: the videography was done by the pmo cameraman\n",
            "Hindi Translation: पीएमओ के वीडियोग्राफर ने किया शूट\n",
            "Hindi Prediction: इुएम  का सीडियो  राम ्के कीया गुक                                                                                                                                                                                                                                                                                                                                       \n"
          ]
        },
        {
          "output_type": "stream",
          "name": "stderr",
          "text": [
            " 81%|████████  | 4201/5194 [1:55:06<27:29,  1.66s/it]"
          ]
        },
        {
          "output_type": "stream",
          "name": "stdout",
          "text": [
            "iteration 4200 : 0.001069702091626823\n",
            "English: the accused took her to jammu.\n",
            "Hindi Translation: इसके बाद आरोपी उसे जम्मू ले आया।\n",
            "Hindi Prediction: आस ा बाद करोपी कसक ग्ामू के जरे।\n"
          ]
        },
        {
          "output_type": "stream",
          "name": "stderr",
          "text": [
            " 83%|████████▎ | 4301/5194 [1:57:50<24:11,  1.63s/it]"
          ]
        },
        {
          "output_type": "stream",
          "name": "stdout",
          "text": [
            "iteration 4300 : 0.001537550357170403\n",
            "English: she takes a temporary leave of absence from work.\n",
            "Hindi Translation: यह क्षतिपूर्ति के भुगतान की अनुमति के बिना है।\n",
            "Hindi Prediction: वह काषेि ूर्वि का लीगतान का हलुमाि का लाला हो।\n"
          ]
        },
        {
          "output_type": "stream",
          "name": "stderr",
          "text": [
            " 85%|████████▍ | 4401/5194 [2:00:37<22:31,  1.70s/it]"
          ]
        },
        {
          "output_type": "stream",
          "name": "stdout",
          "text": [
            "iteration 4400 : 0.0016081217909231782\n",
            "English: is this defection?\n",
            "Hindi Translation: क्या यह कोई प्रिविलेज है?\n",
            "Hindi Prediction: क्या यह क्ई स्रायाश्श?है?\n"
          ]
        },
        {
          "output_type": "stream",
          "name": "stderr",
          "text": [
            " 87%|████████▋ | 4501/5194 [2:03:21<20:18,  1.76s/it]"
          ]
        },
        {
          "output_type": "stream",
          "name": "stdout",
          "text": [
            "iteration 4500 : 0.0011215077247470617\n",
            "English: leakage of income\n",
            "Hindi Translation: आय रिसाव\n",
            "Hindi Prediction: लवाकहप्रध                                                                                                       न                                                                                                                                                                                                                                                       \n"
          ]
        },
        {
          "output_type": "stream",
          "name": "stderr",
          "text": [
            " 89%|████████▊ | 4601/5194 [2:06:06<17:31,  1.77s/it]"
          ]
        },
        {
          "output_type": "stream",
          "name": "stdout",
          "text": [
            "iteration 4600 : 0.0014148022746667266\n",
            "English: experts answer\n",
            "Hindi Translation: एक्सपर्ट्स ने बताए जवाब\n",
            "Hindi Prediction: पक्सपे्ट र के काायगगााब\n"
          ]
        },
        {
          "output_type": "stream",
          "name": "stderr",
          "text": [
            " 91%|█████████ | 4701/5194 [2:08:51<14:26,  1.76s/it]"
          ]
        },
        {
          "output_type": "stream",
          "name": "stdout",
          "text": [
            "iteration 4700 : 0.0011625068727880716\n",
            "English: first, she made a list of all the things she needed to study.\n",
            "Hindi Translation: सबसे पहले तो उसने जो स्टडी करना था उसकी पूरी लिस्ट बनाई ।\n",
            "Hindi Prediction: इा े कहले को मसेे की ककवाी कोने हा।।सके कहछ् कगख्स कनाए ह\n"
          ]
        },
        {
          "output_type": "stream",
          "name": "stderr",
          "text": [
            " 92%|█████████▏| 4801/5194 [2:11:37<11:32,  1.76s/it]"
          ]
        },
        {
          "output_type": "stream",
          "name": "stdout",
          "text": [
            "iteration 4800 : 0.001236395095475018\n",
            "English: it was a beautiful movie!\n",
            "Hindi Translation: फिल्म सुपरहिट रही।\n",
            "Hindi Prediction: यिल्म केन् ेत कहा \n"
          ]
        },
        {
          "output_type": "stream",
          "name": "stderr",
          "text": [
            " 94%|█████████▍| 4901/5194 [2:14:19<07:42,  1.58s/it]"
          ]
        },
        {
          "output_type": "stream",
          "name": "stdout",
          "text": [
            "iteration 4900 : 0.0015121727483347058\n",
            "English: china gate\n",
            "Hindi Translation: चाइना गेट\n",
            "Hindi Prediction: चीरए \n"
          ]
        },
        {
          "output_type": "stream",
          "name": "stderr",
          "text": [
            " 96%|█████████▋| 5001/5194 [2:17:00<05:53,  1.83s/it]"
          ]
        },
        {
          "output_type": "stream",
          "name": "stdout",
          "text": [
            "iteration 5000 : 0.0012054233811795712\n",
            "English: new york, october 11\n",
            "Hindi Translation: कालका, 11 अक्तूबर (निस)\n",
            "Hindi Prediction: नोर,ात 1  फक्तूबर (निस)\n"
          ]
        },
        {
          "output_type": "stream",
          "name": "stderr",
          "text": [
            " 98%|█████████▊| 5101/5194 [2:19:47<02:40,  1.73s/it]"
          ]
        },
        {
          "output_type": "stream",
          "name": "stdout",
          "text": [
            "iteration 5100 : 0.0012551108375191689\n",
            "English: the movie is directed by ss rajamouli.\n",
            "Hindi Translation: यह फिल्म एसएस राजामौली द्वारा निर्देशित है।\n",
            "Hindi Prediction: इह फिल्म ककीमएकेज्  र  हेवारा केर्देश त है।\n"
          ]
        },
        {
          "output_type": "stream",
          "name": "stderr",
          "text": [
            "100%|██████████| 5194/5194 [2:22:22<00:00,  1.64s/it]\n"
          ]
        },
        {
          "output_type": "stream",
          "name": "stdout",
          "text": [
            "weights saved in drive\n"
          ]
        }
      ]
    },
    {
      "cell_type": "code",
      "source": [
        "checkpoint = torch.load('/content/drive/MyDrive/transformer_weights_6.pth')\n",
        "transformer.load_state_dict(checkpoint['model_state_dict'])\n",
        "optim.load_state_dict(checkpoint['optimizer_state_dict'])\n",
        "print(\"Model weights loaded.\")\n",
        "\n",
        "\n",
        "transformer.eval()\n",
        "def translate(eng_sentence):\n",
        "  eng_sentence = (eng_sentence,)\n",
        "  hin_sentence = (\"\",)\n",
        "  for word_counter in range(max_sequence_length):\n",
        "    encoder_self_attention_mask, decoder_self_attention_mask, decoder_cross_attention_mask= create_mask(eng_sentence, hin_sentence)\n",
        "    predictions = transformer(eng_sentence,\n",
        "                              hin_sentence,\n",
        "                              encoder_self_attention_mask,\n",
        "                              decoder_self_attention_mask,\n",
        "                              decoder_cross_attention_mask,\n",
        "                              encoder_start_token=False,\n",
        "                              encoder_end_token=False,\n",
        "                              decoder_start_token=True,\n",
        "                              decoder_end_token=False)\n",
        "    next_token_prob_distribution = predictions[0][word_counter]\n",
        "    next_token_index = torch.argmax(next_token_prob_distribution).item()\n",
        "    next_token = index_hin[next_token_index]\n",
        "    hin_sentence = (hin_sentence[0] + next_token, )\n",
        "    if next_token == END_TOKEN:\n",
        "      break\n",
        "  return hin_sentence[0]\n"
      ],
      "metadata": {
        "colab": {
          "base_uri": "https://localhost:8080/"
        },
        "id": "21aSCRaNpWzx",
        "outputId": "9c5b46c3-e9d6-403a-d78e-3c192c8d78a7"
      },
      "execution_count": 97,
      "outputs": [
        {
          "output_type": "stream",
          "name": "stdout",
          "text": [
            "Model weights loaded.\n"
          ]
        }
      ]
    },
    {
      "cell_type": "code",
      "source": [
        "translation = translate(\"what should we do when the day starts?\")\n",
        "print(translation)"
      ],
      "metadata": {
        "colab": {
          "base_uri": "https://localhost:8080/"
        },
        "id": "uCDdU0mXpc8n",
        "outputId": "cd91eac3-bd2f-4b14-e5fe-a63adc1cae3c"
      },
      "execution_count": 101,
      "outputs": [
        {
          "output_type": "stream",
          "name": "stdout",
          "text": [
            "क्या है कि क्या करने के लिए क्या है?<END>\n"
          ]
        }
      ]
    },
    {
      "cell_type": "code",
      "source": [
        "translation = translate(\"i hope this works.\")\n",
        "print(translation)"
      ],
      "metadata": {
        "colab": {
          "base_uri": "https://localhost:8080/"
        },
        "id": "kj6QuDmH0kQO",
        "outputId": "a74891b1-d3c0-4b8d-9d99-af194ea810d8"
      },
      "execution_count": 100,
      "outputs": [
        {
          "output_type": "stream",
          "name": "stdout",
          "text": [
            "मुझे लगता है कि यह काम कर रहा है।<END>\n"
          ]
        }
      ]
    }
  ],
  "metadata": {
    "interpreter": {
      "hash": "96f8c5df1e020d2a6893bbac30faae52d182d2836032a8706548afea598110b6"
    },
    "kernelspec": {
      "display_name": "Python 3",
      "name": "python3"
    },
    "language_info": {
      "codemirror_mode": {
        "name": "ipython",
        "version": 3
      },
      "file_extension": ".py",
      "mimetype": "text/x-python",
      "name": "python",
      "nbconvert_exporter": "python",
      "pygments_lexer": "ipython3",
      "version": "3.11.4"
    },
    "orig_nbformat": 4,
    "colab": {
      "provenance": [],
      "gpuType": "A100",
      "machine_shape": "hm"
    },
    "accelerator": "GPU"
  },
  "nbformat": 4,
  "nbformat_minor": 0
}